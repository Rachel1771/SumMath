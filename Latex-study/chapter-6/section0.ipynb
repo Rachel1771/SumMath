{
 "cells": [
  {
   "cell_type": "markdown",
   "metadata": {},
   "source": [
    "## 第六章 插入图形\n",
    "\n",
    "### 导言\n",
    "\n",
    "图形是论文中描述实验结果及相关情况的一种重要方式，也是论文中经常使用的一种特殊信息语言。一般来说，在科技论文中，通过正确地使用图形来辅助论文内容的理解与结果的表达，可以更直观地展现论文内容，有助于得出正确结论。尤其在科研的数据分析中，能形直观地反映变量与变量之间的关系，能清楚地表达某一变量的发展趋势等。很多时候图形能帮助读者领会文字难以表达的内容，同样重要的是它往往可以起到减少篇幅、方便读者阅读的作用。许多图形是在做实验时用相应的软件生成，在撰写论文时需要将其插入文档中，LaTeX可以较为方便地插入各种格式的图形。\n",
    "\n",
    "本章将介绍如何在LaTeX中插入图形：\n",
    "\n",
    "- 首先在第1节中介绍如何以浮动体的形式插入图片，允许LaTeX根据内置的算法对图片位置进行调整；\n",
    "\n",
    "- 第2节中介绍以非浮动体形式插入图片的环境命令；\n",
    "\n",
    "- 第3节中介绍在文档中插入图目录、表目录的方式；\n",
    "\n",
    "- 第4节中介绍对图表标题样式的调整方式；\n",
    "\n",
    "- 第5节中介绍如何插入子图，并对子图的横纵向间距进行调整；\n",
    "\n",
    "- 第6节中介绍图片的排列布局方式。\n",
    "\n",
    "通过本章的学习，读者会对在LaTeX插入图形及调整图形的格式有较为全面的认识，能够根据各种需求调整科技论文中的各类图形格式。\n"
   ]
  },
  {
   "cell_type": "markdown",
   "metadata": {},
   "source": [
    "【继续】[**6.1 基本的插图方式**](https://nbviewer.jupyter.org/github/xinychen/latex-cookbook/blob/main/chapter-6/section1.ipynb)"
   ]
  },
  {
   "cell_type": "markdown",
   "metadata": {},
   "source": [
    "### License\n",
    "\n",
    "<div class=\"alert alert-block alert-danger\">\n",
    "<b>This work is released under the MIT license.</b>\n",
    "</div>"
   ]
  }
 ],
 "metadata": {
  "kernelspec": {
   "display_name": "Python 3",
   "language": "python",
   "name": "python3"
  },
  "language_info": {
   "codemirror_mode": {
    "name": "ipython",
    "version": 3
   },
   "file_extension": ".py",
   "mimetype": "text/x-python",
   "name": "python",
   "nbconvert_exporter": "python",
   "pygments_lexer": "ipython3",
   "version": "3.8.3"
  }
 },
 "nbformat": 4,
 "nbformat_minor": 4
}
