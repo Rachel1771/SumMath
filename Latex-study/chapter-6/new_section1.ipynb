{
 "cells": [
  {
   "cell_type": "markdown",
   "metadata": {},
   "source": [
    "## 6.1 基本插图方式\n",
    "\n",
    "使用LaTeX制作文档时，可以使用特定的环境和命令插入各种格式的图形，但需要注意的是，LaTeX只支持一些常见的图形文件格式，例如PDF、JPG、JPEG和PNG。在众多图形格式中，SVG格式的矢量图可以有效避免失真，但 LaTeX不支持SVG格式，因此，有时候，我们会将SVG图片转换成PDF格式或者TikZ中的PGF格式。对于不同类型的图形，在使用前需要做一些基本处理：\n",
    "\n",
    "- 绘制的图形。例如我们用Python、Matlab等程序语言绘制的图形，通常可以选择保存为PDF格式，并且在插入图形时，PDF格式的图片质量会优于PNG等格式。\n",
    "- 截图。一般选择保存为PNG格式。另外，在LaTeX中插入这类图片之前，不宜随意改变图形的尺寸。\n"
   ]
  },
  {
   "cell_type": "markdown",
   "metadata": {},
   "source": [
    "### 6.1.1 插入浮动图片\n",
    "\n",
    "####  Graphicx宏包\n",
    "\n",
    "`graphicx`是LaTeX插图的标准宏包，也是最为常用的。首先，我们需要先在前导代码中申明使用`graphicx`宏包，对应的命令为`\\usepackage{graphicx}`，然后就可以在需要插图的位置插入对应的图片，基本命令为`\\includegraphics{filename}`。\n",
    "\n",
    "【**例1**】使用`graphicx`宏包中的`\\includegraphics`命令插入图片butterfly.JPG。\n",
    "\n",
    "```tex\n",
    "\\documentclass[12pt]{article}\n",
    "\\usepackage{graphicx}\n",
    "\\begin{document}\n",
    "\n",
    "Figure \\ref{butterfly} show a beautiful butterfly.\n",
    "\n",
    "\\includegraphics[width = 0.5\\textwidth]{graphics/butterfly.JPG}\n",
    "\\caption{A beautiful butterfly.}\n",
    "\\label{butterfly}\n",
    "\\end{document}\n",
    "```\n",
    "\n",
    "编译后的插图效果如图6-1-1所示。\n",
    "\n",
    "<p align=\"center\">\n",
    "<img align=\"middle\" src=\"graphics/eg_1.png\" width=\"350\" />\n",
    "</p>\n",
    "\n",
    "<center><b>图6-1-1</b> 编译后的插图效果</center>"
   ]
  },
  {
   "cell_type": "markdown",
   "metadata": {},
   "source": [
    "#### figure环境\n",
    "\n",
    "此外，`graphicx`宏包提供了`figure`环境语句，通过嵌套`\\includegraphics`命令可以以浮动体的形式插入图片，从而能够实现自动递增编号、设置位置控制参数、利用`\\caption`命令创建标题名称等。\n",
    "\n",
    "【**例2**】使用`figure`环境插入图片butterfly.JPG。\n",
    "\n",
    "```tex\n",
    "\\documentclass[12pt]{article}\n",
    "\\usepackage{graphicx}\n",
    "\\begin{document}\n",
    "\n",
    "Figure \\ref{butterfly} show a beautiful butterfly.\n",
    "\n",
    "\\begin{figure}\n",
    "\\centering\n",
    "\\includegraphics[width = 0.5\\textwidth]{graphics/butterfly.JPG}\n",
    "\\caption{A beautiful butterfly.}\n",
    "\\label{butterfly}\n",
    "\\end{figure}\n",
    "\n",
    "\\end{document}\n",
    "```\n",
    "编译后的插图效果如图6-1-2所示。\n",
    "\n",
    "<p align=\"center\">\n",
    "<img align=\"middle\" src=\"graphics/eg_1.png\" width=\"350\" />\n",
    "</p>\n",
    "\n",
    "<center><b>图6-1-2</b> 编译后的插图效果</center>"
   ]
  },
  {
   "cell_type": "markdown",
   "metadata": {},
   "source": [
    "### 6.1.2 插入非浮动图片\n",
    "\n",
    "通过`figure`环境插入图片虽然能够实现自动编号和创建图片标题，但创建结果为浮动图片，图片的显示位置与在代码中的位置未必一致。然而有时我们想要以非浮动体的形式插入图片，使得图片显示位置与代码中的位置一致，同时能够实现自动编号和创建标题，要实现这一效果，我们可以使用`minipage`环境或`center`环境替代`figure`环境插入图片，同时使用`caption`宏包提供的`\\captionof{figure}{图片标题名称}`命令创建图片标题。"
   ]
  },
  {
   "cell_type": "markdown",
   "metadata": {},
   "source": [
    "#### minipage环境\n",
    "\n",
    "使用`minipage`环境插入图片的方式与`figure`环境类似，不同之处主要在于使用`minipage`环境插入的图片与上下文中的文本内容紧挨着，为了避免这种情况，`minipage`环境前后可以使用`\\vspace{纵向距离}`调整图片与文本的纵向空间距离。\n",
    "\n",
    "【**例3**】使用`minipage`环境语句取代`figure`环境语句插入非浮动图片，使用`\\captionof`命令创建图片标题，并使用`\\vspace`命令调整图片与文本的纵向距离。\n",
    "\n",
    "```tex\n",
    "\\documentclass[12pt]{article}\n",
    "\\usepackage{graphicx}\n",
    "\\usepackage{caption}\n",
    "\\begin{document}\n",
    "\n",
    "Figure \\ref{fig:1} shows a beautiful butterfly.\n",
    "\n",
    "\\vspace{12pt}\n",
    "\n",
    "\\begin{minipage}{\\linewidth}\n",
    "\\centering\n",
    "    \\includegraphics[width = 0.6\\linewidth]{butterfly.JPG}\n",
    "    \\captionof{figure}{A beautiful butterfly.}\n",
    "    \\label{fig:1}\n",
    "\\end{minipage}\n",
    "\n",
    "\\vspace{12pt}\n",
    "\n",
    "According to the picture, we know ...\n",
    "\n",
    "\\end{document}\n",
    "```\n",
    "\n",
    "编译后的插图效果如图6-1-3所示。\n",
    "\n",
    "<p align=\"center\">\n",
    "<img align=\"middle\" src=\"graphics/eg_3.png\" width=\"450\" />\n",
    "</p>\n",
    "\n",
    "<center><b>图6-1-3</b> 编译后的插图效果</center>\n"
   ]
  },
  {
   "cell_type": "markdown",
   "metadata": {},
   "source": [
    "#### center环境\n",
    "\n",
    "另外，也可以使用`center`环境语句取代`minipage`环境语句插入非浮动图片。使用`center`环境语句插入图片时可以自动将图片居中放置。\n",
    "\n",
    "【**例4**】使用`center`环境语句取代`figure`环境语句插入非浮动图片，并使用`\\captionof`命令创建图片标题。\n",
    "\n",
    "```tex\n",
    "\\documentclass[12pt]{article}\n",
    "\\usepackage{graphicx}\n",
    "\\usepackage{caption}\n",
    "\\begin{document}\n",
    "\n",
    "Figure \\ref{fig:1} shows a beautiful butterfly.\n",
    "\n",
    "\\begin{center}\n",
    "\\includegraphics[width = 0.6\\linewidth]{butterfly.JPG}\n",
    "\\captionof{figure}{A beautiful butterfly.}\n",
    "\\label{fig:1}\n",
    "\\end{center}\n",
    "\n",
    "According to the picture, we know ...\n",
    "\n",
    "\\end{document}\n",
    "```\n",
    "\n",
    "编译后的插图效果如图6-1-4所示。\n",
    "\n",
    "<p align=\"center\">\n",
    "<img align=\"middle\" src=\"graphics/eg_4.png\" width=\"450\" />\n",
    "</p>\n",
    "\n",
    "<center><b>图6-1-4</b> 编译后的插图效果</center>"
   ]
  },
  {
   "cell_type": "markdown",
   "metadata": {},
   "source": [
    "### 参考资料\n",
    "\n",
    "[1] https://tex.stackexchange.com/questions/157222"
   ]
  },
  {
   "cell_type": "markdown",
   "metadata": {},
   "source": [
    "【回放】[**6.0 导言**](https://nbviewer.jupyter.org/github/xinychen/latex-cookbook/blob/main/chapter-6/section0.ipynb)\n",
    "\n",
    "【继续】[**6.2 调整插图样式**](https://nbviewer.jupyter.org/github/xinychen/latex-cookbook/blob/main/chapter-6/new_section2.ipynb)"
   ]
  }
 ],
 "metadata": {
  "kernelspec": {
   "display_name": "Python 3",
   "language": "python",
   "name": "python3"
  },
  "language_info": {
   "codemirror_mode": {
    "name": "ipython",
    "version": 3
   },
   "file_extension": ".py",
   "mimetype": "text/x-python",
   "name": "python",
   "nbconvert_exporter": "python",
   "pygments_lexer": "ipython3",
   "version": "3.8.3"
  }
 },
 "nbformat": 4,
 "nbformat_minor": 4
}
