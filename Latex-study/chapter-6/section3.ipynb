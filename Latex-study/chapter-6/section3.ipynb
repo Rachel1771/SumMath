{
 "cells": [
  {
   "cell_type": "markdown",
   "id": "761fdf41",
   "metadata": {},
   "source": [
    "## 6.3 插入图表目录\n",
    "\n",
    "插入图目录或表目录的命令语句分别为`\\listoffigures`和`\\listoftables`，可以罗列`\\caption`命令创建的图表标题名称，但对于使用`\\caption*`命令创建的无编号的标题名称而言，则不会出现在目录中。\n",
    "\n",
    "在一份专业文档中，目录总是和正文内容在不同页显示，为此可以使用`\\newpage`命令进行分页；此外目录页中一般无页码编号，为此可以使用`\\thispagestyle{empty}`取消当页页码设置，并在正文页之前使用`\\pagenumbering{页码样式}`命令表示重新从1开始设置页码、同时设置页码样式。\n",
    "\n",
    "默认的图目录名和表目录名分别是“List of Figures”、“List of Tables”，读者可以在导言区通过使用`\\renewcommand{\\listfigurename}{新图目录名}`命令修改图目录名、使用`\\renewcommand{\\listtablename}{新表目录名}`命令修改表目录名。\n",
    "\n",
    "【**例6-2**】使用`\\listoffigures`命令和`\\listoftables`命令创建图目录和表目录，使用`\\renewcommand`命令修改图目录名和表目录名，并使用`\\newpage`、`\\thispagestyle`和`\\pagenumbering`命令对页码进行相应调整。\n",
    "\n",
    "```tex\n",
    "\\documentclass{article}\n",
    "\\usepackage{graphicx}\n",
    "\n",
    "\\renewcommand{\\listfigurename}{Figures}\n",
    "\\renewcommand{\\listtablename}{Tables}\n",
    "\n",
    "\\begin{document}\n",
    "\n",
    "\\thispagestyle{empty} % 取消页码编号\n",
    "\n",
    "\\listoffigures\n",
    "\\listoftables\n",
    "\n",
    "\\newpage  % 插入新页\n",
    "\\pagenumbering{arabic}  % 设置页码样式为小写的阿拉伯数字\n",
    "\n",
    "Here are three created tables...\n",
    "\\begin{table}[h!]\n",
    "% ...\n",
    "\\caption{The first table.}\n",
    "\\caption{The second table.}\n",
    "\\caption{The third table.}\n",
    "\\end{table}\n",
    "\n",
    "Here are three inserted figures...\n",
    "\\begin{figure}[h!]\n",
    "% ...\n",
    "\\caption{The first figure.}\n",
    "\\caption*{The second figure.}\n",
    "\\caption{The third figure.}\n",
    "% ...\n",
    "\\end{figure}\n",
    "\n",
    "\\end{document}\n",
    "```\n",
    "\n",
    "编译后的图表目录如图6.1.2所示。\n",
    "\n",
    "<p align=\"center\">\n",
    "<img align=\"middle\" src=\"graphics/eg_5NEW.png\" width=\"450\" />\n",
    "</p>\n",
    "\n",
    "<center><b>图6.1.2</b> 编译后的插图效果</center>\n"
   ]
  },
  {
   "cell_type": "markdown",
   "id": "96fa794d",
   "metadata": {},
   "source": [
    "【回放】[**6.2 插入非浮动图片**](https://nbviewer.jupyter.org/github/xinychen/latex-cookbook/blob/main/chapter-6/section2.ipynb)\n",
    "\n",
    "【继续】[**6.4 定制图表标题样式**](https://nbviewer.jupyter.org/github/xinychen/latex-cookbook/blob/main/chapter-6/section4.ipynb)"
   ]
  },
  {
   "cell_type": "markdown",
   "id": "8408875b",
   "metadata": {},
   "source": [
    "### License\n",
    "\n",
    "<div class=\"alert alert-block alert-danger\">\n",
    "<b>This work is released under the MIT license.</b>\n",
    "</div>"
   ]
  }
 ],
 "metadata": {
  "kernelspec": {
   "display_name": "Python 3 (ipykernel)",
   "language": "python",
   "name": "python3"
  },
  "language_info": {
   "codemirror_mode": {
    "name": "ipython",
    "version": 3
   },
   "file_extension": ".py",
   "mimetype": "text/x-python",
   "name": "python",
   "nbconvert_exporter": "python",
   "pygments_lexer": "ipython3",
   "version": "3.8.0"
  }
 },
 "nbformat": 4,
 "nbformat_minor": 5
}
