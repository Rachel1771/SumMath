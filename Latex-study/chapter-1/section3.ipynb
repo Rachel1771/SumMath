{
 "cells": [
  {
   "cell_type": "markdown",
   "metadata": {},
   "source": [
    "## 1.3 应运而生的在线系统\n",
    "\n",
    "### 1.3.1 LaTeX在线系统的出现\n",
    "\n",
    "上世纪80年代，LaTeX作为一件新生事物，在发布之初便引起了人们极大的兴趣。虽然LaTeX在文档制作与排版方面拥有很多办公软件都无法比拟的优势，但是由于其较高的使用门槛与安装成本，在很长一段时间里，LaTeX用户群体都局限在科研工作者中。然而，幸运的是，近年来LaTeX在线系统的出现却实实在在地改变了这一尴尬局面。\n",
    "\n",
    "随着信息技术快速发展、互联网深度普及，人们的工作生活方式也在发生着巨大改变，很多过去安装在本地的操作软件都被搬到了浏览器上，人们能在浏览器上使用各种在线办公软件。不过在线系统的出现也存在一定的先决条件，例如，出于计算资源方面的考虑，通常对云平台的计算资源与存储空间有着较为严格的要求，大规模在线系统往往要以大量的计算资源与存储空间作支撑。LaTeX作为一款文档排版系统，其在线系统对计算资源的消耗与其他计算密集型的在线系统相比并不算很大。\n",
    "\n",
    "在过去，受网络速度限制，使用在线系统几乎是一件难以想象的事。然而，近年来在线系统的兴起并非空穴来风，一方面得益于互联网网速的显著提升，目前的网速已经跟过去发生了质的变化，另一方面则是上网成本急剧降低、互联网触手可及，已经成为人们日常生活和工作中不可或缺的一部分。以LaTeX为例，虽然我们可以在本地计算机上安装与使用LaTeX编辑器，但在本地计算机上安装LaTeX也存在一些缺陷：\n",
    "\n",
    "- 第一，我们需要为安装LaTeX编译环境与编辑器腾出很大的存储空间。\n",
    "\n",
    "- 第二，某些特定的宏包需要额外安装与配置，但安装过多宏包又会使LaTeX变得臃肿甚至用户体验变差。\n",
    "\n",
    "- 第三，在本地计算机使用LaTeX制作文档时，我们很难与合作者进行协作。\n",
    "\n",
    "为了解决这一系列缺陷，一些成熟的LaTeX在线系统逐渐走进人们的视野，并受到很多用户的喜爱，其中，当下最受用户推崇的LaTeX在线系统当属Overleaf。这些LaTeX在线系统配置了丰富的拓展宏包，支持多种文字的创作，支持实时编译与实时预览，同时也方便与合作者进行协作。创作完成后，可选择下载压缩文件包（如`.zip`），也能选择只导出编译完成的PDF文档。毫无疑问，LaTeX在线系统拥有很多人性化的设计，让LaTeX创作变得更加便捷与高效。除此之外，现有的LaTeX在线系统还提供了大量的LaTeX帮助文档与模板，科技论文、学位论文、幻灯片、海报、简历等各类文档的参考模板一应俱全。\n",
    "\n",
    "> Overleaf是一个初创的科技企业，它的主要业务是构建现代化协作创作工具，即LaTeX在线系统，致力于让科学研究变得更加便捷与高效。目前，Overleaf已合并另一款著名的LaTeX在线系统ShareLaTeX，在全球范围内拥有超过600万用户，这些用户大多是来自于高校和研究机构的研究人员、老师以及学生，只要打开网址overleaf.com，用户无需在本地计算机配置LaTeX环境就可创建LaTeX文档制作项目。关于Overleaf的介绍可参考[https://www.overleaf.com/about](https://www.overleaf.com/about)。\n",
    "\n",
    "<p align=\"center\">\n",
    "<img align=\"middle\" src=\"graphics/overleaf_webpage.png\" width=\"900\" />\n",
    "</p>\n",
    "\n",
    "<center><b>图1-3-1</b> Overleaf首页，图片来源于Overleaf官网。</center>\n"
   ]
  },
  {
   "cell_type": "markdown",
   "metadata": {},
   "source": [
    "### 1.3.2 LaTeX在线系统的特点\n",
    "\n",
    "以LaTeX在线系统Overleaf为例，该系统具备以下几点特征：\n",
    "\n",
    "- 免费与开源。可免费注册和使用，不需要在本地计算机配置环境，这一点对于初学者来说无疑是非常友好的。\n",
    "\n",
    "- 使用简单。不管是在计算机、手机还是其他设备上，使用浏览器打开overleaf.com就能开始创作，另外，由于Overleaf界面非常简洁，所以用户使用起来也非常便利。\n",
    "\n",
    "- 支持实时编译与预览。拥有各类LaTeX插件，编辑功能完善，且具有实时编译与预览功能。\n",
    "\n",
    "- 支持在线协作。可以将文档项目分享给合作者进行协作创作，Overleaf支持实时编译，不会出现版本控制混乱等问题。\n",
    "\n",
    "- 支持双向定位。可以在LaTeX源代码区域与PDF文档预览区域之间进行双向定位。\n",
    "\n",
    "- 提供丰富的模板库。Overleaf拥有丰富的LaTeX文档模板，不仅有正式的期刊论文、学位论文与书籍的参考模板，还有很多视觉效果美观的技术报告、简历以及幻灯片模板。针对论文写作，用户能在Overleaf中找到众多期刊的LaTeX模板，用户根据使用说明很容易就能撰写论文。\n",
    "\n",
    "- 提供大量的帮助文档。Overleaf提供齐全的帮助文档，文档内容涵盖LaTeX快速入门、基础操作到编辑数学公式等，且具有很强的实操性。\n",
    "\n",
    "<p align=\"center\">\n",
    "<img align=\"middle\" src=\"graphics/overleaf_example.png\" width=\"900\" />\n",
    "</p>\n",
    "\n",
    "<center><b>图1-3-2</b> Overleaf编辑器界面，主要由源代码区域与文档预览区域组成。</center>\n",
    "\n",
    "LaTeX在线系统的出现大大降低了LaTeX的使用门槛，也为用户省去了繁琐的安装与配置环节。其实，LaTeX在线系统的出现并非个例，很多办公软件为迎合用户需求与时代发展趋势，陆续转变了产品研发思路，包括微软在线Office系统、腾讯在线文档等在内的很多在线系统都走进了人们的视野，这些在线系统能够在线备份、满足人们对随时随地办公与创作的需求，在确保便捷与高效的同时，在线和共享的理念正在潜移默化地影响着人们的办公模式。\n"
   ]
  },
  {
   "cell_type": "markdown",
   "metadata": {},
   "source": [
    "【回放】[**1.2 引领浪潮的LaTeX**](https://nbviewer.jupyter.org/github/xinychen/latex-cookbook/blob/main/chapter-1/section2.ipynb)\n",
    "\n",
    "【继续】[**1.4 LaTeX问答社区**](https://nbviewer.jupyter.org/github/xinychen/latex-cookbook/blob/main/chapter-1/section4.ipynb)"
   ]
  },
  {
   "cell_type": "markdown",
   "metadata": {},
   "source": [
    "### License\n",
    "\n",
    "<div class=\"alert alert-block alert-danger\">\n",
    "<b>This work is released under the MIT license.</b>\n",
    "</div>"
   ]
  }
 ],
 "metadata": {
  "kernelspec": {
   "display_name": "Python 3",
   "language": "python",
   "name": "python3"
  },
  "language_info": {
   "codemirror_mode": {
    "name": "ipython",
    "version": 3
   },
   "file_extension": ".py",
   "mimetype": "text/x-python",
   "name": "python",
   "nbconvert_exporter": "python",
   "pygments_lexer": "ipython3",
   "version": "3.8.3"
  }
 },
 "nbformat": 4,
 "nbformat_minor": 4
}
