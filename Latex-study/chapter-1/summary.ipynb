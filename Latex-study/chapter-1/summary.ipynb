{
 "cells": [
  {
   "cell_type": "markdown",
   "metadata": {},
   "source": [
    "# 第一章 LaTeX的出现与发展\n",
    "\n",
    "## 本章小结\n",
    "\n",
    "本章回顾了TeX和LaTeX的出现与发展历程，同时讨论了随着信息技术的快速发展和互联网的深度普及，LaTeX在线系统正在作为新生事物改变着人们的创作习惯。对于LaTeX用户来说，互联网提供了很多便利，我们可以通过一些著名的LaTeX问答社区和开源社区获取大量的学习素材，这些资源能帮助用户更好地掌握和使用LaTeX。\n"
   ]
  },
  {
   "cell_type": "markdown",
   "metadata": {},
   "source": [
    "### License\n",
    "\n",
    "<div class=\"alert alert-block alert-danger\">\n",
    "<b>This work is released under the MIT license.</b>\n",
    "</div>"
   ]
  }
 ],
 "metadata": {
  "kernelspec": {
   "display_name": "Python 3",
   "language": "python",
   "name": "python3"
  },
  "language_info": {
   "codemirror_mode": {
    "name": "ipython",
    "version": 3
   },
   "file_extension": ".py",
   "mimetype": "text/x-python",
   "name": "python",
   "nbconvert_exporter": "python",
   "pygments_lexer": "ipython3",
   "version": "3.8.3"
  }
 },
 "nbformat": 4,
 "nbformat_minor": 4
}
