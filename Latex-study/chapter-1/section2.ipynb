{
 "cells": [
  {
   "cell_type": "markdown",
   "metadata": {},
   "source": [
    "## 1.2 引领浪潮的LaTeX\n",
    "\n",
    "### 1.2.1 LaTeX的出现\n",
    "\n",
    "LaTeX是一款高质量的文档排版系统，LaTeX在读法上一般发作Lay-tek或者Lah-tek的音，而不是大家普遍认为的Lay-teks。LaTeX的历史可以追溯到1984年，在这一年里，兰波特博士作为早期开发者发布了LaTeX的最初版本。事实上，LaTeX完全是兰伯特博士的意外所得，他当年出于排版书籍的需要，在早先的文档排版系统TeX基础上新增了一些特定的宏包，为便于自己日后重复使用这些宏包，他将这些宏包构建成标准宏包。谁曾想，正是这些不经意间开发出来的宏包构成了LaTeX的雏形。\n",
    "\n",
    "<p align=\"center\">\n",
    "<img align=\"middle\" src=\"graphics/Leslie_Lamport.jpeg\" width=\"200\" />\n",
    "</p>\n",
    "\n",
    "<center><b>图1-2-1</b> 兰伯特博士，注：图片来源为兰伯特博士的维基百科网页。</center>\n",
    "\n",
    "在很长一段时间里，LaTeX的版本其实没有多少大的更新，从技术层面来说，LaTeX实在没有什么可供更新的地方，它最初的面貌已趋近于完美且深入人心。LaTeX的最初版本是由兰伯特博士于上世纪80年代初开发出来的，目前，广泛使用的版本LaTeX2e是在1994年发布的，发布后一直没有大的更新，甚至发布后的首次更新出现在二十多年后的2020年。\n",
    "\n",
    "尽管LaTeX2e的后续版本更新工作早在上世纪90年代初就已经开展，但时至今日，新版的LaTeX仍未进入人们的视野。从开发者兰伯特博士的视角来看，开发LaTeX的目的是为了降低TeX的使用门槛、发挥TeX强大的排版功能，提供一款高质量、解释性强的计算机程序语言，LaTeX最初风格就是精简，这也是为什么LaTeX在日后可供提升的地方不是很多的原因。"
   ]
  },
  {
   "cell_type": "markdown",
   "metadata": {},
   "source": [
    "### 1.2.2 LaTeX的特点\n",
    "\n",
    "由于种种原因，时至今日，TeX慢慢淡出了人们的视线，不过我们依然能在LaTeX中看到TeX的身影：在使用LaTeX制作文档时，通常需要创建一个以`.tex`为拓展名的文件。通过LaTeX编译器对.tex文件进行编译，我们能得到一个PDF文档。从某种程度上说，LaTeX成功地将TeX延续了下去，并且拥有TeX所无法比肩的用户体验和强大功能。\n",
    "\n",
    "对于很多人来说，制作各类文档的首选可能是Word等软件，它简单好用、所写即所见，但当我们制作几十页甚至上百页的文档时，Word的劣势就会展露无疑，因为我们需要投入大量的时间和精力来对文档内容进行排版。反观LaTeX，它对文档的排版都是自动完成的，我们可在文档排版上节省大量的时间和精力，另外，使用LaTeX插入各种数学公式、表格、图形以及文献时，相应的索引出错的可能性也非常小，加之LaTeX对数学公式的强大排版能力，这些优点都是Word所无法比拟的。\n",
    "\n",
    "在上个世纪80年代和90年代，LaTeX的用户群体非常庞大，然而，在世纪之交，随着微软推出的Windows操作系统快速发展，相应的办公软件Office也以其便捷性吸引了人们的视线，致使大量LaTeX用户转而使用Office。即便如此，时至今日，LaTeX的用户群体依旧十分庞大，这主要得益于LaTeX强大的文档排版能力，虽然LaTeX复杂的语法结构与编译环境让很多初学者望而却步，但LaTeX能让用户专注于内容创作，而非锦上添花的排版，这一特点也契合人们对质量和效率的追求。在此基础上，具体来说，使得LaTeX历久弥新的关键可以归纳为以下五点：\n",
    "\n",
    "- 第一，LaTeX是专门用于制作文档的计算机程序语言。在众多计算机程序语言中，LaTeX可以制作排版质量极高的专业文档。\n",
    "\n",
    "- 第二，LaTeX拥有独特的创作方式。使用LaTeX制作文档时，内容创作和文档生成是分开的，创作过程中能随时预览创作文档。因此，在创作时，创作者不再像使用办公软件Word那样，既要关注创作内容，又要同步关注繁琐的排版和格式，使用LaTeX制作文档能在真正意义上让创作者专注于创作内容本身。值得一提的是，当文档篇幅较大时，使用LaTeX无疑会让我们在文档排版上节省大量的时间和精力。\n",
    "\n",
    "- 第三，LaTeX拥有简单的逻辑结构。使用LaTeX制作文档时，创作者可以通过一些非常简单的逻辑结构进行创作，如chapter（章）、section（节）、table（表格）。因此，LaTeX的使用门槛并不像常用的计算机程序语言那么高。\n",
    "\n",
    "- 第四，LaTeX对数学公式以及特殊符号具有极高的支持程度。众所周知，LaTeX在开发之初，是作为数学与计算机等相关领域研究人员的创作工具，这类群体喜欢使用LaTeX的原因无外乎是LaTeX可以通过一些简单的代码生成复杂的数学公式与特殊符号，编译后可呈现出高质量的排版效果。\n",
    "\n",
    "- 第五，LaTeX直接生成PDF文档。编译以`.tex`为拓展名的文件后会得到一个PDF文档，PDF文档不存在跨平台、兼容性等问题，可以在各种操作系统上打开。\n",
    "\n",
    "当然，除了上述五点，LaTeX制作文档的多元性这一特点也十分重要，LaTeX拥有众多封装好的文档类型，每一种文档类型对应着一类特定的文档结构及排版样式，从科技论文、技术报告、著作、学位论文、幻灯片甚至到科技绘图一应俱全，当然LaTeX也支持嵌入图片、设计表格、插入参考文献等。毋庸置疑，LaTeX在科技文档排版方面占有重要地位。"
   ]
  },
  {
   "cell_type": "markdown",
   "metadata": {},
   "source": [
    "从LaTeX的出现到当下，它已经形成了一套非常成熟且高效的文档制作机制：\n",
    "\n",
    "- 文档类型 (document class)。文档类型是文档排版样式的基调，这些类型包括文章 (`article`)、报告 (`report`)、幻灯片 (`beamer`)等，申明文档类型往往是`.tex`文件的第一行代码，也是文档创作的第一步。\n",
    "\n",
    "- 宏包 (package)。它是LaTeX中的重要辅助工具，也可以把它理解为一般意义上的工具包。在使用时，调用宏包的基本命令为`\\usepackage{}`，举例来说，包含颜色命令的宏包为`color`，其调用语句为`\\usepackage{color}`。随着LaTeX的发展，越来越多的宏包被开发出来，这些宏包能满足特定的需求，如制表、插图、绘图，同时也能让LaTeX代码变得更加简洁。\n",
    "\n",
    "- 模板 (template)。LaTeX的发展催生了很多视觉与审美效果极好的模板，包括论文模板、幻灯片模板、报告模板甚至著作模板，这些模板能在相当程度上减少创作者在文档排版上的时间开销，也有很多学术刊物会给投稿作者提供相应的LaTeX模板。\n",
    "\n",
    "通过对比LaTeX和Word，我们还会看到：\n",
    "\n",
    "- 第一，LaTeX的`.tex`源文件是无格式的，编译过程中，根据设定的特定模板与指定格式输出PDF文档。因此，使用LaTeX制作文档能轻松切换文档类型、调整模板以及修改格式。\n",
    "\n",
    "- 第二，LaTeX对数学公式、图表以及文献索引的支持程度是Word所无法比拟的。尤为特殊的是，当文献数量达到上百篇时，在Word中修改参考文献可能是“牵一发而动全身”，费时耗力，而LaTeX根据已经整理好的`.bib`文件可自动完成文献引用与参考文献生成。"
   ]
  },
  {
   "cell_type": "markdown",
   "metadata": {},
   "source": [
    "### 1.2.3 LaTeX编辑器\n",
    "\n",
    "实际上，配置LaTeX环境包括两部分，即编译器和编辑器，对应的英文表达分别是complier和editor，两者不是一回事。LaTeX编译器又称为LaTeX编译工具，可根据系统属性安装相应的编译工具：\n",
    "\n",
    "- Linux系统：可安装TeX Live，该编辑器拥有LaTeX编辑器；\n",
    "- Mac OS系统：可安装Mac TeX，该编译器拥有完整的TeX/LaTeX环境和LaTeX编辑器；\n",
    "- Windows系统：可安装MiKTeX或TeX Live，两者都拥有完整的TeX/LaTeX环境和LaTeX编辑器。\n",
    "\n",
    "一般而言，LaTeX编辑器的界面大致由两部分组成，即LaTeX源码编译区域与PDF文档预览区域。以下几款LaTeX编辑器的使用体验较受人推崇：\n",
    "\n",
    "- TeXworks：这是TeX Live自带的一款轻量级编辑器。\n",
    "- TeXstudio：这款编辑器集代码编译与文档预览于一身。\n",
    "- WinEdt：这是CTeX自带的一款编辑器。\n",
    "- VS Code：这是微软推出的一款免费文本编辑器，功能包括文本编辑、日常开发等。\n",
    "- Atom：这是一款开源的跨平台编辑器（GitHub网址为[https://github.com/atom/atom](https://github.com/atom/atom)），支持多种程序语言。"
   ]
  },
  {
   "cell_type": "markdown",
   "metadata": {},
   "source": [
    "【回放】[**1.1 横空出世的TeX**](https://nbviewer.jupyter.org/github/xinychen/latex-cookbook/blob/main/chapter-1/section1.ipynb)\n",
    "\n",
    "【继续】[**1.3 应运而生的在线系统**](https://nbviewer.jupyter.org/github/xinychen/latex-cookbook/blob/main/chapter-1/section3.ipynb)"
   ]
  },
  {
   "cell_type": "markdown",
   "metadata": {},
   "source": [
    "### License\n",
    "\n",
    "<div class=\"alert alert-block alert-danger\">\n",
    "<b>This work is released under the MIT license.</b>\n",
    "</div>"
   ]
  }
 ],
 "metadata": {
  "kernelspec": {
   "display_name": "Python 3",
   "language": "python",
   "name": "python3"
  },
  "language_info": {
   "codemirror_mode": {
    "name": "ipython",
    "version": 3
   },
   "file_extension": ".py",
   "mimetype": "text/x-python",
   "name": "python",
   "nbconvert_exporter": "python",
   "pygments_lexer": "ipython3",
   "version": "3.8.3"
  }
 },
 "nbformat": 4,
 "nbformat_minor": 4
}
