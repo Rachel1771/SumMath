{
 "cells": [
  {
   "cell_type": "markdown",
   "metadata": {},
   "source": [
    "## 1.4 LaTeX问答社区\n",
    "\n",
    "在LaTeX刚被推出的那个年代，使用手册、教程、帮助文档等远没有今天这么丰富，获取资源的渠道也没有今天这么便捷与多元化。在互联网技术高度发达的今天，我们能通过一个浏览器访问到各种素材，遇到代码报错，也能在一些专业问答社区找到最佳解决方案。毫无疑问，对于今天的我们来说，如何利用好互联网问答社区是熟练掌握一门计算机程序语言的重要手段。\n",
    "\n",
    "### 1.4.1 问答社区的介绍\n",
    "\n",
    "对于从事计算机程序语言相关的技术人员来说，专业的技术问答社区往往是不可多得的资源，它能帮助技术人员提升个人编程能力、学习与掌握新技术，并解决一些在实际工作中遇到的代码报错等问题。Stack Exchange是一个著名的计算机程序语言技术问答社区，涵盖大量计算机程序语言相关的技术帖子以及优质回答。\n",
    "\n",
    "Stack Exchange技术问答社区按计算机程序语言类型进行划分，我们所关心的LaTeX相关的技术问题通常被分配在TeX Stack Exchange社区（网址为[https://tex.stackexchange.com/](https://tex.stackexchange.com/)）。截至目前，TeX Stack Exchange涉及到的问题与帖子包括TeX、LaTeX以及其他排版系统，其中多数与LaTeX相关，该问答社区支持内容搜索，根据需要，可在首页显示当前热门问题、当月高频访问问题等。\n",
    "\n",
    "> 网址为[https://stackexchange.com/](https://stackexchange.com/)，它与Stack Overflow问答社区一样在全球范围内拥有广泛的用户群体。\n",
    "\n",
    "<p align=\"center\">\n",
    "<img align=\"middle\" src=\"graphics/tex_stackexchange_webpage.png\" width=\"900\" />\n",
    "</p>\n",
    "\n",
    "<center><b>图1-4-1</b> https://tex.stackexchange.com/首页，该问答社区支持内容搜索，我们也可以根据需要在首页显示当前热门问题、当月高频访问问题等。</center>\n",
    "\n",
    "除Stack Exchange这种涵盖了多种计算机程序语言的技术问答社区外，LaTeX forum社区（[https://latex.org/forum/](https://latex.org/forum/)）是一个专门面向LaTeX的技术交流平台，它拥有活跃的用户群体与丰富的问答资源，该平台上有超过10万篇分门别类的技术帖子，我们可根据浏览量从该平台上一览高频访问问题，如图1-6所示，涉及“图表”（Graphics, Figures & Tables）的帖子已超过15000篇，涉及文本排版（text formatting）的帖子已超过10000篇。\n",
    "\n",
    "<p align=\"center\">\n",
    "<img align=\"middle\" src=\"graphics/latex_forum_webpage.png\" width=\"900\" />\n",
    "</p>\n",
    "\n",
    "<center><b>图1-4-2</b> https://latex.org/forum/首页，该问答社区已经将帖子按照话题进行分门别类，我们可以看到：涉及“图表”（Graphics, Figures & Tables）的帖子已超过15000篇，涉及文本排版（text formatting）的帖子已超过10000篇。</center>\n",
    "\n",
    "实际上，不管是LaTeX初学者还是高级用户，在遇到LaTeX使用问题时，去问答社区寻找解决方案都是一种非常有效的方式。TeX Stack Exchange社区的用户非常活跃，每天都会有大量关于LaTeX的问题和回答，且每个问题下面的回答都会根据用户的认可度进行排序。"
   ]
  },
  {
   "cell_type": "markdown",
   "metadata": {},
   "source": [
    "### 1.4.2 高频访问问题\n",
    "\n",
    "顾名思义，高频访问问题是指访问量较高的问题。LaTeX forum社区已将问答帖子进行分类，针对某一特定话题，展开内容即可看到各类问题的访问情况。\n",
    "\n",
    "<p align=\"center\">\n",
    "<img align=\"middle\" src=\"graphics/latex_forum_math_science.png\" width=\"750\" />\n",
    "</p>\n",
    "\n",
    "<center><b>图1-4-3</b> LaTeX forum社区中涉及“数学和科学”（math & science）话题的帖子，这里已经按照访问量对问答帖子进行了排序，图片来自于https://latex.org/forum/。</center>\n"
   ]
  },
  {
   "cell_type": "markdown",
   "metadata": {},
   "source": [
    "【回放】[**1.3 应运而生的在线系统**](https://nbviewer.jupyter.org/github/xinychen/latex-cookbook/blob/main/chapter-1/section3.ipynb)\n",
    "\n",
    "【继续】[**1.5 关于LaTeX的开源项目**](https://nbviewer.jupyter.org/github/xinychen/latex-cookbook/blob/main/chapter-1/section5.ipynb)"
   ]
  },
  {
   "cell_type": "markdown",
   "metadata": {},
   "source": [
    "### License\n",
    "\n",
    "<div class=\"alert alert-block alert-danger\">\n",
    "<b>This work is released under the MIT license.</b>\n",
    "</div>"
   ]
  }
 ],
 "metadata": {
  "kernelspec": {
   "display_name": "Python 3",
   "language": "python",
   "name": "python3"
  },
  "language_info": {
   "codemirror_mode": {
    "name": "ipython",
    "version": 3
   },
   "file_extension": ".py",
   "mimetype": "text/x-python",
   "name": "python",
   "nbconvert_exporter": "python",
   "pygments_lexer": "ipython3",
   "version": "3.8.3"
  }
 },
 "nbformat": 4,
 "nbformat_minor": 4
}
