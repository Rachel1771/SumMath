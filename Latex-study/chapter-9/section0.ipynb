{
 "cells": [
  {
   "cell_type": "markdown",
   "metadata": {},
   "source": [
    "## 第九章 幻灯片制作\n",
    "\n",
    "### 导言\n",
    "\n",
    "2003年，柏林工业大学的博士生Till Tantau发布了一款用于制作演示文稿的工具Beamer。Beamer是Till Tantau利用业余时间开发的，他的初衷是方便自己使用LaTeX制作幻灯片，不过出乎意料的是，后来Beamer的受欢迎程度完全超出了他的想象。在Till Tantau开发Beamer期间，他收到了很多人的建议和反馈，这些都直接推动了开发工作。2010年，Till Tantau将Beamer交由他人维护和管理。\n",
    "\n",
    "Beamer作为LaTeX的一种特殊文档类型，它的出现无疑丰富了LaTeX制作演示文稿的功能。虽然Beamer并非LaTeX中第一款用于制作演示文稿的工具，但直到今日，Beamer却是最受大家欢迎的一款。Beamer的使用方式简单灵活，只需设定LaTeX文档类型为beamer，便可开始创作。同时，Beamer提供了大量的幻灯片模板，这些模板包含了丰富多彩的视觉效果，创作者可以直接使用。毫不夸张地说，Beamer的出现极大地提高了人们使用LaTeX制作幻灯片的热情。值得一提的是，在2005年，Till Tantau又发布了一款非常便捷的LaTeX绘图工具TikZ。TikZ不仅可以辅助Beamer幻灯片的制作，也可以应用于科技文档中的各类绘图任务。\n",
    "\n",
    "Beamer是随着LaTeX的发展而衍生出来的一种特殊文档类型，也常常被看作是一个功能强大的宏包，可以支撑科研工作者制作幻灯片的需求。使用Beamer制作幻灯片与Office办公软件（如PowerPoint）完全不同，从本质上来说，使用Beamer制作幻灯片其实和LaTeX中的其他文档类型没有太大区别：代码结构都是由前导代码和主体代码组成，完全沿用了LaTeX的文档环境与基本命令。因此，使用Beamer制作幻灯片也有一个缺点，那就是必须掌握LaTeX制作文档的基础。\n",
    "\n",
    "在呈现方式上，Beamer制作的幻灯片最终会在LaTeX中被编译成PDF文档，在不同的系统上打开幻灯片时不存在不兼容等问题。在功能上，使用Beamer制作幻灯片时，我们可以对常规文本、公式、列表、图表甚至动画效果、视觉效果和主题样式等进行调整，最终达到想要的视觉效果。\n",
    "\n",
    "事实上，LaTeX中用于制作演示文稿的工具并非只有Beamer，但相比其他工具，Beamer具有如下优点：\n",
    "\n",
    "- 拥有海量的模板和丰富的主题样式，且使用方便；\n",
    "- 能满足制作幻灯片的功能性需求，从创建标题、文本和段落到插入图表、参考文献等操作，且与常规文档中的使用规则几乎一致；\n",
    "- 使用方式简单，在主体代码中使用`\\begin{frame} \\end{frame}`环境就能创建一页幻灯片。\n",
    "\n",
    "本章主要包括以下内容：Beamer的基本使用方式、在演示稿中添加动画效果、添加文本框等框元素、设置主题样式、插入程序源代码、添加参考文献、插入表格、插入与调整图片。"
   ]
  },
  {
   "cell_type": "markdown",
   "metadata": {},
   "source": [
    "【继续】[**9.1 基本介绍**](https://nbviewer.jupyter.org/github/xinychen/latex-cookbook/blob/main/chapter-9/section1.ipynb)"
   ]
  },
  {
   "cell_type": "markdown",
   "metadata": {},
   "source": [
    "### License\n",
    "\n",
    "<div class=\"alert alert-block alert-danger\">\n",
    "<b>This work is released under the MIT license.</b>\n",
    "</div>"
   ]
  }
 ],
 "metadata": {
  "kernelspec": {
   "display_name": "Python 3 (ipykernel)",
   "language": "python",
   "name": "python3"
  },
  "language_info": {
   "codemirror_mode": {
    "name": "ipython",
    "version": 3
   },
   "file_extension": ".py",
   "mimetype": "text/x-python",
   "name": "python",
   "nbconvert_exporter": "python",
   "pygments_lexer": "ipython3",
   "version": "3.8.0"
  }
 },
 "nbformat": 4,
 "nbformat_minor": 4
}
