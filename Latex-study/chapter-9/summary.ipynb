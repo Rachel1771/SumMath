{
 "cells": [
  {
   "cell_type": "markdown",
   "metadata": {},
   "source": [
    "## 第九章 幻灯片制作\n",
    "\n",
    "### 本章小结\n",
    "\n",
    "本章介绍了LaTeX中一种可用于制作幻灯片的文档类型Beamer以及一些常规用法，例如插入图表、程序源代码、参考文献等。尽管Beamer在使用方法上与常规文档稍有不同，每一页幻灯片是由`\\begin{frame} \\end{frame}`环境定义的，但仍遵循LaTeX的基本用法，也沿用着基本命令。使用Beamer制作幻灯片时，用户可根据自身需要，通过设置或调整Beamer中已经定义好的主题样式、颜色主题、字体主题、内部主题、外部主题等获得所需要的幻灯片显示效果。"
   ]
  },
  {
   "cell_type": "markdown",
   "metadata": {},
   "source": [
    "【回放】[**9.8 插入与调整图片**](https://nbviewer.jupyter.org/github/xinychen/latex-cookbook/blob/main/chapter-9/section8.ipynb)"
   ]
  },
  {
   "cell_type": "markdown",
   "metadata": {},
   "source": [
    "### License\n",
    "\n",
    "<div class=\"alert alert-block alert-danger\">\n",
    "<b>This work is released under the MIT license.</b>\n",
    "</div>"
   ]
  }
 ],
 "metadata": {
  "kernelspec": {
   "display_name": "Python 3",
   "language": "python",
   "name": "python3"
  },
  "language_info": {
   "codemirror_mode": {
    "name": "ipython",
    "version": 3
   },
   "file_extension": ".py",
   "mimetype": "text/x-python",
   "name": "python",
   "nbconvert_exporter": "python",
   "pygments_lexer": "ipython3",
   "version": "3.8.3"
  }
 },
 "nbformat": 4,
 "nbformat_minor": 4
}
