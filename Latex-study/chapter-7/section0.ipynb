{
 "cells": [
  {
   "cell_type": "markdown",
   "metadata": {},
   "source": [
    "## 第七章 图形绘制\n",
    "\n",
    "### 导言\n",
    "\n",
    "科技绘图是论文中不可或缺的重要部分，信息丰富的图形一方面可以达到很好的视觉效果。另一方面，图形辅以文字说明也能让读者更为直观地理解一些复杂的问题、过程以及结果。当论文中需要绘制一些图形时，制作这些图形所需要花费的时间就成为影响科研进度的一个重要因素了。在日常科研工作中，通过阅读大量文献，我们或许也会发现这样一种现象：在高质量期刊上发表学术论文，除了对论文本身的贡献和质量有严格的把控外，通常还需要一些高质量的配图用于直观阐述一些复杂原理或者实验结果，同时用于提高读者的阅读体验。\n",
    "\n",
    "因此，我们应该对论文中的图形绘制引起足够的重视。如果需要，花费足够的时间和精力是值得的，因为这既能加深自己对研究的认识和理解，也能提高审稿人和潜在读者的阅读体验。一般而言，在科技论文中，制作图形的过程可以大致概括为：\n",
    "\n",
    "- 确定绘图内容\n",
    "- 设计图形雏形\n",
    "- 完善图形细节\n",
    "- 根据内容适当调整图形\n"
   ]
  },
  {
   "cell_type": "markdown",
   "metadata": {},
   "source": [
    "【继续】[**7.1 PGF的基本介绍**](https://nbviewer.jupyter.org/github/xinychen/latex-cookbook/blob/main/chapter-7/section1.ipynb)"
   ]
  },
  {
   "cell_type": "markdown",
   "metadata": {},
   "source": [
    "### License\n",
    "\n",
    "<div class=\"alert alert-block alert-danger\">\n",
    "<b>This work is released under the MIT license.</b>\n",
    "</div>"
   ]
  }
 ],
 "metadata": {
  "kernelspec": {
   "display_name": "Python 3",
   "language": "python",
   "name": "python3"
  },
  "language_info": {
   "codemirror_mode": {
    "name": "ipython",
    "version": 3
   },
   "file_extension": ".py",
   "mimetype": "text/x-python",
   "name": "python",
   "nbconvert_exporter": "python",
   "pygments_lexer": "ipython3",
   "version": "3.8.8"
  }
 },
 "nbformat": 4,
 "nbformat_minor": 4
}
