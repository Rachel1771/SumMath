{
 "cells": [
  {
   "cell_type": "markdown",
   "metadata": {},
   "source": [
    "## 第十章 LaTeX进阶\n",
    "\n",
    "### 导言\n",
    "\n",
    "LaTeX作为一款文档排版系统，拥有众多文档类型，可用于制作科技论文、技术报告以及幻灯片等，除此之外，LaTeX还拥有包括编辑数学公式、制作图形与表格等功能，LaTeX用户可根据自身需要解锁LaTeX的各种用途。\n",
    "\n",
    "添加程序源代码和算法伪代码对于科研报告往往是必要且有效的，因为代码可以展现计算机编程的思路和算法，可以供读者学习和使用。所以，能够学会添加简洁优美、整齐大方的源代码和伪代码是科研工作者的一项重要技能。对于科研工作者，在有些学术交流中，有一种非常重要的展现成果方式就是海报。LaTeX可以制作出优美简洁的海报，有很多模版可以方便制作者使用。另外，简历制作也是科研工作者经常需要用到的，同样LaTeX提供了很多好用的模版，可以方便其使用。\n",
    "\n",
    "本章结合大多数科研工作者的总体需要，将主要介绍添加程序源代码、算法伪代码、海报制作和简历制作等内容。"
   ]
  },
  {
   "cell_type": "markdown",
   "metadata": {},
   "source": [
    "【继续】[**10.1 添加程序源代码**](https://nbviewer.jupyter.org/github/xinychen/latex-cookbook/blob/main/chapter-10/section1.ipynb)"
   ]
  },
  {
   "cell_type": "markdown",
   "metadata": {},
   "source": [
    "### License\n",
    "\n",
    "<div class=\"alert alert-block alert-danger\">\n",
    "<b>This work is released under the MIT license.</b>\n",
    "</div>"
   ]
  }
 ],
 "metadata": {
  "kernelspec": {
   "display_name": "Python 3",
   "language": "python",
   "name": "python3"
  },
  "language_info": {
   "codemirror_mode": {
    "name": "ipython",
    "version": 3
   },
   "file_extension": ".py",
   "mimetype": "text/x-python",
   "name": "python",
   "nbconvert_exporter": "python",
   "pygments_lexer": "ipython3",
   "version": "3.8.8"
  }
 },
 "nbformat": 4,
 "nbformat_minor": 4
}
