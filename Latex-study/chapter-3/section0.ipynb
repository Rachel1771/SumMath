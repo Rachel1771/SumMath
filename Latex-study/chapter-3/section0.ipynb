{
 "cells": [
  {
   "cell_type": "markdown",
   "metadata": {},
   "source": [
    "## 第三章 文本编辑\n",
    "\n",
    "### 导言\n",
    "\n",
    "文本是科技论文或科技报告的重要内容。而在论文或报告中，简洁美观的文本便于阅读者理解，并且可以提供优质的阅读体验。因此，我们需要认真学习在Latex中如何编辑出清晰明了的文本内容。\n",
    "\n",
    "文本编辑的内容一般包括文本章节的设定、文本段落的编辑、文字格式的编辑、列表的创建、页眉页脚和脚注的创建。其中文本段落的编辑又包含段落首行缩进、段行间距、段落对齐方式的调整等，而文字的编辑主要包含字体样式的调整、字体大小的调整、字体颜色的调整、字体本身的设定、字体中的下划线和删除线、以及一些特殊字符的书写等内容。\n",
    "\n",
    "列表的创建为的是方便读者对文本进行阅读，而这一类文本中的内容一般处于并列关系（少量列表中也存在递进关系）。合适的列表可以方便读者知道文本的框架和内容关系。列表内容主要包括无序列表、排序列表、阐述性列表和自定义列表格式。另外，对于文本编辑，页眉页脚和脚注是很重要的，页眉一般可以用于显示题目或者章节名称等提醒内容，而页脚可以显示文本页码等重要信息，脚注可以用于备注一些重要特别内容，如作者个人信息以及项目资助信息等。\n",
    "\n",
    "本章将详细介绍文本编辑的相关内容，学好文本编辑有助于我们完成一个阅读性更好的高质量文档。\n"
   ]
  },
  {
   "cell_type": "markdown",
   "metadata": {},
   "source": [
    "【继续】[**3.1 创建标题部分、摘要及关键词**](https://nbviewer.jupyter.org/github/xinychen/latex-cookbook/blob/main/chapter-3/section1.ipynb)"
   ]
  },
  {
   "cell_type": "markdown",
   "metadata": {},
   "source": [
    "### License\n",
    "\n",
    "<div class=\"alert alert-block alert-danger\">\n",
    "<b>This work is released under the MIT license.</b>\n",
    "</div>"
   ]
  }
 ],
 "metadata": {
  "kernelspec": {
   "display_name": "Python 3",
   "language": "python",
   "name": "python3"
  },
  "language_info": {
   "codemirror_mode": {
    "name": "ipython",
    "version": 3
   },
   "file_extension": ".py",
   "mimetype": "text/x-python",
   "name": "python",
   "nbconvert_exporter": "python",
   "pygments_lexer": "ipython3",
   "version": "3.8.3"
  }
 },
 "nbformat": 4,
 "nbformat_minor": 4
}
