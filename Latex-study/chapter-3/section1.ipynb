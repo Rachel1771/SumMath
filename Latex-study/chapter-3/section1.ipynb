{
 "cells": [
  {
   "cell_type": "markdown",
   "metadata": {},
   "source": [
    "## 3.1 创建标题部分、摘要及关键词\n",
    "\n",
    "文档主体代码是指位于document环境的部分。在文档正文章节内容及目录之前，一般先创建标题部分（包括文档标题、作者和日期）、摘要、以及关键词信息，这也是文档主体代码中最开始的部分。下面分别介绍这部分的创建过程。\n",
    "\n",
    "### 3.1.1 创建标题部分\n",
    "\n",
    "这一部分与`2.5.1添加标题、日期、作者信息`类似\n",
    "\n",
    "- 使用`\\title{}`命令设置文档标题\n",
    "\n",
    "    对于较长的文档标题，可以使用`\\\\`对标题内容进行分行。\n",
    "\n",
    "- 使用`\\author{}`命令设置作者\n",
    "\n",
    "    如果有多个作者，作者之间可以使用`\\and`进行分隔。\n",
    "\n",
    "- 使用`\\date{}`命令设置日期信息\n",
    "\n",
    "    在实际使用时，有时需要省略日期信息，那么在{}中不写任何内容即可。如果想要使用默认值（当前日期），则应使用`\\date`命令。\n",
    "    \n",
    "- 使用`\\maketitle`命令完成标题部分的创建\n",
    "\n",
    "   仅仅执行上述三行语句无法在文档编译时生成标题部分，还必须在之后加上`\\maketitle`命令，表示对标题部分内容进行排版才能真正实现标题部分的创建，具体实例见例1。\n",
    "\n",
    "\n"
   ]
  },
  {
   "cell_type": "markdown",
   "metadata": {},
   "source": [
    "### 3.1.2 创建摘要及关键词\n",
    "\n",
    "在LaTeX中，使用`abstract`环境撰写文档摘要部分，并在其后使用`\\textbf{}`命令设置文档关键词。\n",
    "\n",
    "【**例1**】创建标题部分、摘要及关键词。\n",
    "\n",
    "```tex\n",
    "\\documentclass[fontsize=12pt]{article}\n",
    "\n",
    "\\begin{document}\n",
    "\n",
    "\\title{My title} % 设置文档标题\n",
    "\\author{A, B and C} % 设置作者\n",
    "\\date{August 2021} % 设置日期信息\n",
    "\\maketitle %\n",
    "\n",
    "\\begin{abstract}  % 设置摘要\n",
    "This is the abstract. This is the abstract. This is the abstract. This is the abstract. This is the abstract. This is the abstract. \n",
    "\\end{abstract}\n",
    "\\textbf{Keywords: keyword1, keyword2, keyword3}  % 设置关键词\n",
    "\n",
    "Hello, LaTeX! Hello, LaTeX! Hello, LaTeX! Hello, LaTeX! Hello, LaTeX! Hello, LaTeX! Hello, LaTeX! Hello, LaTeX! Hello, LaTeX! Hello, LaTeX! Hello, LaTeX! Hello, LaTeX!  % 文档内容\n",
    "\n",
    "\\end{document}\n",
    "```\n",
    "\n",
    "编译后的效果如图3-1-1所示：\n",
    "\n",
    "<p align=\"center\">\n",
    "<img align=\"middle\" src=\"graphics/example3_1_1.png\" width=\"500\" />\n",
    "</p>\n",
    "\n",
    "<center><b>图3-1-1</b> 编译后效果</center>\n",
    "\n",
    "\n",
    "\n"
   ]
  },
  {
   "cell_type": "markdown",
   "metadata": {},
   "source": [
    "【回放】[**导言**](https://nbviewer.jupyter.org/github/xinychen/latex-cookbook/blob/main/chapter-3/section0.ipynb)\n",
    "\n",
    "【继续】[**3.2 创建章节**](https://nbviewer.jupyter.org/github/xinychen/latex-cookbook/blob/main/chapter-3/section2.ipynb)"
   ]
  },
  {
   "cell_type": "markdown",
   "metadata": {},
   "source": [
    "### License\n",
    "\n",
    "<div class=\"alert alert-block alert-danger\">\n",
    "<b>This work is released under the MIT license.</b>\n",
    "</div>"
   ]
  }
 ],
 "metadata": {
  "kernelspec": {
   "display_name": "Python 3",
   "language": "python",
   "name": "python3"
  },
  "language_info": {
   "codemirror_mode": {
    "name": "ipython",
    "version": 3
   },
   "file_extension": ".py",
   "mimetype": "text/x-python",
   "name": "python",
   "nbconvert_exporter": "python",
   "pygments_lexer": "ipython3",
   "version": "3.8.3"
  }
 },
 "nbformat": 4,
 "nbformat_minor": 2
}
