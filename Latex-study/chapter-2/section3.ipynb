{
 "cells": [
  {
   "cell_type": "markdown",
   "metadata": {},
   "source": [
    "## 2.3 文档类型的介绍\n",
    "\n",
    "在LaTeX代码结构中，申明文档类型往往是制作文档的第一步，也是最基本的一步。事实上，虽然不同文档类型对应的文档样式略有不同，但制作不同类型的文档时，LaTeX中的绝大多数命令和环境却是通用的。完成对文档内容的创作后，使用文档类型的申明语句可以让我们在不同类型的文档间切换自如。\n",
    "\n",
    "### 2.3.1 基本介绍\n",
    "\n",
    "对LaTeX熟悉的读者会知道，LaTeX实际上支持非常多的文档类型，例如，撰写科技论文会用到的`article`（常规文档）类型、制作演示文稿会用到的`beamer`（幻灯片）类型。在众多文档类型中，常见的文档类型包括`article`（常规文档）、`report`（报告）、`book`（书籍）、`beamer`（幻灯片）等，如果使用支持中文编译的ctex文档类型，还会有`ctexart`（中文常规文档）、`ctexrep`（中文报告）、`ctexbook`（中文书籍）等，文档类型会直接决定整个文档的样式和风格。\n",
    "\n",
    "使用LaTeX制作文档时，申明文档类型是作为前导代码，其一般格式为：\n",
    "\n",
    "```tex\n",
    "\\documentclass[A]{B}\n",
    "```\n",
    "\n",
    "在这一申明语句中，位置A的作用主要是设置控制全文的文档参数，我们可以调整全文的字体大小、纸张大小、分栏设置等，因为各种文档类型都有一整套的默认参数，所以一般情况可以省略掉位置A。在位置B，我们需要键入特定的文档类型，例如，`\\documentclass[a4paper, 12pt]{article}`即表示申明一个纸张大小为A4、字体大小为12pt的常规文档。\n",
    "\n",
    "以下将逐一介绍比较常用的三种文档类型，包括`article`（常规文档）、`report`（报告）、`book`（书籍），其中，`report`和`book`这两种文档类型的文档结构是一致的，可以使用的结构命令有`\\part{}`、`\\chapter{}`、`\\section{}`、`\\subsection{}`、`\\subsubsection{}`、`\\paragraph{}`、`\\subparagraph{}`，而`article`文档类型中除了没有`\\chapter{}`这一结构命令之外，其他都与`report`和`book`文档类型是一样的。"
   ]
  },
  {
   "cell_type": "markdown",
   "metadata": {},
   "source": [
    "### 2.3.2 `article`文档类型\n",
    "\n",
    "`article`是LaTeX制作文档时最为常用的一种文档类型，撰写科技论文往往会用到`article`文档类型。\n",
    "\n",
    "【**例1**】新建一个文档类型为`article`的简单文档。\n",
    "\n",
    "```tex\n",
    "\\documentclass[a4paper, 12pt]{article} % 声明文档类型\n",
    "\n",
    "\\title{LaTeX Cookbook}\n",
    "\n",
    "\\begin{document}\n",
    "\\maketitle\n",
    "\n",
    "\\begin{abstract}\n",
    "This is LaTeX cookbook!\n",
    "\\end{abstract}\n",
    "\n",
    "\\part{LaTeX Tutorial} % part名称\n",
    "\n",
    "\\section{Document Class} % 一级标题\n",
    "\n",
    "\\subsection{Article} % 二级标题\n",
    "\n",
    "Hello, LaTeXers! This is our first LaTeX document.\n",
    "\n",
    "\\end{document}\n",
    "```\n",
    "\n",
    "编译上述代码，得到文档如图2-3-1所示。\n",
    "\n",
    "<p align=\"center\">\n",
    "<img align=\"middle\" src=\"graphics/example3_1.png\" width=\"300\" />\n",
    "</p>\n",
    "\n",
    "<center><b>图2-3-1</b> 编译后的文档</center>\n"
   ]
  },
  {
   "cell_type": "markdown",
   "metadata": {},
   "source": [
    "### 2.3.3 `report`文档类型\n",
    "\n",
    "`report`主要是面向撰写各类技术报告的文档类型。\n",
    "\n",
    "【**例2**】新建一个文档类型为`report`的简单文档。\n",
    "\n",
    "```tex\n",
    "\\documentclass[a4paper, 12pt]{report}\n",
    "\n",
    "\\begin{document}\n",
    "\n",
    "\\part{LaTeX Tutorial}\n",
    "\n",
    "\\chapter{Introduction}\n",
    "\n",
    "\\section{Document Class}\n",
    "\n",
    "\\subsection{Report}\n",
    "\n",
    "Hello, LaTeXers! This is our first LaTeX document.\n",
    "\n",
    "\\end{document}\n",
    "```\n",
    "\n",
    "编译上述代码，得到文档如图2-3-2所示。\n",
    "\n",
    "<p align=\"center\">\n",
    "<table>\n",
    "<tr>\n",
    "<td><img align=\"middle\" src=\"graphics/example3_2_1.png\" width=\"300\"></td>\n",
    "<td><img align=\"middle\" src=\"graphics/example3_2_2.png\" width=\"300\"></td>\n",
    "</tr>\n",
    "</table>\n",
    "</p>\n",
    "\n",
    "<center><b>图2-3-2</b> 编译后的文档</center>"
   ]
  },
  {
   "cell_type": "markdown",
   "metadata": {},
   "source": [
    "### 2.3.4 `book`文档类型\n",
    "\n",
    "`book`是用于制作书籍等出版物的文档类型。\n",
    "\n",
    "【**例3**】新建一个文档类型为book的简单文档。\n",
    "\n",
    "```tex\n",
    "\\documentclass[a4paper, 12pt]{book}\n",
    "\n",
    "\\begin{document}\n",
    "\n",
    "\\part{LaTeX Tutorial}\n",
    "\n",
    "\\chapter{Introduction}\n",
    "\n",
    "\\section{Document Class}\n",
    "\n",
    "\\subsection{Report}\n",
    "\n",
    "Hello, LaTeXers! This is our first LaTeX document.\n",
    "\n",
    "\\end{document}\n",
    "```\n",
    "\n",
    "编译上述代码，得到文档如图2-3-3所示。\n",
    "\n",
    "<p align=\"center\">\n",
    "<table>\n",
    "<tr>\n",
    "<td><img align=\"middle\" src=\"graphics/example3_3_1.png\" width=\"300\"></td>\n",
    "<td><img align=\"middle\" src=\"graphics/example3_3_2.png\" width=\"300\"></td>\n",
    "<td><img align=\"middle\" src=\"graphics/example3_3_3.png\" width=\"300\"></td>\n",
    "</tr>\n",
    "</table>\n",
    "</p>\n",
    "\n",
    "<center><b>图2-3-3</b> 编译后的文档</center>"
   ]
  },
  {
   "cell_type": "markdown",
   "metadata": {},
   "source": [
    "【回放】[**2.2 LaTeX代码结构**](https://nbviewer.jupyter.org/github/xinychen/latex-cookbook/blob/main/chapter-2/section2.ipynb)\n",
    "\n",
    "【继续】[**2.4 一些基本命令**](https://nbviewer.jupyter.org/github/xinychen/latex-cookbook/blob/main/chapter-2/section4.ipynb)"
   ]
  },
  {
   "cell_type": "markdown",
   "metadata": {},
   "source": [
    "### License\n",
    "\n",
    "<div class=\"alert alert-block alert-danger\">\n",
    "<b>This work is released under the MIT license.</b>\n",
    "</div>"
   ]
  }
 ],
 "metadata": {
  "kernelspec": {
   "display_name": "Python 3.9.7 ('base')",
   "language": "python",
   "name": "python3"
  },
  "language_info": {
   "codemirror_mode": {
    "name": "ipython",
    "version": 3
   },
   "file_extension": ".py",
   "mimetype": "text/x-python",
   "name": "python",
   "nbconvert_exporter": "python",
   "pygments_lexer": "ipython3",
   "version": "3.9.7"
  },
  "vscode": {
   "interpreter": {
    "hash": "665635a302ef112478a592f67ffb6ae1f079a80640579a07612e191b078d9a90"
   }
  }
 },
 "nbformat": 4,
 "nbformat_minor": 4
}
