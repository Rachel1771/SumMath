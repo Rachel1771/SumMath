{
 "cells": [
  {
   "cell_type": "markdown",
   "metadata": {},
   "source": [
    "## 2.1 LaTeX语法规则\n",
    "\n",
    "计算机程序语言是一种标准化的形式语言，可用来向计算机发出指令，其中，发出与执行指令的关键在于一套严谨的语法规则。不同于常用的计算机程序语言，LaTeX语法规则十分简洁，主要由命令与环境构成，两者相辅相成。在使用过程中，命令与环境都离不开计算机符号反斜线`\\`，对反斜线的使用也是LaTeX代码的一大特色。"
   ]
  },
  {
   "cell_type": "markdown",
   "metadata": {},
   "source": [
    "### 2.1.1 命令\n",
    "\n",
    "LaTeX中有很多命令，它们用法大同小异，功能却千差万别。既有申明文档类型的命令，例如`\\documentclass{article}`，表明文档类型为常规文档，也有输入特殊符号的命令，例如`\\copyright`，表示输入版权符号。一般而言，LaTeX中的命令由三部分组成，形式为`\\命令名[可省略参数]{不可省略参数}`，具有以下特点：\n",
    "\n",
    "- 通常以反斜线作为开始，通过紧跟的既定字符（命令名）实现相应的功能，例如`\\LaTeX`和`\\copyright`可生成特殊字符，`\\tableofcontents`可生成文档目录。\n",
    "\n",
    "- 一些命令需要设定一些参数，通过设定花括号中的不可省略参数实现特定功能，例如`\\color{blue}`命令中需要设定具体的颜色名称。\n",
    "\n",
    "- 一些命令拥有默认的参数设置，可对中括号中的可省略参数进行调整，例如在`\\documentclass[a4paper]{article}`中，中括号`[]`作为额外的选项声明了页面大小为A4页面，其既可以自行设置，也可以选择默认设置。\n",
    "\n",
    "- 有些命令可以用反斜线作为终止，例如`\\copyright\\`。"
   ]
  },
  {
   "cell_type": "markdown",
   "metadata": {},
   "source": [
    "### 2.1.2 环境\n",
    "\n",
    "这里所说的“环境”是指编译环境，它是LaTeX编辑文档的基础，特定的编译环境可实现创建列表、设计图表等各种功能。举例来说，我们可以使用列表环境创建列表：\n",
    "\n",
    "```tex\n",
    "\\begin{itemize}\n",
    "\n",
    "\\item item 1 % 条目1\n",
    "\\item item 2 % 条目2\n",
    "\n",
    "\\end{itemize}\n",
    "```\n",
    "\n",
    "在制作无序列表时，这里的 itemize 表示无序列表环境，`\\begin{}`和`\\end{}`分别表示编译环境的开始与结束，两者中间用`\\item`引出列表内容。当然，这些环境并非“一成不变”，通过设置一些参数也可以改变编译之后的文档效果，例如，\n",
    "\n",
    "```tex\n",
    "\\begin{spacing}{1.3}\n",
    "paragraph 1 % 第1段\n",
    "\n",
    "paragraph 2 % 第2段\n",
    "\\end{spacing}\n",
    "```\n",
    "可将两段话之间的行间距调整为1.3倍。\n",
    "\n",
    "【**例1**】使用基本命令`\\documentclass{article}`和文档环境`\\begin{document} \\end{document}`创建一个简单文档，并在文档内使用无序列表环境创建一个列表。\n",
    "\n",
    "```tex\n",
    "\\documentclass{article}\n",
    "\n",
    "\\begin{document}\n",
    "\n",
    "Hello, LaTeXers! This is our first LaTeX document.\n",
    "\n",
    "\\begin{itemize}\n",
    "\n",
    "\\item LaTeX is good\n",
    "\n",
    "\\item LaTeX is convenient\n",
    "\n",
    "\\end{itemize}\n",
    "\n",
    "\\end{document}\n",
    "\n",
    "```\n",
    "\n",
    "编译上述代码，得到文档如图2-1所示。\n",
    "\n",
    "<p align=\"center\">\n",
    "<img align=\"middle\" src=\"graphics/example2_1_1.png\" width=\"450\" />\n",
    "</p>\n",
    "\n",
    "<center><b>图2-1</b> 编译后的文档</center>\n",
    "\n"
   ]
  },
  {
   "cell_type": "markdown",
   "metadata": {},
   "source": [
    "### 2.1.3 宏包\n",
    "\n",
    "宏包是支撑LaTeX实现一系列文档编辑与排版的关键所在，主要用来丰富与拓展LaTeX的功能。从某种程度上说，宏包是LaTeX实现一系列功能的重要保证，它的作用不容小觑，有时候一个宏包甚至能赋予LaTeX新的功能，例如`tikz`宏包便能支持LaTeX进行图形绘制与数据可视化。通过调用不同宏包可实现一些复杂排版功能，例如插入表格、公式、特殊符号、程序源代码以及设置文档样式。一个宏包通常会提供一组LaTeX命令。在LaTeX中，调用宏包的形式大同小异，方法是使用`\\usepackage{宏包名}`命令。\n",
    "\n",
    "【**例2**】使用`\\usepackage{color}`命令调用颜色宏包，并调整文本字体颜色。\n",
    "\n",
    "```tex\n",
    "\\documentclass{article}\n",
    "\n",
    "\\usepackage{color}% 调用颜色宏包\n",
    "\n",
    "\\begin{document}\n",
    "\\textcolor[rgb]{1,0,0}{Hello, LaTeXers! This is our first LaTeX document.}% 将文本颜色调整为红色\n",
    "\n",
    "\\end{document}\n",
    "```\n",
    "\n",
    "编译上述代码，得到文档如图2-2所示。\n",
    "\n",
    "<p align=\"center\">\n",
    "<img align=\"middle\" src=\"graphics/example2_1_2.png\" width=\"450\" />\n",
    "</p>\n",
    "\n",
    "<center><b>图2-2</b> 编译后的文档</center>\n"
   ]
  },
  {
   "cell_type": "markdown",
   "metadata": {},
   "source": [
    "【回放】[**导言**](https://nbviewer.jupyter.org/github/xinychen/latex-cookbook/blob/main/chapter-2/section0.ipynb)\n",
    "\n",
    "【继续】[**2.2 LaTeX代码结构**](https://nbviewer.jupyter.org/github/xinychen/latex-cookbook/blob/main/chapter-2/section2.ipynb)"
   ]
  },
  {
   "cell_type": "markdown",
   "metadata": {},
   "source": [
    "### License\n",
    "\n",
    "<div class=\"alert alert-block alert-danger\">\n",
    "<b>This work is released under the MIT license.</b>\n",
    "</div>"
   ]
  }
 ],
 "metadata": {
  "kernelspec": {
   "display_name": "Python 3.9.7 ('base')",
   "language": "python",
   "name": "python3"
  },
  "language_info": {
   "codemirror_mode": {
    "name": "ipython",
    "version": 3
   },
   "file_extension": ".py",
   "mimetype": "text/x-python",
   "name": "python",
   "nbconvert_exporter": "python",
   "pygments_lexer": "ipython3",
   "version": "3.9.7"
  },
  "vscode": {
   "interpreter": {
    "hash": "665635a302ef112478a592f67ffb6ae1f079a80640579a07612e191b078d9a90"
   }
  }
 },
 "nbformat": 4,
 "nbformat_minor": 4
}
