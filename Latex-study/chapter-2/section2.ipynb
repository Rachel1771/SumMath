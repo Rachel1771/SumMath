{
 "cells": [
  {
   "cell_type": "markdown",
   "metadata": {},
   "source": [
    "## 2.2 LaTeX代码结构\n",
    "\n",
    "使用LaTeX制作文档时，编译的对象通常是以`.tex`为拓展名的源文件，编译的结果则是生成PDF格式的文档。一般而言， LaTeX源文件的代码主要包含两个部分，即前导代码（preamble）与主体代码（body），其结构示例如下：\n",
    "\n",
    "```tex\n",
    "\\documentclass[]{}\n",
    "\n",
    "...... % 前导代码（preamble）\n",
    "\n",
    "\\begin{document}\n",
    "\n",
    "...... % 主体代码（body）\n",
    "\n",
    "\\end{document}\n",
    "```\n",
    "\n",
    "前导代码与主体代码具有截然不同的分工，简言之，前导代码主要负责文档排版与格式的设置，而主体代码则是以实际的创作内容为主。通过调整前导代码，能很容易对排版样式进行切换；如若修改文档的创作内容，则需要在主体代码中进行调整。"
   ]
  },
  {
   "cell_type": "markdown",
   "metadata": {},
   "source": [
    "### 2.2.1 前导代码\n",
    "\n",
    "前导代码是指从源文件第一行代码到`\\begin{document}`之间的所有语句，一般为LaTeX代码的第一部分。在前导代码部分，既可设置文档类型全局参数，包括字体大小、纸张大小、文字分栏、单双面打印设置等，也可声明需要调用的宏包。当全局格式没有特殊申明时，前导代码中的文档类型申明语句可简写成`\\documentclass{B}`，其中，位置B用于申明文档类型，如article（常规文档）、book（书籍）、report（报告）、beamer（幻灯片）等。\n",
    "\n",
    "下面以常规文档（article）为例，简要介绍各常用全局参数的设置方式。\n",
    "\n",
    "\n",
    "#### 字体大小\n",
    "\n",
    "article类型默认的文档字体大小为10pt，可在`\\documentclass[可省略参数]{article}`的中括号中根据需要设置成11pt和12pt。\n",
    "\n",
    "【**例1**】创建一个简单文档，将字体大小调整为12pt。\n",
    "\n",
    "```tex\n",
    "\\documentclass[fontsize=12pt]{article}\n",
    "\n",
    "\\begin{document}\n",
    "\n",
    "Hello, LaTeXers! This is our first LaTeX document.\n",
    "\n",
    "\\end{document}\n",
    "```\n",
    "\n",
    "编译上述代码，得到文档如图2-3所示。\n",
    "\n",
    "<p align=\"center\">\n",
    "<img align=\"middle\" src=\"graphics/example2_1.png\" width=\"800\" />\n",
    "</p>\n",
    "\n",
    "<center><b>图2-3</b> 编译后的文档</center>\n",
    "\n",
    "在申明文档类型时，设置文档字体大小的方式是`\\documentclass[fontsize = 12pt]{article}`，方便起见，可将其简写为`\\documentclass[12pt]{article}`。在这里，字体大小的基本单位pt是英文单词point的缩写，是一个物理长度单位，指的是72分之一英寸，即1pt等于1/72英寸。"
   ]
  },
  {
   "cell_type": "markdown",
   "metadata": {},
   "source": [
    "#### 纸张大小\n",
    "\n",
    "article类型文档纸张大小默认为letterpaper，同样可在`\\documentclass[可省略参数]{article}`的中括号中根据需要设置成a4paper、a5paper、b5paper、legalpaper和executivepaper。\n",
    "\n",
    "【**例2**】创建一个简单文档，将字体大小调整为12pt、纸张大小调整为b5paper。\n",
    "\n",
    "```tex\n",
    "\\documentclass[fontsize=12pt, paper=b5paper]{article}\n",
    "\n",
    "\\begin{document}\n",
    "\n",
    "Hello, LaTeXers! This is our first LaTeX document.\n",
    "\n",
    "\\end{document}\n",
    "```\n",
    "\n",
    "编译上述代码，得到的文档纸张大小为B5。"
   ]
  },
  {
   "cell_type": "markdown",
   "metadata": {},
   "source": [
    "#### 文字分栏\n",
    "\n",
    "article类型文档的文字分栏默认为onecolumn，即不进行不分栏，有时候可根据需要使用`twocolumn`将文档设置为两栏。\n",
    "\n",
    "\n",
    "【**例3**】创建一个简单文档，将正文分为两栏。\n",
    "\n",
    "```tex\n",
    "\\documentclass[12pt, b5paper, twocolumn]{article}\n",
    "\n",
    "\\begin{document}\n",
    "\n",
    "Hello, LaTeXers! This is our first LaTeX document.\n",
    "\n",
    "\\newpage\n",
    "\n",
    "Hello, LaTeXers! This is our first LaTeX document.\n",
    "\n",
    "\\end{document}\n",
    "```\n",
    "\n",
    "编译上述代码，得到文档如图2-4所示。\n",
    "\n",
    "<p align=\"center\">\n",
    "<img align=\"middle\" src=\"graphics/example2_3.png\" width=\"800\" />\n",
    "</p>\n",
    "\n",
    "<center><b>图2-4</b> 编译后的文档</center>"
   ]
  },
  {
   "cell_type": "markdown",
   "metadata": {},
   "source": [
    "#### 单双面打印设置\n",
    "\n",
    "article类型文档打印时默认单面打印，同样可以使用`\\documentclass[可省略参数]{article}`中括号中的可选参数，通过添加`twoside`参数进行双面打印的设置。\n",
    "\n",
    "【**例4**】创建一个简单文档，设置双面打印。\n",
    "\n",
    "```tex\n",
    "\\documentclass[12pt, b5paper, twoside]{article}\n",
    "\n",
    "\\begin{document}\n",
    "\n",
    "Hello, LaTeXers! This is our first LaTeX document.\n",
    "\n",
    "\\newpage\n",
    "\n",
    "Hello, LaTeXers! This is our first LaTeX document.\n",
    "\n",
    "\\end{document}\n",
    "```\n",
    "\n",
    "上述可省略参数在设置过程中不存在先后顺序，例如`\\documentclass[a4paper, 11pt, twoside]{article}`对应着文档类型为article、纸张大小为A4、字体大小为11pt的双面打印文档。`\\documentclass[a4paper, twoside, 11pt]{article}`也对应着文档类型为article、纸张大小为A4、字体大小为11pt的双面打印文档。当然，除了这几个最为常用的全局参数外，还有其他全局参数可供调整，考虑到其他全局参数用到的机会比较少，这里不做过多讨论。"
   ]
  },
  {
   "cell_type": "markdown",
   "metadata": {},
   "source": [
    "### 2.2.2 主体代码\n",
    "\n",
    "主体代码为`\\begin{document}`及`\\end{document}`之间所有的命令语句和文本，一般由文档的创作内容构成，按照一般书写顺序，主要包含文档标题、目录、章节、图表及具体文字内容等。在这里，我们不妨创建一个文字内容“Hello, LaTeXers! This is our first LaTeX document.”的简单文档。\n",
    "\n",
    "```tex\n",
    "\\documentclass{article}\n",
    "\\title{LaTeX cook-book}\n",
    "\n",
    "\\begin{document}\n",
    "\\maketitle\n",
    "\\section{Introduction}\n",
    "\n",
    "Hello, LaTeXers! This is our first LaTeX document.\n",
    "\n",
    "\\end{document}\n",
    "```\n"
   ]
  },
  {
   "cell_type": "markdown",
   "metadata": {},
   "source": [
    "【回放】[**2.1 LaTeX语法规则**](https://nbviewer.jupyter.org/github/xinychen/latex-cookbook/blob/main/chapter-2/section1.ipynb)\n",
    "\n",
    "【继续】[**2.3 文档类型的介绍**](https://nbviewer.jupyter.org/github/xinychen/latex-cookbook/blob/main/chapter-2/section3.ipynb)"
   ]
  },
  {
   "cell_type": "markdown",
   "metadata": {},
   "source": [
    "### License\n",
    "\n",
    "<div class=\"alert alert-block alert-danger\">\n",
    "<b>This work is released under the MIT license.</b>\n",
    "</div>"
   ]
  }
 ],
 "metadata": {
  "kernelspec": {
   "display_name": "Python 3.9.7 ('base')",
   "language": "python",
   "name": "python3"
  },
  "language_info": {
   "codemirror_mode": {
    "name": "ipython",
    "version": 3
   },
   "file_extension": ".py",
   "mimetype": "text/x-python",
   "name": "python",
   "nbconvert_exporter": "python",
   "pygments_lexer": "ipython3",
   "version": "3.9.7"
  },
  "vscode": {
   "interpreter": {
    "hash": "665635a302ef112478a592f67ffb6ae1f079a80640579a07612e191b078d9a90"
   }
  }
 },
 "nbformat": 4,
 "nbformat_minor": 4
}
