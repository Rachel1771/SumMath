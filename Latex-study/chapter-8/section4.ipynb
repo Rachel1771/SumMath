{
 "cells": [
  {
   "cell_type": "markdown",
   "metadata": {},
   "source": [
    "## 8.4 文献引用格式\n",
    "\n",
    "Bibtex的最大特点是采用了标准化的数据库，对于论文、著作以及其他类型的文献，我们可以自定义文献的引用格式。Bibtex的样式会改变所引用文献的引用格式。\n",
    "\n",
    "### 8.4.1 几种标准样式\n",
    "\n",
    "一般而言，LaTeX中有一系列标准样式 (standard styles) 可供选择和使用。具体而言，这些标准样式对应的文件包括：\n",
    "\n",
    "- `plain.bst`\n",
    "- `acm.bst`：对应于Association for Computing Machinery期刊。\n",
    "- `ieeetr.bst`：对应于IEEE Transactions期刊。\n",
    "- `alpha.bst`\n",
    "- `abbrv.bst`\n",
    "- `siam.bst`：对应于SIAM。\n",
    "\n",
    "当然，实际上还有很多`.bst`文件，这里给出的几个文件只是最为常用的。不得不提的是`natbib`工具包，这一工具包对一系列引用命令进行了标准化，而这种标准化不受不同文献样式的影响。\n",
    "\n",
    "> 参考[Choosing a BibTeX Style](https://www.reed.edu/cis/help/LaTeX/bibtexstyles.html)"
   ]
  },
  {
   "cell_type": "markdown",
   "metadata": {},
   "source": [
    "【回放】[**8.3 Bibtex用法**](https://nbviewer.jupyter.org/github/xinychen/latex-cookbook/blob/main/chapter-8/section3.ipynb)\n",
    "\n",
    "【继续】[**8.5 xxxx**](https://nbviewer.jupyter.org/github/xinychen/latex-cookbook/blob/main/chapter-8/section5.ipynb)"
   ]
  },
  {
   "cell_type": "markdown",
   "metadata": {},
   "source": [
    "### License\n",
    "\n",
    "<div class=\"alert alert-block alert-danger\">\n",
    "<b>This work is released under the MIT license.</b>\n",
    "</div>"
   ]
  }
 ],
 "metadata": {
  "kernelspec": {
   "display_name": "Python 3",
   "language": "python",
   "name": "python3"
  },
  "language_info": {
   "codemirror_mode": {
    "name": "ipython",
    "version": 3
   },
   "file_extension": ".py",
   "mimetype": "text/x-python",
   "name": "python",
   "nbconvert_exporter": "python",
   "pygments_lexer": "ipython3",
   "version": "3.7.4"
  }
 },
 "nbformat": 4,
 "nbformat_minor": 4
}
