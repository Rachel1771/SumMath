{
 "cells": [
  {
   "cell_type": "markdown",
   "id": "0ae23ff2",
   "metadata": {},
   "source": [
    "## 第八章 建立索引及文献引用\n",
    "\n",
    "### 导言\n",
    "\n",
    "科技论文或技术报告中的图片、表格、公式和参考文献往往会被编号，方便读者进行查看。在实际写作过程中，有时图片、表格、公式会不在文本引用位置附近，而参考文献更是一般都总结放在文末结尾处。因此，读者在阅读过程中，为了查看该处引用内容的详细信息，需要翻看全文查找被引用的内容。\n",
    "这个过程一定是非常繁琐低效、并且会影响读者的阅读流畅性。为此，建立索引和文献引用就非常有必要了。建立索引一般指对文档中的图片、表格、公式等进行索引的设置，这个建立是自动编号完成；而文献引用同样是对文中存在引用参考文献的地方自动编号建立索引。因此，建立索引和文献引用的过程较为简单，并且建立索引和引用后的效果非常好，可以实现读者根据索引和文献引用直接跳转至想要查看的内容，能够有效提高读者的阅读效率和流畅性。\n",
    "\n",
    "本章节主要包括以下部分：公式和图表的索引、创建超链接并调整链接格式、利用BibTex完成参考文献引用以及引用格式的设定。"
   ]
  },
  {
   "cell_type": "markdown",
   "metadata": {},
   "source": [
    "【继续】[**8.1 图表和公式的索引**](https://nbviewer.jupyter.org/github/xinychen/latex-cookbook/blob/main/chapter-8/section1.ipynb)"
   ]
  },
  {
   "cell_type": "markdown",
   "metadata": {},
   "source": [
    "### License\n",
    "\n",
    "<div class=\"alert alert-block alert-danger\">\n",
    "<b>This work is released under the MIT license.</b>\n",
    "</div>"
   ]
  }
 ],
 "metadata": {
  "kernelspec": {
   "display_name": "Python 3",
   "language": "python",
   "name": "python3"
  },
  "language_info": {
   "codemirror_mode": {
    "name": "ipython",
    "version": 3
   },
   "file_extension": ".py",
   "mimetype": "text/x-python",
   "name": "python",
   "nbconvert_exporter": "python",
   "pygments_lexer": "ipython3",
   "version": "3.8.8"
  }
 },
 "nbformat": 4,
 "nbformat_minor": 4
}
