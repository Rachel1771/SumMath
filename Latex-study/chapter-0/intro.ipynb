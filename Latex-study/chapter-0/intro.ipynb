{
 "cells": [
  {
   "cell_type": "markdown",
   "metadata": {},
   "source": [
    "# 内容简介\n",
    "\n",
    "LaTeX作为一款高质量文档排版系统，是数学、物理、计算机等众多理工科领域科研工作者撰写科技论文的常用工具之一。本书从LaTeX的发展历程出发，以科技文档写作为中心，介绍LaTeX的使用方法，内容涵盖LaTeX文档类型介绍、文本编辑、公式编辑、图表设计、文献引用、幻灯片制作等。为提高实操性并帮助读者快速熟悉LaTeX，本书就LaTeX使用方法提供了一系列实例与代码。\n",
    "\n",
    "本书适合高等院校师生以及各类科研院所的科研工作者阅读与使用，可作为高等院校数学、物理、计算机等理工科学科本科生与研究生的科技论文写作教程。"
   ]
  },
  {
   "cell_type": "markdown",
   "metadata": {},
   "source": [
    "### License\n",
    "\n",
    "<div class=\"alert alert-block alert-danger\">\n",
    "<b>This work is released under the MIT license.</b>\n",
    "</div>"
   ]
  }
 ],
 "metadata": {
  "kernelspec": {
   "display_name": "Python 3",
   "language": "python",
   "name": "python3"
  },
  "language_info": {
   "codemirror_mode": {
    "name": "ipython",
    "version": 3
   },
   "file_extension": ".py",
   "mimetype": "text/x-python",
   "name": "python",
   "nbconvert_exporter": "python",
   "pygments_lexer": "ipython3",
   "version": "3.8.3"
  }
 },
 "nbformat": 4,
 "nbformat_minor": 4
}
