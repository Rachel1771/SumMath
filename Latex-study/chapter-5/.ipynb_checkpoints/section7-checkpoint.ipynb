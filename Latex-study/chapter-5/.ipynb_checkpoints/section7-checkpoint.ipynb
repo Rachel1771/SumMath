{
 "cells": [
  {
   "cell_type": "markdown",
   "id": "994092e1",
   "metadata": {},
   "source": [
    "## 5.7 创建跨页表格\n",
    "\n",
    "当表格太长时，使用`tabular`环境创建的表格会被裁剪掉页面放不下的部分。如果想让表格在行数太多时实现自动分页，可以通过调用`longtable`宏包并使用`longtable`环境创建表格。\n",
    "\n",
    "在`longtable`环境中创建表格的方式与使用`table`和`tabular`嵌套环境类似，我们也能使用`\\caption`、`\\label`命令分别创建表格标题和索引标签。不同之处主要在于，`longtable`环境中可以设置跨页表格在每一页的重复表头和表尾，按照使用顺序，包括以下四个命令：\n",
    "\n",
    "- `\\endfirsthead`：`\\begin{longtable}`和`\\endfirsthead`之间的内容只会出现在表格第一页的表头部分；\n",
    "\n",
    "- `\\endhead`：`\\endfirsthead`和`\\endhead`之间的内容将会出现在表格除第一页之外的表头部分；\n",
    "\n",
    "- `\\endfoot`：`\\endhead`和`\\endfoot`之间的内容将会出现在除表格最后一页之外的表尾部分；\n",
    "\n",
    "- `\\endlastfoot`：`\\endfoot`和`\\endlastfoot`之间的内容只会出现在表格最后一页的表尾部分。\n",
    "\n",
    "以上四个命令需要放置在`longtable`环境的开始处。\n",
    "\n",
    "【**例5-24**】调用`longtable`宏包及环境创建跨页表格。\n",
    "\n",
    "```tex\n",
    "\\documentclass[12pt]{article}\n",
    "\\usepackage{longtable}\n",
    "\\usepackage{multirow}\n",
    "\\begin{document}\n",
    "\n",
    "\\begin{longtable}[c]{cccc}\n",
    "    % 创建表格第一页的表头部分\n",
    "    \\caption{Title of a table}\\\\\n",
    "    \\hline\n",
    "    Column1 & Column2 & Column3 & Column4\\\\\n",
    "    \\hline\n",
    "    \\endfirsthead\n",
    "    % 创建表格除第一页之外的表头部分\n",
    "    \\caption{Title of a table - Continued}\\\\\n",
    "    \\hline\n",
    "    Column1 & Column2 & Column3 & Column4\\\\\n",
    "    \\hline\n",
    "    \\endhead\n",
    "    % 创建表格除最后一页之外的表尾部分\n",
    "    \\hline\n",
    "    \\endfoot\n",
    "    % 创建表格最后一页的表尾部分\n",
    "    \\multicolumn{4}{c}{\\textbf{End of table.}}\\\\\n",
    "    \\hline\n",
    "    \\endlastfoot\n",
    "    % 表格内容\n",
    "    A1 & A2 & A3 & A4\\\\\n",
    "    B1 & B2 & B3 & B4\\\\\n",
    "    C1 & C2 & C3 & C4\\\\\n",
    "    A1 & A2 & A3 & A4\\\\\n",
    "    B1 & B2 & B3 & B4\\\\\n",
    "    C1 & C2 & C3 & C4\\\\\n",
    "    ... % 省略中间部分\n",
    "    A1 & A2 & A3 & A4\\\\\n",
    "    B1 & B2 & B3 & B4\\\\\n",
    "    C1 & C2 & C3 & C4\\\\\n",
    "    \\hline\n",
    "\\end{longtable}\n",
    "\n",
    "\\end{document}\n",
    "```\n",
    "\n",
    "编译上述代码，得到表格如图5.7.1所示，其中左图和右图分别为表格第一页的部分内容以及第二页的所有内容。\n",
    "\n",
    "<p align=\"center\">\n",
    "<table>\n",
    "<tr>\n",
    "<td><img align=\"middle\" src=\"graphics/eg5_19_1.png\" width=\"450\"></td>\n",
    "<td><img align=\"middle\" src=\"graphics/eg5_19_2.png\" width=\"450\"></td>\n",
    "</tr>\n",
    "</table>\n",
    "</p>\n",
    "\n",
    "<center><b>图5.7.1</b> 编译后的文档内容</center>\n"
   ]
  },
  {
   "cell_type": "markdown",
   "id": "069cbb87",
   "metadata": {},
   "source": [
    "【回放】[**5.6 创建三线表格**](https://nbviewer.jupyter.org/github/xinychen/latex-cookbook/blob/main/chapter-5/section6.ipynb)\n",
    "\n",
    "【继续】[**5.8 旋转表格**](https://nbviewer.jupyter.org/github/xinychen/latex-cookbook/blob/main/chapter-5/section8.ipynb)"
   ]
  },
  {
   "cell_type": "markdown",
   "id": "9011354d",
   "metadata": {},
   "source": [
    "### License\n",
    "\n",
    "<div class=\"alert alert-block alert-danger\">\n",
    "<b>This work is released under the MIT license.</b>\n",
    "</div>"
   ]
  }
 ],
 "metadata": {
  "kernelspec": {
   "display_name": "Python 3",
   "language": "python",
   "name": "python3"
  },
  "language_info": {
   "codemirror_mode": {
    "name": "ipython",
    "version": 3
   },
   "file_extension": ".py",
   "mimetype": "text/x-python",
   "name": "python",
   "nbconvert_exporter": "python",
   "pygments_lexer": "ipython3",
   "version": "3.8.8"
  }
 },
 "nbformat": 4,
 "nbformat_minor": 5
}
