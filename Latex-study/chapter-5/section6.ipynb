{
 "cells": [
  {
   "cell_type": "markdown",
   "metadata": {},
   "source": [
    "## 5.6 创建三线表格\n",
    "\n",
    "`booktabs`宏包提供了更美观的行分隔线创建命令，常用于创建三线表格。其中，`\\toprule`命令常用于创建表格顶线、`\\bottomrule`命令常用于创建表格底线、`\\midrule`命令常用于创建表格标题栏和表格内容的分隔线、以及`\\cmidrule{起始列号-终止列号}`命令用于创建标题栏内部的分隔线并设置分隔线的跨越范围。\n",
    "\n",
    "【**例5-23**】调用`booktabs`宏包及其相关命令创建三线表。\n",
    "\n",
    "```tex\n",
    "\\documentclass[12pt]{article}\n",
    "\\usepackage{booktabs}\n",
    "\\usepackage{multirow}\n",
    "\\begin{document}\n",
    "\n",
    "\\begin{tabular}{cccc}\n",
    "    \\toprule\n",
    "    \\multicolumn{2}{c}{\\textbf{Type1}} & \\\\\n",
    "    \\cmidrule{1-2}\n",
    "    Column1 & Column2 & Column3 & Column4\\\\\n",
    "    \\midrule\n",
    "    A1 & A2 & A3 & A4\\\\\n",
    "    B1 & B2 & B3 & B4\\\\\n",
    "    C1 & C2 & C3 & C4\\\\\n",
    "    \\bottomrule\n",
    "\\end{tabular}\n",
    "\n",
    "\\end{document}\n",
    "```\n",
    "\n",
    "编译上述代码，得到表格如图5.6.1所示。\n",
    "<p align=\"center\">\n",
    "<img align=\"middle\" src=\"graphics/eg5_18.png\" width=\"500\" />\n",
    "</p>\n",
    "\n",
    "<center><b>图5.6.1</b> 编译后的文档内容</center>\n",
    "\n"
   ]
  },
  {
   "cell_type": "markdown",
   "metadata": {},
   "source": [
    "【回放】[**5.5 创建彩色表格**](https://nbviewer.jupyter.org/github/xinychen/latex-cookbook/blob/main/chapter-5/section5.ipynb)\n",
    "\n",
    "【继续】[**5.7 创建跨页表格**](https://nbviewer.jupyter.org/github/xinychen/latex-cookbook/blob/main/chapter-5/section7.ipynb)"
   ]
  },
  {
   "cell_type": "markdown",
   "metadata": {},
   "source": [
    "### License\n",
    "\n",
    "<div class=\"alert alert-block alert-danger\">\n",
    "<b>This work is released under the MIT license.</b>\n",
    "</div>"
   ]
  }
 ],
 "metadata": {
  "kernelspec": {
   "display_name": "Python 3",
   "language": "python",
   "name": "python3"
  },
  "language_info": {
   "codemirror_mode": {
    "name": "ipython",
    "version": 3
   },
   "file_extension": ".py",
   "mimetype": "text/x-python",
   "name": "python",
   "nbconvert_exporter": "python",
   "pygments_lexer": "ipython3",
   "version": "3.6.5"
  }
 },
 "nbformat": 4,
 "nbformat_minor": 5
}
