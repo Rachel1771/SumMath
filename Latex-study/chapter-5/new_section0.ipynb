{
 "cells": [
  {
   "cell_type": "markdown",
   "metadata": {},
   "source": [
    "# 第五章 表格制作\n",
    "\n",
    "## 导言\n",
    "\n",
    "统计表格是实验数据、统计结果或事物分类的一种有效表达形式，是论文中经常使用的一种特殊信息语言，也是文字语言的补充和延伸。表格具有表达力强，易于领会，便于分析等优点。在撰写科技论文的过程中，通过正确使用统计表格，对获取到的资料数据进行归纳、整理、统计学处理以及比较分析，探寻数据的内在规律和关联性，有助于得出正确结论。\n",
    "\n",
    "本章主要包括在LaTeX中如何制作表格、调整表格内容、调整表格样式以及导入现成表格四部分。首先对表格的制作进行了简单的介绍，一般要将tabular和table两种表格环境搭配使用完成；接着对调整表格的内容进行了介绍，主要包括表格字体大小的调整、插入表注和斜线、文本内容自动换行、单元格中的人工换行以及表格中数字的位数对齐；然后是介绍表格样式的调整方法，主要包括调整表格宽高、表格行列合并、插入彩色表格、表格位置的设定等；最后是介绍如何从Excel等其他软件中直接导入现成的表格。\n",
    "\n",
    "通过本章的学习，有助于读者学习到表格的完整制作方法，可以制作出优美正确的表格，便于科研数据或者问题的表达。"
   ]
  },
  {
   "cell_type": "markdown",
   "metadata": {},
   "source": [
    "【继续】[**5.1 基本介绍**](https://nbviewer.jupyter.org/github/xinychen/latex-cookbook/blob/main/chapter-5/new_section1.ipynb)"
   ]
  }
 ],
 "metadata": {
  "kernelspec": {
   "display_name": "Python 3",
   "language": "python",
   "name": "python3"
  },
  "language_info": {
   "codemirror_mode": {
    "name": "ipython",
    "version": 3
   },
   "file_extension": ".py",
   "mimetype": "text/x-python",
   "name": "python",
   "nbconvert_exporter": "python",
   "pygments_lexer": "ipython3",
   "version": "3.8.3"
  }
 },
 "nbformat": 4,
 "nbformat_minor": 4
}
