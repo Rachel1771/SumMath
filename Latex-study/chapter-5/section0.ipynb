{
 "cells": [
  {
   "cell_type": "markdown",
   "metadata": {},
   "source": [
    "## 第五章 表格制作\n",
    "\n",
    "### 导言\n",
    "\n",
    "表格是一种针对信息和数据的有效呈现方式，一般采用行和列组合的结构。在撰写科技论文时，往往需要使用表格对信息或数据进行归纳、整理以及比较分析。本章主要介绍如何在LaTeX中制作和编辑表格，内容包括：\n",
    "\n",
    "- 第1节是对制作表格的环境和命令进行基本介绍；\n",
    "- 第2、3节介绍如何合并单元格、插入斜线与表注；\n",
    "- 第4节介绍如何调整表格样式，包括表格尺寸、单元格自动对齐与换行、小数点对齐、行高、列宽、线宽、以及字体大小；\n",
    "- 第5~8节介绍如何创建特殊表格，分别为彩色表格、三线表格、跨页表格、旋转表格（或纵向表格）；\n",
    "- 第9节介绍如何从csv文件中导入表格。\n",
    "\n",
    "通过本章的学习，读者会对LaTeX制作和编辑表格有较为全面的认识，能够制作出科技论文中的各类表格。"
   ]
  },
  {
   "cell_type": "markdown",
   "metadata": {},
   "source": [
    "【继续】[**5.1 基本介绍**](https://nbviewer.jupyter.org/github/xinychen/latex-cookbook/blob/main/chapter-5/section1.ipynb)"
   ]
  },
  {
   "cell_type": "markdown",
   "metadata": {},
   "source": [
    "### License\n",
    "\n",
    "<div class=\"alert alert-block alert-danger\">\n",
    "<b>This work is released under the MIT license.</b>\n",
    "</div>"
   ]
  }
 ],
 "metadata": {
  "kernelspec": {
   "display_name": "Python 3",
   "language": "python",
   "name": "python3"
  },
  "language_info": {
   "codemirror_mode": {
    "name": "ipython",
    "version": 3
   },
   "file_extension": ".py",
   "mimetype": "text/x-python",
   "name": "python",
   "nbconvert_exporter": "python",
   "pygments_lexer": "ipython3",
   "version": "3.8.3"
  }
 },
 "nbformat": 4,
 "nbformat_minor": 4
}
