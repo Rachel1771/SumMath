{
 "cells": [
  {
   "cell_type": "markdown",
   "metadata": {},
   "source": [
    "# 第一问"
   ]
  },
  {
   "cell_type": "code",
   "execution_count": 23,
   "metadata": {},
   "outputs": [],
   "source": [
    "import numpy as np\n",
    "import pandas as pd\n",
    "import matplotlib.pyplot as plt\n",
    "\n",
    "from lightgbm import LGBMClassifier\n",
    "\n",
    "from mlxtend.classifier import StackingClassifier\n",
    "from mlxtend.classifier import StackingCVClassifier\n",
    "\n",
    "from sklearn.svm import SVC\n",
    "from sklearn import metrics\n",
    "\n",
    "from sklearn.ensemble import VotingClassifier\n",
    "from sklearn.preprocessing import StandardScaler\n",
    "from sklearn.model_selection import GridSearchCV\n",
    "from sklearn.model_selection import cross_val_score\n",
    "from sklearn.linear_model import LogisticRegression\n",
    "from sklearn.model_selection import train_test_split\n",
    "from sklearn.ensemble import AdaBoostClassifier as ada\n",
    "from sklearn.ensemble import GradientBoostingClassifier\n",
    "from sklearn.ensemble import RandomForestClassifier as RF\n",
    "from sklearn.metrics import roc_auc_score,precision_score,recall_score"
   ]
  },
  {
   "cell_type": "code",
   "execution_count": 14,
   "metadata": {},
   "outputs": [],
   "source": [
    "#  Voting\n",
    "data = pd.read_csv('./excel/extract/1/第一问所有特征.csv', encoding='utf-8', index_col='企业代号')\n",
    "for i in range(len(data)):\n",
    "    a = 'E' + str(i + 1)\n",
    "    # One-hot\n",
    "    if data.loc[a, '是否违约'] == '否':\n",
    "        data.loc[a, '违约'] = 0\n",
    "    else:\n",
    "        data.loc[a, '违约'] = 1\n",
    "\n",
    "x = data.iloc[:, :-3].values\n",
    "y = data.iloc[:, -1].values"
   ]
  },
  {
   "cell_type": "code",
   "execution_count": 24,
   "metadata": {},
   "outputs": [],
   "source": [
    "# init model\n",
    "\n",
    "lgb = LGBMClassifier(learning_rate=0.05,n_estimators=100,objective='binary',\n",
    "                           boosting_type='gbdt',\n",
    "                           num_leaves=2**5,\n",
    "                           max_depth=5,reg_alpha=0.5,reg_lambda=0.5,\n",
    "                           metric='auc',subsample=0.75)\n",
    "LR = LogisticRegression(C=0.1, class_weight=None, dual=False, fit_intercept=True,\n",
    "                   intercept_scaling=1, l1_ratio=None, max_iter=100,\n",
    "                   multi_class='auto', n_jobs=None, penalty='l2',\n",
    "                   random_state=None, solver='newton-cg', tol=0.0001, verbose=0,\n",
    "                   warm_start=False)\n",
    "Ada = ada(algorithm='SAMME', base_estimator=None, learning_rate=0.1,\n",
    "                   n_estimators=100, random_state=30)\n",
    "GBDT = GradientBoostingClassifier(ccp_alpha=0.0, criterion='friedman_mse', init=None,\n",
    "                           learning_rate=0.7, loss='exponential', max_depth=3,\n",
    "                           max_features='auto', max_leaf_nodes=None,\n",
    "                           min_impurity_decrease=0.0, \n",
    "                           min_samples_leaf=1, min_samples_split=2,\n",
    "                           min_weight_fraction_leaf=0.0, n_estimators=25,\n",
    "                           n_iter_no_change=None,\n",
    "                           random_state=30, subsample=1.0, tol=0.0001,\n",
    "                           validation_fraction=0.1, verbose=0,\n",
    "                           warm_start=False)\n",
    "svc = SVC(C=0.8, break_ties=False, cache_size=200, class_weight=None, coef0=0.0,\n",
    "    decision_function_shape='ovr', degree=3, gamma=20, kernel='rbf',\n",
    "    max_iter=-1, probability=True, random_state=None, shrinking=True, tol=0.001,\n",
    "    verbose=False)\n",
    "\n",
    "rf = RF(bootstrap=True, ccp_alpha=0.0, class_weight=None,\n",
    "                       criterion='gini', max_depth=None, max_features='auto',\n",
    "                       max_leaf_nodes=None, max_samples=None,\n",
    "                       min_impurity_decrease=0.0,\n",
    "                       min_samples_leaf=1, min_samples_split=2,\n",
    "                       min_weight_fraction_leaf=0.0, n_estimators=100,\n",
    "                       n_jobs=None, oob_score=False, random_state=30, verbose=0,\n",
    "                       warm_start=False)\n",
    "\n",
    "\n",
    "sclf = StackingCVClassifier(classifiers=[Ada, GBDT, LR,rf],\n",
    "                            use_probas=True,\n",
    "                            meta_classifier=svc,\n",
    "                            random_state=30)"
   ]
  },
  {
   "cell_type": "code",
   "execution_count": 25,
   "metadata": {},
   "outputs": [
    {
     "name": "stderr",
     "output_type": "stream",
     "text": [
      "c:\\Miniconda\\lib\\site-packages\\sklearn\\metrics\\_classification.py:1318: UndefinedMetricWarning: Precision is ill-defined and being set to 0.0 due to no predicted samples. Use `zero_division` parameter to control this behavior.\n",
      "  _warn_prf(average, modifier, msg_start, len(result))\n"
     ]
    },
    {
     "data": {
      "text/html": [
       "<div>\n",
       "<style scoped>\n",
       "    .dataframe tbody tr th:only-of-type {\n",
       "        vertical-align: middle;\n",
       "    }\n",
       "\n",
       "    .dataframe tbody tr th {\n",
       "        vertical-align: top;\n",
       "    }\n",
       "\n",
       "    .dataframe thead th {\n",
       "        text-align: right;\n",
       "    }\n",
       "</style>\n",
       "<table border=\"1\" class=\"dataframe\">\n",
       "  <thead>\n",
       "    <tr style=\"text-align: right;\">\n",
       "      <th></th>\n",
       "      <th>train_Accuracy</th>\n",
       "      <th>test_Accuracy</th>\n",
       "      <th>Precision</th>\n",
       "      <th>Recall</th>\n",
       "      <th>AUC</th>\n",
       "      <th>f1</th>\n",
       "    </tr>\n",
       "  </thead>\n",
       "  <tbody>\n",
       "    <tr>\n",
       "      <th>LR</th>\n",
       "      <td>0.75</td>\n",
       "      <td>0.750000</td>\n",
       "      <td>0.75</td>\n",
       "      <td>0.935484</td>\n",
       "      <td>0.923913</td>\n",
       "      <td>0.953704</td>\n",
       "    </tr>\n",
       "    <tr>\n",
       "      <th>Ada</th>\n",
       "      <td>1.00</td>\n",
       "      <td>1.000000</td>\n",
       "      <td>1.00</td>\n",
       "      <td>1.000000</td>\n",
       "      <td>0.967391</td>\n",
       "      <td>1.000000</td>\n",
       "    </tr>\n",
       "    <tr>\n",
       "      <th>GBDT</th>\n",
       "      <td>1.00</td>\n",
       "      <td>0.666667</td>\n",
       "      <td>0.80</td>\n",
       "      <td>0.935484</td>\n",
       "      <td>1.000000</td>\n",
       "      <td>1.000000</td>\n",
       "    </tr>\n",
       "    <tr>\n",
       "      <th>svc</th>\n",
       "      <td>0.00</td>\n",
       "      <td>0.000000</td>\n",
       "      <td>0.00</td>\n",
       "      <td>0.870968</td>\n",
       "      <td>1.000000</td>\n",
       "      <td>1.000000</td>\n",
       "    </tr>\n",
       "    <tr>\n",
       "      <th>rf</th>\n",
       "      <td>1.00</td>\n",
       "      <td>1.000000</td>\n",
       "      <td>1.00</td>\n",
       "      <td>1.000000</td>\n",
       "      <td>1.000000</td>\n",
       "      <td>1.000000</td>\n",
       "    </tr>\n",
       "    <tr>\n",
       "      <th>StackingClassifier</th>\n",
       "      <td>1.00</td>\n",
       "      <td>0.666667</td>\n",
       "      <td>0.80</td>\n",
       "      <td>0.935484</td>\n",
       "      <td>1.000000</td>\n",
       "      <td>1.000000</td>\n",
       "    </tr>\n",
       "    <tr>\n",
       "      <th>LGBMClassifier</th>\n",
       "      <td>1.00</td>\n",
       "      <td>1.000000</td>\n",
       "      <td>1.00</td>\n",
       "      <td>1.000000</td>\n",
       "      <td>0.967391</td>\n",
       "      <td>1.000000</td>\n",
       "    </tr>\n",
       "  </tbody>\n",
       "</table>\n",
       "</div>"
      ],
      "text/plain": [
       "                    train_Accuracy  test_Accuracy  Precision    Recall  \\\n",
       "LR                            0.75       0.750000       0.75  0.935484   \n",
       "Ada                           1.00       1.000000       1.00  1.000000   \n",
       "GBDT                          1.00       0.666667       0.80  0.935484   \n",
       "svc                           0.00       0.000000       0.00  0.870968   \n",
       "rf                            1.00       1.000000       1.00  1.000000   \n",
       "StackingClassifier            1.00       0.666667       0.80  0.935484   \n",
       "LGBMClassifier                1.00       1.000000       1.00  1.000000   \n",
       "\n",
       "                         AUC        f1  \n",
       "LR                  0.923913  0.953704  \n",
       "Ada                 0.967391  1.000000  \n",
       "GBDT                1.000000  1.000000  \n",
       "svc                 1.000000  1.000000  \n",
       "rf                  1.000000  1.000000  \n",
       "StackingClassifier  1.000000  1.000000  \n",
       "LGBMClassifier      0.967391  1.000000  "
      ]
     },
     "execution_count": 25,
     "metadata": {},
     "output_type": "execute_result"
    }
   ],
   "source": [
    "x_train,x_test,y_train,y_test=train_test_split(x,y,random_state=30)\n",
    "\n",
    "# (x - u) / s  归一化\n",
    "tranfer = StandardScaler()\n",
    "x = tranfer.fit_transform(x)\n",
    "x_train = tranfer.transform(x_train)\n",
    "x_test = tranfer.transform(x_test)\n",
    "\n",
    "metric_xlsx = {}\n",
    "weight = []\n",
    "for clf, label in zip([LR, Ada, GBDT, svc, rf, sclf,lgb],\n",
    "                      ['LR',\n",
    "                       'Ada',\n",
    "                       'GBDT',\n",
    "                       'svc',\n",
    "                       'rf', 'StackingClassifier','LGBMClassifier']):\n",
    "    clf.fit(x_train, y_train)\n",
    "    y_predict = clf.predict(x_test)\n",
    "\n",
    "    tem_1 = [recall_score(y_test, y_predict),\n",
    "            precision_score(y_test, y_predict),\n",
    "            metrics.f1_score(y_test, y_predict),\n",
    "            metrics.accuracy_score(y_test, y_predict),\n",
    "            metrics.accuracy_score(y_train, clf.predict(x_train)),\n",
    "            metrics.roc_auc_score(y_test, clf.predict_proba(x_test)[:,1])]\n",
    "\n",
    "\n",
    "    metric_xlsx[label] = tem_1\n",
    "    tem = metrics.accuracy_score(y, clf.predict(x))\n",
    "    weight.append(tem)\n",
    "    # print('{}在预测集模型的准确率为：\\n'.format(label), metrics.accuracy_score(y_test, y_predict))\n",
    "    # print('{}在训练集模型的准确率为：\\n'.format(label), metrics.accuracy_score(y_train, clf.predict(x_train)))\n",
    "    # print('{}的综合准确率为：\\n'.format(label), metrics.accuracy_score(y, clf.predict(x)))\n",
    "    # print('{}的ROC面积为：'.format(label), metrics.roc_auc_score(y, clf.predict(x)))\n",
    "    # print('---'*8)\n",
    "data2 = pd.DataFrame(data=metric_xlsx,index=['train_Accuracy','test_Accuracy',\n",
    "                                    'Precision','Recall','AUC','f1']).T\n",
    "data2"
   ]
  },
  {
   "cell_type": "code",
   "execution_count": 21,
   "metadata": {},
   "outputs": [
    {
     "name": "stdout",
     "output_type": "stream",
     "text": [
      "6\n",
      "[0.926829268292683, 0.975609756097561, 0.983739837398374, 0.967479674796748, 1.0, 0.983739837398374]\n",
      "soft Voting在预测集模型的准确率为：\n",
      " 1.0\n",
      "soft Voting在训练集模型的准确率为：\n",
      " 1.0\n",
      "soft voting的综合表现:\n",
      " 1.0\n",
      "\n",
      "soft voting的ROC面积：\n",
      " 1.0\n"
     ]
    },
    {
     "data": {
      "text/html": [
       "<div>\n",
       "<style scoped>\n",
       "    .dataframe tbody tr th:only-of-type {\n",
       "        vertical-align: middle;\n",
       "    }\n",
       "\n",
       "    .dataframe tbody tr th {\n",
       "        vertical-align: top;\n",
       "    }\n",
       "\n",
       "    .dataframe thead th {\n",
       "        text-align: right;\n",
       "    }\n",
       "</style>\n",
       "<table border=\"1\" class=\"dataframe\">\n",
       "  <thead>\n",
       "    <tr style=\"text-align: right;\">\n",
       "      <th></th>\n",
       "      <th>违约概率</th>\n",
       "    </tr>\n",
       "  </thead>\n",
       "  <tbody>\n",
       "    <tr>\n",
       "      <th>0</th>\n",
       "      <td>0.116077</td>\n",
       "    </tr>\n",
       "    <tr>\n",
       "      <th>1</th>\n",
       "      <td>0.101989</td>\n",
       "    </tr>\n",
       "    <tr>\n",
       "      <th>2</th>\n",
       "      <td>0.088904</td>\n",
       "    </tr>\n",
       "    <tr>\n",
       "      <th>3</th>\n",
       "      <td>0.076958</td>\n",
       "    </tr>\n",
       "    <tr>\n",
       "      <th>4</th>\n",
       "      <td>0.096790</td>\n",
       "    </tr>\n",
       "  </tbody>\n",
       "</table>\n",
       "</div>"
      ],
      "text/plain": [
       "       违约概率\n",
       "0  0.116077\n",
       "1  0.101989\n",
       "2  0.088904\n",
       "3  0.076958\n",
       "4  0.096790"
      ]
     },
     "execution_count": 21,
     "metadata": {},
     "output_type": "execute_result"
    }
   ],
   "source": [
    "print(len(weight))\n",
    "print(weight)\n",
    "\n",
    "# 软投票\n",
    "w = weight/sum(weight)\n",
    "\n",
    "vote2 = VotingClassifier(estimators=[('LR', LR), ('Ada', Ada), ('GBDT', GBDT),\n",
    "                                     ('SVC', svc), ('rf', rf),\n",
    "                                     ('StackingClassifier', sclf)],\n",
    "                         voting='soft',\n",
    "                         weights=weight)\n",
    "vote2.fit(x_train,y_train)\n",
    "y_predict = vote2.predict(x_test)\n",
    "\n",
    "print('{}在预测集模型的准确率为：\\n'.format('soft Voting'),\n",
    "      metrics.accuracy_score(y_test, y_predict))\n",
    "print('{}在训练集模型的准确率为：\\n'.format('soft Voting'),\n",
    "      metrics.accuracy_score(y_train, vote2.predict(x_train)))\n",
    "print('soft voting的综合表现:\\n', metrics.accuracy_score(y, vote2.predict(x)))\n",
    "print()\n",
    "print('soft voting的ROC面积：\\n', roc_auc_score(y, vote2.predict(x)))\n",
    "\n",
    "P = vote2.predict_proba(x)[:, 1]\n",
    "df = pd.DataFrame(data={'违约概率': P})\n",
    "df.head()"
   ]
  },
  {
   "cell_type": "markdown",
   "metadata": {},
   "source": [
    "## ROC曲线的绘制"
   ]
  },
  {
   "cell_type": "code",
   "execution_count": null,
   "metadata": {},
   "outputs": [],
   "source": [
    "fpr,tpr,threshold = metrics.roc_curve(y,P)\n",
    "# 计算AUC的值\n",
    "roc_auc = metrics.auc(fpr,tpr)\n",
    "\n",
    "#绘制面积图\n",
    "plt.figure(figsize=(6,4),dpi=250)\n",
    "plt.stackplot(fpr,tpr,color='steelblue',alpha=0.5,edgecolor='black')\n",
    "# 添加边际线\n",
    "plt.plot(fpr,tpr,color='black',lw=1)\n",
    "# 添加对角线\n",
    "plt.plot([0,1],[0,1],color='red',linestyle='--')\n",
    "# 添加文本信息\n",
    "plt.text(0.5,0.3,'ROC curve (area = %0.4f)' % roc_auc,fontsize=10)\n",
    "# 添加x轴坐标与y轴坐标\n",
    "plt.xlabel('1-Specificity')\n",
    "plt.ylabel('Sensitivity')\n",
    "\n",
    "fpr,tpr,threshold = metrics.roc_curve(y,P)\n",
    "# 计算AUC的值\n",
    "print('AUC的值为：',roc_auc)\n",
    "plt.savefig('./latex/img/1/AUC.png')\n",
    "plt.show()"
   ]
  },
  {
   "cell_type": "code",
   "execution_count": null,
   "metadata": {},
   "outputs": [],
   "source": [
    "df['信誉评级'] = data['信誉评级'].reset_index()['信誉评级']\n",
    "df.head()"
   ]
  },
  {
   "cell_type": "code",
   "execution_count": null,
   "metadata": {},
   "outputs": [],
   "source": [
    "A_aver = sum(df[df['信誉评级']=='A']['违约概率'])/len(df[df['信誉评级']=='A']['违约概率'])\n",
    "B_aver = sum(df[df['信誉评级']=='B']['违约概率'])/len(df[df['信誉评级']=='B']['违约概率'])\n",
    "C_aver = sum(df[df['信誉评级']=='C']['违约概率'])/len(df[df['信誉评级']=='C']['违约概率'])\n",
    "D_aver = sum(df[df['信誉评级']=='D']['违约概率'])/len(df[df['信誉评级']=='D']['违约概率'])\n",
    "da = {'A企业违约风险':A_aver,'B企业违约风险':B_aver,'C企业违约风险':C_aver,'D企业违约风险':D_aver}\n",
    "da1 = pd.DataFrame(data=da,index=[0])\n",
    "\n",
    "da1.to_csv('./excel/result/1/平均违约风险最终结果.csv', encoding='gbk')\n",
    "da1.head()\n"
   ]
  },
  {
   "cell_type": "markdown",
   "metadata": {},
   "source": [
    "# 第二问预测"
   ]
  },
  {
   "cell_type": "code",
   "execution_count": null,
   "metadata": {},
   "outputs": [],
   "source": [
    "new_da = pd.read_csv('./excel/extract/1/第一问所有特征.csv', encoding='utf-8')\n",
    "new_da.head()"
   ]
  },
  {
   "cell_type": "code",
   "execution_count": null,
   "metadata": {},
   "outputs": [],
   "source": [
    "new_x = new_da.iloc[:,1:-1].values\n",
    "new_x = tranfer.transform(new_x)"
   ]
  },
  {
   "cell_type": "code",
   "execution_count": null,
   "metadata": {},
   "outputs": [],
   "source": [
    "wieyue = vote2.predict(new_x)\n",
    "sigma = vote2.predict_proba(new_x)[:, 1]\n",
    "new_da['是否违约'] = wieyue\n",
    "new_da['违约风险'] = sigma\n",
    "new_da.head()\n",
    "new_da.to_csv('已经判断是否违约.csv', encoding='gbk')\n"
   ]
  },
  {
   "cell_type": "markdown",
   "metadata": {},
   "source": [
    "#  第二问循环预测"
   ]
  },
  {
   "cell_type": "code",
   "execution_count": null,
   "metadata": {},
   "outputs": [],
   "source": [
    "x = data.drop(['是否违约','信誉评级'],axis=1).values      # 21个特征\n",
    "y = pd.read_csv('违约风险.csv',encoding='gbk')['评级'].values  # 评价等级编码"
   ]
  },
  {
   "cell_type": "code",
   "execution_count": 1,
   "metadata": {},
   "outputs": [
    {
     "ename": "NameError",
     "evalue": "name 'train_test_split' is not defined",
     "output_type": "error",
     "traceback": [
      "\u001b[1;31m---------------------------------------------------------------------------\u001b[0m",
      "\u001b[1;31mNameError\u001b[0m                                 Traceback (most recent call last)",
      "\u001b[1;32m~\\AppData\\Local\\Temp\\ipykernel_44636\\2159717754.py\u001b[0m in \u001b[0;36m<module>\u001b[1;34m\u001b[0m\n\u001b[1;32m----> 1\u001b[1;33m \u001b[0mx_train\u001b[0m\u001b[1;33m,\u001b[0m\u001b[0mx_test\u001b[0m\u001b[1;33m,\u001b[0m\u001b[0my_train\u001b[0m\u001b[1;33m,\u001b[0m\u001b[0my_test\u001b[0m\u001b[1;33m=\u001b[0m\u001b[0mtrain_test_split\u001b[0m\u001b[1;33m(\u001b[0m\u001b[0mx\u001b[0m\u001b[1;33m,\u001b[0m\u001b[0my\u001b[0m\u001b[1;33m,\u001b[0m\u001b[0mrandom_state\u001b[0m\u001b[1;33m=\u001b[0m\u001b[1;36m30\u001b[0m\u001b[1;33m)\u001b[0m\u001b[1;33m\u001b[0m\u001b[1;33m\u001b[0m\u001b[0m\n\u001b[0m\u001b[0;32m      2\u001b[0m \u001b[1;33m\u001b[0m\u001b[0m\n\u001b[0;32m      3\u001b[0m \u001b[0mtranfer\u001b[0m \u001b[1;33m=\u001b[0m \u001b[0mStandardScaler\u001b[0m\u001b[1;33m(\u001b[0m\u001b[1;33m)\u001b[0m\u001b[1;33m\u001b[0m\u001b[1;33m\u001b[0m\u001b[0m\n\u001b[0;32m      4\u001b[0m \u001b[1;31m# x = tranfer.fit_transform(x)\u001b[0m\u001b[1;33m\u001b[0m\u001b[1;33m\u001b[0m\u001b[1;33m\u001b[0m\u001b[0m\n\u001b[0;32m      5\u001b[0m \u001b[0mx_train\u001b[0m \u001b[1;33m=\u001b[0m \u001b[0mtranfer\u001b[0m\u001b[1;33m.\u001b[0m\u001b[0mfit_transform\u001b[0m\u001b[1;33m(\u001b[0m\u001b[0mx_train\u001b[0m\u001b[1;33m)\u001b[0m\u001b[1;33m\u001b[0m\u001b[1;33m\u001b[0m\u001b[0m\n",
      "\u001b[1;31mNameError\u001b[0m: name 'train_test_split' is not defined"
     ]
    }
   ],
   "source": [
    "x_train,x_test,y_train,y_test=train_test_split(x,y,random_state=30)\n",
    "\n",
    "tranfer = StandardScaler()\n",
    "x = tranfer.fit_transform(x)\n",
    "x_train = tranfer.transform(x_train)\n",
    "x_test = tranfer.transform(x_test)\n",
    "\n",
    "# weight = []\n",
    "# for clf, label in zip([LR, Ada, GBDT, svc, rf, sclf],\n",
    "#                       ['LR',\n",
    "#                        'Ada',\n",
    "#                        'GBDT',\n",
    "#                        'svc',\n",
    "#                        'rf', 'StackingClassifier']):\n",
    "#     clf.fit(x_train, y_train)\n",
    "#     y_predict = clf.predict(x_test)\n",
    "#     print('{}在预测集模型的准确率为：\\n'.format(label), metrics.accuracy_score(y_test, y_predict))\n",
    "#     print('{}在训练集模型的准确率为：\\n'.format(label), metrics.accuracy_score(y_train, clf.predict(x_train)))\n",
    "#     print('{}的综合准确率为：\\n'.format(label), metrics.accuracy_score(y, clf.predict(x)))\n",
    "#     tem = metrics.accuracy_score(y, clf.predict(x))\n",
    "#     weight.append(tem)\n",
    "\n",
    "# weight\n",
    "# del weight[-1]\n",
    "\n",
    "# # 软投票\n",
    "# w = weight/sum(weight)\n",
    "\n",
    "# vote2= VotingClassifier(estimators=[('LR',LR),('Ada',Ada), ('GBDT',GBDT), ('SVC',svc),('rf',rf)],\n",
    "#                           voting='soft',weights=weight)\n",
    "# vote2.fit(x_train,y_train)\n",
    "# y_predict = vote2.predict(x_test)\n",
    "# print('{}在预测集模型的准确率为：\\n'.format('soft Voting'),metrics.accuracy_score(y_test,y_predict))\n",
    "# print('{}在训练集模型的准确率为：\\n'.format('soft Voting'),metrics.accuracy_score(y_train,vote2.predict(x_train)))\n",
    "# print('soft voting的综合表现:\\n',metrics.accuracy_score(y,vote2.predict(x)))"
   ]
  },
  {
   "cell_type": "markdown",
   "metadata": {},
   "source": [
    "# XGB调参"
   ]
  },
  {
   "cell_type": "code",
   "execution_count": null,
   "metadata": {},
   "outputs": [],
   "source": [
    "other_params = {'learning_rate': 0.16, 'max_depth': 6, 'min_child_weight': 2, 'seed': 10,'estimator':60,\n",
    "                    'subsample': 0.8, 'colsample_bytree': 0.9, 'gamma': 0.5, 'reg_alpha': 0.08, 'reg_lambda': 0.12}\n",
    "from xgboost import XGBClassifier\n",
    "estimator = XGBClassifier(objective='multi:softmax',num_class=4,eval_metric='auc',**other_params)\n",
    "\n",
    "# 加入网格搜索和叫交叉验证\n",
    "#param_dict = {'learning_rate': [i*0.01 for i in range(16,31)]}\n",
    "\n",
    "\n",
    "#estimator = GridSearchCV(estimator,param_grid=param_dict,cv=5,scoring='accuracy')\n",
    "estimator.fit(x_train,y_train)"
   ]
  },
  {
   "cell_type": "code",
   "execution_count": null,
   "metadata": {},
   "outputs": [],
   "source": [
    "# print('最好分数:',estimator.best_score_)\n",
    "# print('最佳预估器:',estimator.best_params_)\n",
    "# print('最佳参数：',estimator.best_estimator_)\n",
    "\n",
    "y_predict = estimator.predict(x_test)\n",
    "print('预测集模型的准确率为：\\n', metrics.accuracy_score(y_test, y_predict))\n",
    "print('训练集模型的准确率为：\\n', metrics.accuracy_score(y_train, estimator.predict(x_train)))\n",
    "print('综合准确率为：\\n', metrics.accuracy_score(y,estimator.predict(x)))\n"
   ]
  },
  {
   "cell_type": "code",
   "execution_count": null,
   "metadata": {},
   "outputs": [],
   "source": [
    "new = pd.read_csv('已经判断是否违约.csv',encoding='gbk')\n",
    "new"
   ]
  },
  {
   "cell_type": "code",
   "execution_count": null,
   "metadata": {},
   "outputs": [],
   "source": [
    "new_x = new.iloc[:,1:-1].values\n",
    "new_x = tranfer.transform(new_x)"
   ]
  },
  {
   "cell_type": "code",
   "execution_count": null,
   "metadata": {},
   "outputs": [],
   "source": [
    "predict_y = estimator.predict(new_x)"
   ]
  },
  {
   "cell_type": "code",
   "execution_count": null,
   "metadata": {},
   "outputs": [],
   "source": [
    "new['信誉评级'] = predict_y\n",
    "new"
   ]
  },
  {
   "cell_type": "code",
   "execution_count": null,
   "metadata": {},
   "outputs": [],
   "source": [
    "new.to_csv('第二问最终分类结果.csv',encoding='gbk')"
   ]
  },
  {
   "cell_type": "code",
   "execution_count": null,
   "metadata": {},
   "outputs": [],
   "source": [
    "new['企业代号'].values"
   ]
  },
  {
   "cell_type": "code",
   "execution_count": 8,
   "metadata": {},
   "outputs": [],
   "source": [
    "input1 = pd.read_excel('./excel/附件2：302家无信贷记录企业的相关数据.xlsx',sheet_name='销项发票信息')\n",
    "output1 = pd.read_excel('./excel/附件2：302家无信贷记录企业的相关数据.xlsx',sheet_name='进项发票信息')"
   ]
  },
  {
   "cell_type": "code",
   "execution_count": 10,
   "metadata": {},
   "outputs": [],
   "source": [
    "in_20 = input1[input1['开票日期']>'2020']\n",
    "out_20 = output1[output1['开票日期']>'2020']\n",
    "in_19 = input1[(input1['开票日期'] > '2019') & (input1['开票日期'] < '2020')]\n",
    "out_19 = output1[(output1['开票日期'] > '2019') & (output1['开票日期'] < '2020')]\n"
   ]
  },
  {
   "cell_type": "code",
   "execution_count": 11,
   "metadata": {},
   "outputs": [
    {
     "name": "stdout",
     "output_type": "stream",
     "text": [
      "C_o_20 131\n",
      "C_o_19 300\n"
     ]
    },
    {
     "ename": "NameError",
     "evalue": "name 'new' is not defined",
     "output_type": "error",
     "traceback": [
      "\u001b[1;31m---------------------------------------------------------------------------\u001b[0m",
      "\u001b[1;31mNameError\u001b[0m                                 Traceback (most recent call last)",
      "\u001b[1;32m~\\AppData\\Local\\Temp\\ipykernel_31380\\1348766111.py\u001b[0m in \u001b[0;36m<module>\u001b[1;34m\u001b[0m\n\u001b[0;32m      5\u001b[0m \u001b[0mprint\u001b[0m\u001b[1;33m(\u001b[0m\u001b[1;34m'C_o_20'\u001b[0m\u001b[1;33m,\u001b[0m\u001b[0mlen\u001b[0m\u001b[1;33m(\u001b[0m\u001b[0mC_o_20\u001b[0m\u001b[1;33m)\u001b[0m\u001b[1;33m)\u001b[0m\u001b[1;33m\u001b[0m\u001b[1;33m\u001b[0m\u001b[0m\n\u001b[0;32m      6\u001b[0m \u001b[0mprint\u001b[0m\u001b[1;33m(\u001b[0m\u001b[1;34m'C_o_19'\u001b[0m\u001b[1;33m,\u001b[0m\u001b[0mlen\u001b[0m\u001b[1;33m(\u001b[0m\u001b[0mC_o_19\u001b[0m\u001b[1;33m)\u001b[0m\u001b[1;33m)\u001b[0m\u001b[1;33m\u001b[0m\u001b[1;33m\u001b[0m\u001b[0m\n\u001b[1;32m----> 7\u001b[1;33m \u001b[0mall1\u001b[0m \u001b[1;33m=\u001b[0m \u001b[0mnew\u001b[0m\u001b[1;33m[\u001b[0m\u001b[1;34m'企业代号'\u001b[0m\u001b[1;33m]\u001b[0m\u001b[1;33m.\u001b[0m\u001b[0mvalues\u001b[0m\u001b[1;33m\u001b[0m\u001b[1;33m\u001b[0m\u001b[0m\n\u001b[0m",
      "\u001b[1;31mNameError\u001b[0m: name 'new' is not defined"
     ]
    }
   ],
   "source": [
    "C_i_20 = in_20['企业代号'].unique()       # 本身企业的数量\n",
    "C_o_20 = out_20['企业代号'].unique()\n",
    "C_i_19 = in_19['企业代号'].unique()\n",
    "C_o_19 = out_19['企业代号'].unique()\n",
    "print('C_o_20',len(C_o_20))\n",
    "print('C_o_19',len(C_o_19))\n",
    "all1 = new['企业代号'].values"
   ]
  },
  {
   "cell_type": "code",
   "execution_count": 12,
   "metadata": {},
   "outputs": [
    {
     "ename": "NameError",
     "evalue": "name 'all1' is not defined",
     "output_type": "error",
     "traceback": [
      "\u001b[1;31m---------------------------------------------------------------------------\u001b[0m",
      "\u001b[1;31mNameError\u001b[0m                                 Traceback (most recent call last)",
      "\u001b[1;32m~\\AppData\\Local\\Temp\\ipykernel_31380\\2381973248.py\u001b[0m in \u001b[0;36m<module>\u001b[1;34m\u001b[0m\n\u001b[0;32m      1\u001b[0m \u001b[0mjin_2020\u001b[0m\u001b[1;33m=\u001b[0m\u001b[1;33m[\u001b[0m\u001b[1;33m]\u001b[0m\u001b[1;33m\u001b[0m\u001b[1;33m\u001b[0m\u001b[0m\n\u001b[1;32m----> 2\u001b[1;33m \u001b[1;32mfor\u001b[0m \u001b[0mi\u001b[0m \u001b[1;32min\u001b[0m \u001b[0mrange\u001b[0m\u001b[1;33m(\u001b[0m\u001b[0mlen\u001b[0m\u001b[1;33m(\u001b[0m\u001b[0mall1\u001b[0m\u001b[1;33m)\u001b[0m\u001b[1;33m)\u001b[0m\u001b[1;33m:\u001b[0m\u001b[1;33m\u001b[0m\u001b[1;33m\u001b[0m\u001b[0m\n\u001b[0m\u001b[0;32m      3\u001b[0m     \u001b[1;32mif\u001b[0m \u001b[0mall1\u001b[0m\u001b[1;33m[\u001b[0m\u001b[0mi\u001b[0m\u001b[1;33m]\u001b[0m \u001b[1;32min\u001b[0m \u001b[0mC_i_20\u001b[0m\u001b[1;33m:\u001b[0m\u001b[1;33m\u001b[0m\u001b[1;33m\u001b[0m\u001b[0m\n\u001b[0;32m      4\u001b[0m         \u001b[0mtem\u001b[0m \u001b[1;33m=\u001b[0m \u001b[0mlen\u001b[0m\u001b[1;33m(\u001b[0m\u001b[0min_20\u001b[0m\u001b[1;33m[\u001b[0m\u001b[0min_20\u001b[0m\u001b[1;33m[\u001b[0m\u001b[1;34m'企业代号'\u001b[0m\u001b[1;33m]\u001b[0m\u001b[1;33m==\u001b[0m\u001b[0mall1\u001b[0m\u001b[1;33m[\u001b[0m\u001b[0mi\u001b[0m\u001b[1;33m]\u001b[0m\u001b[1;33m]\u001b[0m\u001b[1;33m[\u001b[0m\u001b[1;34m'购方单位代号'\u001b[0m\u001b[1;33m]\u001b[0m\u001b[1;33m.\u001b[0m\u001b[0munique\u001b[0m\u001b[1;33m(\u001b[0m\u001b[1;33m)\u001b[0m\u001b[1;33m)\u001b[0m\u001b[1;33m\u001b[0m\u001b[1;33m\u001b[0m\u001b[0m\n\u001b[0;32m      5\u001b[0m     \u001b[1;32melse\u001b[0m\u001b[1;33m:\u001b[0m\u001b[1;33m\u001b[0m\u001b[1;33m\u001b[0m\u001b[0m\n",
      "\u001b[1;31mNameError\u001b[0m: name 'all1' is not defined"
     ]
    }
   ],
   "source": [
    "jin_2020=[]          \n",
    "for i in range(len(all1)):\n",
    "    if all1[i] in C_i_20:\n",
    "        tem = len(in_20[in_20['企业代号']==all1[i]]['购方单位代号'].unique())\n",
    "    else:\n",
    "        tem = 0\n",
    "    \n",
    "    jin_2020.append(tem)\n",
    "    \n",
    "    \n",
    "jin_2019=[]          \n",
    "for i in range(len(all1)):\n",
    "    if all1[i] in C_i_19:\n",
    "        tem = len(in_19[in_19['企业代号']==all1[i]]['购方单位代号'].unique())\n",
    "    else:\n",
    "        tem = 0\n",
    "    \n",
    "    jin_2019.append(tem)\n",
    "\n",
    "    \n",
    "xiao_2020=[]\n",
    "for i in range(len(all1)):\n",
    "    if all1[i] in C_o_20:\n",
    "        tem = len(out_20[out_20['企业代号']==all1[i]]['销方单位代号'].unique())\n",
    "    else:\n",
    "        tem = 0\n",
    "    \n",
    "    xiao_2020.append(tem)\n",
    "    \n",
    "xiao_2019=[]\n",
    "for i in range(len(all1)):\n",
    "    if all1[i] in C_o_19:\n",
    "        tem = len(out_19[out_19['企业代号']==all1[i]]['销方单位代号'].unique())\n",
    "    else:\n",
    "        tem = 0\n",
    "    \n",
    "    xiao_2019.append(tem)"
   ]
  },
  {
   "cell_type": "code",
   "execution_count": null,
   "metadata": {},
   "outputs": [],
   "source": [
    "da2 = {'2020年进项交易企业数':jin_2020,\n",
    "      '2020年销项交易企业数':xiao_2020,\n",
    "      '2019年进项交易企业数':jin_2019,\n",
    "      '2019年销项交易企业数':xiao_2019}\n",
    "data2 = pd.DataFrame(data=da2)\n",
    "data2"
   ]
  },
  {
   "cell_type": "code",
   "execution_count": null,
   "metadata": {},
   "outputs": [],
   "source": [
    "data2['进项交易企业变化率'] = data2['2020年进项交易企业数']-data2['2019年进项交易企业数']/data2['2019年进项交易企业数']\n",
    "data2['销项交易企业变化率'] = data2['2020年销项交易企业数']-data2['2019年销项交易企业数']/data2['2019年销项交易企业数']\n",
    "data2.loc[205,'销项交易企业变化率'] = 1\n",
    "data2.loc[225,'进项交易企业变化率'] = 0\n",
    "data2.loc[258,'销项交易企业变化率'] = 0\n",
    "data2"
   ]
  },
  {
   "cell_type": "code",
   "execution_count": null,
   "metadata": {},
   "outputs": [],
   "source": [
    "data2[data2.isnull().values==True]"
   ]
  },
  {
   "cell_type": "code",
   "execution_count": null,
   "metadata": {},
   "outputs": [],
   "source": [
    "data2.to_csv('第三问交易企业变化率.csv',encoding='gbk')"
   ]
  },
  {
   "cell_type": "markdown",
   "metadata": {},
   "source": [
    "#  聚类结果后特征描述性统计分析"
   ]
  },
  {
   "cell_type": "code",
   "execution_count": null,
   "metadata": {},
   "outputs": [],
   "source": [
    "data3 = pd.read_excel('第三问所有聚类特征与结果.xlsx',encoding='gbk')\n",
    "data3"
   ]
  },
  {
   "cell_type": "code",
   "execution_count": null,
   "metadata": {},
   "outputs": [],
   "source": [
    "A = data3[data3['聚类类别']==1]\n",
    "B = data3[data3['聚类类别']==2]\n",
    "C = data3[data3['聚类类别']==3]"
   ]
  },
  {
   "cell_type": "code",
   "execution_count": null,
   "metadata": {},
   "outputs": [],
   "source": [
    "A.describe().loc[['count','mean','min','max']].to_csv('类别1描述.csv',encoding='gbk')\n",
    "B.describe().loc[['count','mean','min','max']].to_csv('类别2描述.csv',encoding='gbk')\n",
    "C.describe().loc[['count','mean','min','max']].to_csv('类别3描述.csv',encoding='gbk')"
   ]
  },
  {
   "cell_type": "code",
   "execution_count": null,
   "metadata": {},
   "outputs": [],
   "source": [
    "A.describe().loc[['count','mean','min','max']]"
   ]
  },
  {
   "cell_type": "code",
   "execution_count": null,
   "metadata": {},
   "outputs": [],
   "source": [
    "min(A['同比增长速度'])"
   ]
  },
  {
   "cell_type": "code",
   "execution_count": null,
   "metadata": {},
   "outputs": [],
   "source": [
    "A"
   ]
  },
  {
   "cell_type": "markdown",
   "metadata": {},
   "source": [
    "# 画图"
   ]
  },
  {
   "cell_type": "code",
   "execution_count": null,
   "metadata": {},
   "outputs": [],
   "source": [
    "data4 = pd.read_excel('第三问所有聚类特征与结果.xlsx',encoding='gbk',sheet_name='Sheet1')\n",
    "data4 = data4.iloc[0:34,:]"
   ]
  },
  {
   "cell_type": "code",
   "execution_count": null,
   "metadata": {},
   "outputs": [],
   "source": [
    "import matplotlib.pyplot as plt\n",
    "plt.rcParams['font.sans-serif'] = ['KaiTi'] # 指定默认字体\n",
    "plt.rcParams['axes.unicode_minus'] = False # 解决保存图像是负号'-'显示为方块的问题\n",
    "plt.figure(figsize=(7,5),dpi=250)\n",
    "plt.plot(data4.values,label='聚合系数')\n",
    "plt.legend()\n",
    "plt.show()"
   ]
  },
  {
   "cell_type": "code",
   "execution_count": null,
   "metadata": {},
   "outputs": [],
   "source": [
    "ddd = pd.read_csv('第二问最终分类结果.csv',encoding='gbk')\n",
    "ddd"
   ]
  },
  {
   "cell_type": "code",
   "execution_count": null,
   "metadata": {},
   "outputs": [],
   "source": [
    "for i in range(len(ddd)):\n",
    "    if ddd.loc[i,'信誉评级']==1:\n",
    "        ddd.loc[i,'评级']='A'\n",
    "    elif ddd.loc[i,'信誉评级']==2:\n",
    "        ddd.loc[i,'评级']='B'\n",
    "    elif ddd.loc[i,'信誉评级']==3:\n",
    "        ddd.loc[i,'评级']='C'\n",
    "    elif ddd.loc[i,'信誉评级']==4:\n",
    "        ddd.loc[i,'评级']='D'"
   ]
  },
  {
   "cell_type": "code",
   "execution_count": null,
   "metadata": {},
   "outputs": [],
   "source": [
    "ddd.to_csv('有评级.csv',encoding='gbk')"
   ]
  }
 ],
 "metadata": {
  "kernelspec": {
   "display_name": "Python 3.7.9 ('base')",
   "language": "python",
   "name": "python3"
  },
  "language_info": {
   "codemirror_mode": {
    "name": "ipython",
    "version": 3
   },
   "file_extension": ".py",
   "mimetype": "text/x-python",
   "name": "python",
   "nbconvert_exporter": "python",
   "pygments_lexer": "ipython3",
   "version": "3.7.9"
  },
  "toc": {
   "base_numbering": 1,
   "nav_menu": {},
   "number_sections": true,
   "sideBar": true,
   "skip_h1_title": false,
   "title_cell": "Table of Contents",
   "title_sidebar": "Contents",
   "toc_cell": false,
   "toc_position": {},
   "toc_section_display": true,
   "toc_window_display": false
  },
  "vscode": {
   "interpreter": {
    "hash": "2081760f1c3736c0f23b343f8717a57a2e7acf9e623fea9094d6936a46bdacf7"
   }
  }
 },
 "nbformat": 4,
 "nbformat_minor": 4
}
