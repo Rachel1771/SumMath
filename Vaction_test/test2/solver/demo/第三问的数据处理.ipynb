{
 "cells": [
  {
   "cell_type": "markdown",
   "metadata": {},
   "source": [
    "# 企业状况和同比增长率"
   ]
  },
  {
   "cell_type": "code",
   "execution_count": 6,
   "metadata": {},
   "outputs": [],
   "source": [
    "import pandas as pd\n",
    "import numpy as np\n",
    "import matplotlib.pyplot as plt\n",
    "from datetime import datetime\n",
    "import time"
   ]
  },
  {
   "cell_type": "code",
   "execution_count": 7,
   "metadata": {},
   "outputs": [],
   "source": [
    "input1 = pd.read_excel('附件2：302家无信贷记录企业的相关数据.xlsx',sheet_name='进项发票信息')\n",
    "output1 = pd.read_excel('附件2：302家无信贷记录企业的相关数据.xlsx',sheet_name='销项发票信息')"
   ]
  },
  {
   "cell_type": "code",
   "execution_count": 8,
   "metadata": {},
   "outputs": [],
   "source": [
    "for i in range(len(input1)):         # 删除作废发票\n",
    "    if input1.loc[i,'发票状态']=='作废发票':\n",
    "        input1.drop(i,inplace=True)\n",
    "\n",
    "for i in range(len(output1)):\n",
    "    if output1.loc[i,'发票状态']=='作废发票':\n",
    "        output1.drop(i,inplace=True)"
   ]
  },
  {
   "cell_type": "code",
   "execution_count": 9,
   "metadata": {},
   "outputs": [],
   "source": [
    "input1.reset_index(drop = True,inplace=True)\n",
    "output1.reset_index(drop = True,inplace=True)"
   ]
  },
  {
   "cell_type": "code",
   "execution_count": 10,
   "metadata": {},
   "outputs": [],
   "source": [
    "input1['开票日期'] = pd.to_datetime(input1['开票日期'])\n",
    "output1['开票日期'] = pd.to_datetime(output1['开票日期'])"
   ]
  },
  {
   "cell_type": "code",
   "execution_count": 25,
   "metadata": {},
   "outputs": [],
   "source": [
    "# in_one=[]\n",
    "r_in1=[]\n",
    "temp=0\n",
    "for num in range(124,426):\n",
    "    id1 = 'E'+str(num)\n",
    "    tem = input1[input1['企业代号']==id1]\n",
    "    tem2=tem[(tem['开票日期']>'2020-01-01')]\n",
    "    all_num=tem2.shape[0]\n",
    "   \n",
    "    if(all_num==0):\n",
    "        r_in1.append(temp)\n",
    "    else:\n",
    "        tem3=tem2[(tem2['开票日期']<'2020-02-01')]\n",
    "        sum=tem3['金额'].sum()\n",
    "        r_in1.append(sum)\n",
    "\n",
    "\n",
    "\n"
   ]
  },
  {
   "cell_type": "code",
   "execution_count": 26,
   "metadata": {},
   "outputs": [],
   "source": [
    "r_out1=[]\n",
    "temp=0\n",
    "for num in range(124,426):\n",
    "    id1 = 'E'+str(num)\n",
    "    tem = output1[output1['企业代号']==id1]\n",
    "    tem2=tem[(tem['开票日期']>'2020-01-01')]\n",
    "    all_num=tem2.shape[0]\n",
    "   \n",
    "    if(all_num==0):\n",
    "        r_out1.append(temp)\n",
    "    else:\n",
    "        tem3=tem2[(tem2['开票日期']<'2020-02-01')]\n",
    "        sum=tem3['金额'].sum()\n",
    "        r_out1.append(sum)\n"
   ]
  },
  {
   "cell_type": "code",
   "execution_count": 27,
   "metadata": {},
   "outputs": [],
   "source": [
    "r_in2=[]\n",
    "temp=0\n",
    "for num in range(124,426):\n",
    "    id1 = 'E'+str(num)\n",
    "    tem = input1[input1['企业代号']==id1]\n",
    "    tem2=tem[(tem['开票日期']>'2020-01-01')]\n",
    "    all_num=tem2.shape[0]\n",
    "   \n",
    "    if(all_num==0):\n",
    "        r_in2.append(temp)\n",
    "    else:\n",
    "        tem3=tem2[(tem2['开票日期']>'2020-02-01')]\n",
    "        sum=tem3['金额'].sum()\n",
    "        r_in2.append(sum)\n"
   ]
  },
  {
   "cell_type": "code",
   "execution_count": 28,
   "metadata": {},
   "outputs": [],
   "source": [
    "r_out2=[]\n",
    "temp=0\n",
    "for num in range(124,426):\n",
    "    id1 = 'E'+str(num)\n",
    "    tem = output1[output1['企业代号']==id1]\n",
    "    tem2=tem[(tem['开票日期']>'2020-01-01')]\n",
    "    all_num=tem2.shape[0]\n",
    "   \n",
    "    if(all_num==0):\n",
    "        r_out2.append(temp)\n",
    "    else:\n",
    "        tem3=tem2[(tem2['开票日期']>'2020-02-01')]\n",
    "        sum=tem3['金额'].sum()\n",
    "        r_out2.append(sum)\n"
   ]
  },
  {
   "cell_type": "code",
   "execution_count": 29,
   "metadata": {},
   "outputs": [],
   "source": [
    "name=[]\n",
    "for num in range(124,426):\n",
    "    id = 'E'+str(num)\n",
    "    name.append(id)\n",
    "\n"
   ]
  },
  {
   "cell_type": "code",
   "execution_count": 30,
   "metadata": {},
   "outputs": [],
   "source": [
    "\n",
    "\n",
    "\n",
    "end_1 = []\n",
    "end_2 = []\n",
    "for i in range(len(r_in1)):\n",
    "    sum1 = r_out1[i]-r_in1[i]\n",
    "    sum2 = r_out2[i]-r_in2[i]\n",
    "    end_1.append(sum1)\n",
    "    end_2.append(sum2)\n",
    "\n"
   ]
  },
  {
   "cell_type": "code",
   "execution_count": 31,
   "metadata": {},
   "outputs": [],
   "source": [
    "ans_1 = []\n",
    "ans_2 = []\n",
    "temp1='亏损'\n",
    "temp2='盈利'\n",
    "temp3='未交易'\n",
    "for i in range(len(end_1)):\n",
    "    if(end_1[i]<0):\n",
    "        ans_1.append(temp1)\n",
    "    elif(end_1[i]==0):\n",
    "        ans_1.append(temp3)\n",
    "    elif(end_1[i]>0):\n",
    "        ans_1.append(temp2)\n",
    "\n",
    "for i in range(len(end_1)):\n",
    "    if(end_2[i]<0):\n",
    "        ans_2.append(temp1)\n",
    "    elif(end_2[i]==0):\n",
    "        ans_2.append(temp3)\n",
    "    elif(end_2[i]>0):\n",
    "        ans_2.append(temp2)\n"
   ]
  },
  {
   "cell_type": "markdown",
   "metadata": {},
   "source": [
    "## 2019数据"
   ]
  },
  {
   "cell_type": "code",
   "execution_count": 32,
   "metadata": {},
   "outputs": [],
   "source": [
    "s_in1=[]\n",
    "s_in2=[]\n",
    "temp=0\n",
    "for num in range(124,426):\n",
    "    id1 = 'E'+str(num)\n",
    "    year = input1[input1['企业代号']==id1]\n",
    "    year2 = year[(year['开票日期']>'2019-01-01')]\n",
    "    year3 = year2[(year2['开票日期']<'2019-1-31')]\n",
    "    year4 = year[(year['开票日期']>'2019-01-31')]\n",
    "    year5 = year4[(year4['开票日期']<'2019-02-27')]\n",
    "    sum = year3['金额'].sum()\n",
    "    sum2 = year5['金额'].sum()\n",
    "    s_in1.append(sum)\n",
    "    s_in2.append(sum2)\n"
   ]
  },
  {
   "cell_type": "code",
   "execution_count": 33,
   "metadata": {},
   "outputs": [],
   "source": [
    "s_out1=[]\n",
    "s_out2=[]\n",
    "temp=0\n",
    "for num in range(124,426):\n",
    "    id1 = 'E'+str(num)\n",
    "    year = output1[output1['企业代号']==id1]\n",
    "    year2 = year[(year['开票日期']>'2019-01-01')]\n",
    "    year3 = year2[(year2['开票日期']<'2019-1-31')]\n",
    "    year4 = year[(year['开票日期']>'2019-01-31')]\n",
    "    year5 = year4[(year4['开票日期']<'2019-02-27')]\n",
    "    sum = year3['金额'].sum()\n",
    "    sum2 = year5['金额'].sum()\n",
    "    s_out1.append(sum)\n",
    "    s_out2.append(sum2)\n",
    "\n",
    "\n"
   ]
  },
  {
   "cell_type": "code",
   "execution_count": 34,
   "metadata": {},
   "outputs": [],
   "source": [
    "end2019_1 = []\n",
    "end2019_2 = []\n",
    "for i in range(len(r_in1)):\n",
    "    sum1 = s_out1[i]-s_in1[i]\n",
    "    sum2 = s_out2[i]-s_in2[i]\n",
    "    end2019_1.append(sum1)\n",
    "    end2019_2.append(sum2)"
   ]
  },
  {
   "cell_type": "markdown",
   "metadata": {},
   "source": [
    "# 增长率"
   ]
  },
  {
   "cell_type": "code",
   "execution_count": 35,
   "metadata": {},
   "outputs": [
    {
     "name": "stderr",
     "output_type": "stream",
     "text": [
      "C:\\Users\\Summer\\AppData\\Local\\Temp/ipykernel_36404/3699282097.py:19: RuntimeWarning: invalid value encountered in double_scalars\n",
      "  rate2.append((end_1[i]-end2019_1[i])/end2019_1[i])\n"
     ]
    }
   ],
   "source": [
    "rate1 = []\n",
    "rate2 = []\n",
    "temp1 = 0\n",
    "for i in range(len(r_in1)):\n",
    "    if(end2019_1[i]==0 and end_1[i]==0):\n",
    "        rate1.append(temp1)\n",
    "    elif(end2019_1[i]==0 and end_1[i]>0):\n",
    "        rate1.append(temp2)\n",
    "    else:\n",
    "        rate1.append((end_1[i]-end2019_1[i])/end2019_1[i])\n",
    "\n",
    "\n",
    "for i in range(len(r_in2)):\n",
    "    if(end2019_2[i]==0 and end_2[i]==0):\n",
    "        rate2.append(temp1)\n",
    "    elif(end2019_2[i]==0 and end_2[i]>0):\n",
    "        rate2.append(temp2)\n",
    "    else:\n",
    "        rate2.append((end_1[i]-end2019_1[i])/end2019_1[i])"
   ]
  },
  {
   "cell_type": "markdown",
   "metadata": {},
   "source": [
    "# 废票占比变动率"
   ]
  },
  {
   "cell_type": "code",
   "execution_count": 36,
   "metadata": {},
   "outputs": [],
   "source": [
    "input2 = pd.read_excel('附件2：302家无信贷记录企业的相关数据.xlsx',sheet_name='进项发票信息')\n",
    "output2 = pd.read_excel('附件2：302家无信贷记录企业的相关数据.xlsx',sheet_name='销项发票信息')"
   ]
  },
  {
   "cell_type": "code",
   "execution_count": 37,
   "metadata": {},
   "outputs": [],
   "source": [
    "rate2020_1=[]\n",
    "for num in range(124,426):\n",
    "    id1 = 'E'+str(num)\n",
    "    tem = input2[input2['企业代号']==id1]\n",
    "    tem2 = output2[output2['企业代号']==id1]\n",
    "    tem3 = tem[(tem['开票日期']>'2020-01-01')]\n",
    "    tem4 = tem3[(tem3['开票日期']<'2020-02-01')]\n",
    "    sum1 = tem4.shape[0]\n",
    "    fei1 = tem4[tem4['发票状态']=='作废发票'].shape[0]\n",
    "\n",
    "    tem5 = tem2[(tem2['开票日期']>'2020-01-01')]\n",
    "    tem6 = tem5[(tem5['开票日期']<'2020-02-01')]\n",
    "    sum2 = tem6.shape[0]\n",
    "    fei2 = tem6[tem6['发票状态']=='作废发票'].shape[0]\n",
    "    all_num = sum1+sum2\n",
    "    fei_num = fei1+fei2\n",
    "\n",
    "    if(all_num==0):\n",
    "        ratio = 0\n",
    "    else:\n",
    "        ratio = fei_num/all_num\n",
    "    rate2020_1.append(ratio)\n",
    "    "
   ]
  },
  {
   "cell_type": "code",
   "execution_count": 38,
   "metadata": {},
   "outputs": [],
   "source": [
    "rate2020_2=[]\n",
    "for num in range(124,426):\n",
    "    id1 = 'E'+str(num)\n",
    "    tem = input2[input2['企业代号']==id1]\n",
    "    tem2 = output2[output2['企业代号']==id1]\n",
    "    tem3 = tem[(tem['开票日期']>'2020-02-01')]\n",
    "    sum1 = tem3.shape[0]\n",
    "    fei1 = tem3[tem3['发票状态']=='作废发票'].shape[0]\n",
    "\n",
    "    tem4 = tem2[(tem2['开票日期']>'2020-02-01')]\n",
    "    sum2 = tem4.shape[0]\n",
    "    fei2 = tem4[tem4['发票状态']=='作废发票'].shape[0]\n",
    "    all_num = sum1+sum2\n",
    "    fei_num = fei1+fei2\n",
    "\n",
    "    if(all_num==0):\n",
    "        ratio = 0\n",
    "    else:\n",
    "        ratio = fei_num/all_num\n",
    "    rate2020_2.append(ratio)"
   ]
  },
  {
   "cell_type": "code",
   "execution_count": 39,
   "metadata": {},
   "outputs": [],
   "source": [
    "rate2019_1=[]\n",
    "for num in range(124,426):\n",
    "    id1 = 'E'+str(num)\n",
    "    tem = input2[input2['企业代号']==id1]\n",
    "    tem2 = output2[output2['企业代号']==id1]\n",
    "    tem3 = tem[(tem['开票日期']>'2019-01-01')]\n",
    "    tem4 = tem3[(tem3['开票日期']<'2019-02-01')]\n",
    "    sum1 = tem4.shape[0]\n",
    "    fei1 = tem4[tem4['发票状态']=='作废发票'].shape[0]\n",
    "\n",
    "    tem5 = tem2[(tem2['开票日期']>'2019-01-01')]\n",
    "    tem6 = tem5[(tem5['开票日期']<'2019-02-01')]\n",
    "    sum2 = tem6.shape[0]\n",
    "    fei2 = tem6[tem6['发票状态']=='作废发票'].shape[0]\n",
    "    all_num = sum1+sum2\n",
    "    fei_num = fei1+fei2\n",
    "\n",
    "    if(all_num==0):\n",
    "        ratio = 0\n",
    "    else:\n",
    "        ratio = fei_num/all_num\n",
    "    rate2019_1.append(ratio)"
   ]
  },
  {
   "cell_type": "code",
   "execution_count": 40,
   "metadata": {},
   "outputs": [],
   "source": [
    "rate2019_2=[]\n",
    "for num in range(124,426):\n",
    "    id1 = 'E'+str(num)\n",
    "    tem = input2[input2['企业代号']==id1]\n",
    "    tem2 = output2[output2['企业代号']==id1]\n",
    "    tem3 = tem[(tem['开票日期']>'2019-02-01')]\n",
    "    tem4 = tem3[(tem3['开票日期']<'2019-03-01')]\n",
    "    sum1 = tem4.shape[0]\n",
    "    fei1 = tem4[tem4['发票状态']=='作废发票'].shape[0]\n",
    "\n",
    "    tem5 = tem2[(tem2['开票日期']>'2019-02-01')]\n",
    "    tem6 = tem5[(tem5['开票日期']<'2019-03-01')]\n",
    "    sum2 = tem6.shape[0]\n",
    "    fei2 = tem6[tem6['发票状态']=='作废发票'].shape[0]\n",
    "    all_num = sum1+sum2\n",
    "    fei_num = fei1+fei2\n",
    "\n",
    "    if(all_num==0):\n",
    "        ratio = 0\n",
    "    else:\n",
    "        ratio = fei_num/all_num\n",
    "    rate2019_2.append(ratio)"
   ]
  },
  {
   "cell_type": "code",
   "execution_count": 41,
   "metadata": {},
   "outputs": [],
   "source": [
    "error1=[]\n",
    "error2=[]\n",
    "temp1 = 0\n",
    "temp2 = 1\n",
    "for i in range(len(rate2019_1)):\n",
    "    if(rate2019_1[i]==0 and rate2020_1[i]==0):\n",
    "        error1.append(temp1)\n",
    "    elif(rate2019_1[i]==0 and rate2020_1[i]>0):\n",
    "        error1.append(temp2)\n",
    "    else:\n",
    "        error1.append((rate2020_1[i]-rate2019_1[i])/rate2019_1[i])\n",
    "\n",
    "\n",
    "for i in range(len(rate2019_2)):\n",
    "    if(rate2019_2[i]==0 and rate2020_2[i]==0):\n",
    "        error2.append(temp1)\n",
    "    elif(rate2019_2[i]==0 and rate2020_2[i]>0):\n",
    "        error2.append(temp2)\n",
    "    else:\n",
    "        error2.append((rate2020_2[i]-rate2019_2[i])/rate2019_2[i])"
   ]
  },
  {
   "cell_type": "markdown",
   "metadata": {},
   "source": [
    "# 交易企业数量变动率"
   ]
  },
  {
   "cell_type": "code",
   "execution_count": 42,
   "metadata": {},
   "outputs": [],
   "source": [
    "deal2020_1=[]\n",
    "for num in range(124,426):\n",
    "    id1 = 'E'+str(num)\n",
    "    a = input1[input1['企业代号']==id1]\n",
    "    a = a[(a['开票日期']>'2020-01-01')]\n",
    "    b = a[(a['开票日期']<'2020-02-01')]\n",
    "    b = b.reset_index(drop=True)\n",
    "    other = np.unique(b['销方单位代号'])\n",
    "    p = len(other)\n",
    "    deal2020_1.append(p)\n",
    "\n"
   ]
  },
  {
   "cell_type": "code",
   "execution_count": 43,
   "metadata": {},
   "outputs": [],
   "source": [
    "deal2020_2=[]\n",
    "for num in range(124,426):\n",
    "    id1 = 'E'+str(num)\n",
    "    a = input1[input1['企业代号']==id1]\n",
    "    a = a[(a['开票日期']>'2020-02-01')]\n",
    "    b = a[(a['开票日期']<'2020-03-01')]\n",
    "    b = b.reset_index(drop=True)\n",
    "    other = np.unique(b['销方单位代号'])\n",
    "    p = len(other)\n",
    "    deal2020_2.append(p)\n"
   ]
  },
  {
   "cell_type": "code",
   "execution_count": 44,
   "metadata": {},
   "outputs": [],
   "source": [
    "deal2019_1=[]\n",
    "for num in range(124,426):\n",
    "    id1 = 'E'+str(num)\n",
    "    a = input1[input1['企业代号']==id1]\n",
    "    a = a[(a['开票日期']>'2019-01-01')]\n",
    "    b = a[(a['开票日期']<'2019-02-01')]\n",
    "    b = b.reset_index(drop=True)\n",
    "    other = np.unique(b['销方单位代号'])\n",
    "    p = len(other)\n",
    "    deal2019_1.append(p)"
   ]
  },
  {
   "cell_type": "code",
   "execution_count": 45,
   "metadata": {},
   "outputs": [],
   "source": [
    "deal2019_2=[]\n",
    "for num in range(124,426):\n",
    "    id1 = 'E'+str(num)\n",
    "    a = input1[input1['企业代号']==id1]\n",
    "    a = a[(a['开票日期']>'2019-02-01')]\n",
    "    b = a[(a['开票日期']<'2019-03-01')]\n",
    "    b = b.reset_index(drop=True)\n",
    "    other = np.unique(b['销方单位代号'])\n",
    "    p = len(other)\n",
    "    deal2019_2.append(p)"
   ]
  },
  {
   "cell_type": "code",
   "execution_count": 46,
   "metadata": {},
   "outputs": [],
   "source": [
    "change1=[]\n",
    "change2=[]\n",
    "temp1 = 0\n",
    "temp2 = 1\n",
    "for i in range(len(deal2019_2)):\n",
    "    if(deal2019_1[i]==0 and deal2020_1[i]==0):\n",
    "        change1.append(temp1)\n",
    "    elif(deal2019_1[i]==0 and deal2020_1[i]>0):\n",
    "        change1.append(temp2)\n",
    "    else:\n",
    "        change1.append((deal2020_1[i]-deal2019_1[i])/deal2019_1[i])\n",
    "\n",
    "\n",
    "for i in range(len(deal2019_2)):\n",
    "    if(deal2019_2[i]==0 and deal2020_2[i]==0):\n",
    "        change2.append(temp1)\n",
    "    elif(deal2019_2[i]==0 and deal2020_2[i]>0):\n",
    "        change2.append(temp2)\n",
    "    else:\n",
    "        change2.append((deal2020_2[i]-deal2019_2[i])/deal2019_2[i])"
   ]
  },
  {
   "cell_type": "code",
   "execution_count": 47,
   "metadata": {},
   "outputs": [],
   "source": [
    "data = {\n",
    "    '企业名称':name,\n",
    "    '一月进项总额':r_in1   ,\n",
    "    '一月销项总额': r_out1   ,\n",
    "    '二月进项总额':r_in2  ,\n",
    "    '二月销项总额': r_out2 ,\n",
    "    '一月盈利情况':end_1,\n",
    "    '二月盈利情况':end_2,\n",
    "    '一月状态' : ans_1,\n",
    "    '二月状态' : ans_2,\n",
    "    '较2019一月增长率':rate1, \n",
    "    '较2019二月增长率':rate2,\n",
    "    '一月废票占比变动':error1, \n",
    "    '二月废票占比变动':error2, \n",
    "    '一月交易企业数量变动率':change1,\n",
    "    '二月交易企业数量变动率':change2,\n",
    "    \n",
    "}\n",
    "df=pd.DataFrame(data=data)"
   ]
  },
  {
   "cell_type": "code",
   "execution_count": 48,
   "metadata": {},
   "outputs": [],
   "source": [
    "df.to_csv('第三问特征值.csv',encoding='utf_8_sig')"
   ]
  }
 ],
 "metadata": {
  "kernelspec": {
   "display_name": "Python 3.9.7 ('base')",
   "language": "python",
   "name": "python3"
  },
  "language_info": {
   "codemirror_mode": {
    "name": "ipython",
    "version": 3
   },
   "file_extension": ".py",
   "mimetype": "text/x-python",
   "name": "python",
   "nbconvert_exporter": "python",
   "pygments_lexer": "ipython3",
   "version": "3.9.7"
  },
  "orig_nbformat": 4,
  "vscode": {
   "interpreter": {
    "hash": "665635a302ef112478a592f67ffb6ae1f079a80640579a07612e191b078d9a90"
   }
  }
 },
 "nbformat": 4,
 "nbformat_minor": 2
}
