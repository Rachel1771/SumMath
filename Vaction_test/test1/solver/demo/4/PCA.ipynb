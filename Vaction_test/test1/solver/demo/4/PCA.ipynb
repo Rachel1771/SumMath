{
 "cells": [
  {
   "cell_type": "code",
   "execution_count": 12,
   "metadata": {},
   "outputs": [],
   "source": [
    "import time\n",
    "import numpy as np\n",
    "import pandas as pd\n",
    "import matplotlib.pyplot as plt\n",
    "\n",
    "from sklearn.cluster import KMeans\n",
    "from sklearn.metrics.pairwise import pairwise_distances_argmin\n",
    "from sklearn.datasets.samples_generator import make_blobs\n",
    "\n",
    "# path = '../data/2/red_average.csv'\n",
    "# file = pd.read_csv(path,encoding='utf-8')\n",
    "path = '../data/2/white_sum.csv'\n",
    "file = pd.read_csv(path, encoding='utf-8')\n",
    "file.head()\n",
    "new_file = file.iloc[:, 1:]\n",
    "print(new_file.head())\n",
    "x = new_file.values\n"
   ]
  },
  {
   "cell_type": "markdown",
   "metadata": {},
   "source": [
    "https://blog.csdn.net/ruoff/article/details/116568680"
   ]
  },
  {
   "cell_type": "code",
   "execution_count": 19,
   "metadata": {},
   "outputs": [
    {
     "name": "stdout",
     "output_type": "stream",
     "text": [
      "(27, 11)\n"
     ]
    },
    {
     "data": {
      "image/png": "[encoded data removed]",
      "text/plain": [
       "<Figure size 432x288 with 1 Axes>"
      ]
     },
     "metadata": {
      "needs_background": "light"
     },
     "output_type": "display_data"
    }
   ],
   "source": [
    "# // An highlighted block\n",
    "import numpy as np\n",
    "import seaborn as sns\n",
    "import matplotlib.pyplot as plt\n",
    "from sklearn.datasets import load_iris\n",
    "from numpy.linalg import eig\n",
    "#matplotlib inline\n",
    "\n",
    "iris = load_iris()\n",
    "# X = iris.data\n",
    "X=x\n",
    "print(x.shape)\n",
    "X = X - X.mean(axis = 0)\n",
    "\n",
    "#计算协方差矩阵\n",
    "X_cov = np.cov(X.T, ddof = 0)\n",
    "\n",
    "#计算协方差矩阵的特征值和特征向量\n",
    "eigenvalues,eigenvectors = eig(X_cov)\n",
    "\n",
    "tot = sum(eigenvalues)\n",
    "var_exp = [(i/tot) for i in sorted(eigenvalues, reverse = True)]\n",
    "cum_var_exp = np.cumsum(var_exp)\n",
    "\n",
    "plt.bar(range(1,12), var_exp, alpha = 0.5, align = 'center', label = 'individual var')\n",
    "plt.step(range(1,12), cum_var_exp, where = 'mid', color='y',label = 'cumulative var')\n",
    "plt.ylabel('variance rtion')\n",
    "plt.xlabel('principal components')\n",
    "plt.legend(loc = 'best')\n",
    "plt.show()\n",
    "# 各特征值的贡献率如图所示，可以看出，前两个特征值的方差贡献率超过95%，所以k取3有其合理性。\n"
   ]
  },
  {
   "cell_type": "code",
   "execution_count": 20,
   "metadata": {},
   "outputs": [
    {
     "name": "stdout",
     "output_type": "stream",
     "text": [
      "[[  6.04833943  -0.35880359   7.65375563]\n",
      " [ -5.36208453   2.66604699  -4.0379221 ]\n",
      " [  0.83575379  -1.19108665  -6.02463029]\n",
      " [  3.27237044  -0.37583704   0.19991711]\n",
      " [ 15.60257839   6.6795741   28.19221623]\n",
      " [ -1.09499957  -5.6797371   -5.86041835]\n",
      " [ -9.22180923  -0.12942202  -7.7437101 ]\n",
      " [-15.38024958   0.26098805 -23.33860986]\n",
      " [  7.71556161  10.80039673  27.05293745]\n",
      " [ 11.94953245  -4.13659734  16.68866785]\n",
      " [-12.87053858  -7.93347862 -30.31956076]\n",
      " [-14.37248533   4.70981743 -18.31377368]\n",
      " [ -5.03997875  -7.28167854 -13.6905611 ]\n",
      " [  1.91066455  -2.0426079    2.10707464]\n",
      " [  5.51373629   2.60399189  11.11617486]\n",
      " [-23.5011954  -18.77060673 -53.80366337]\n",
      " [ 13.71951394   0.55507809  19.5158353 ]\n",
      " [ -0.32159187  -3.5943409   -0.24092069]\n",
      " [  1.77557392  -0.46089649  -0.16357847]\n",
      " [  0.75496988   2.15443947   5.5123172 ]\n",
      " [  7.71949931   1.44844143  16.01380958]\n",
      " [  7.23270103   9.23431311  18.468994  ]\n",
      " [  0.51886706   2.86183453   4.92066319]\n",
      " [ -1.01769995  -3.63291947  -2.79455591]\n",
      " [  9.77634537   2.89512511  14.18956843]\n",
      " [ -7.67042196   5.24750301 -11.20045942]\n",
      " [  1.50704728   3.47046245   5.90043261]]\n"
     ]
    }
   ],
   "source": [
    "# // 用python实现主成分分析（PCA）\n",
    "import numpy as np\n",
    "from numpy.linalg import eig\n",
    "from sklearn.datasets import load_iris\n",
    "def pca(X,k):\n",
    "    X = X - X.mean(axis = 0) #向量X去中心化\n",
    "    X_cov = np.cov(X.T, ddof = 0) #计算向量X的协方差矩阵，自由度可以选择0或1\n",
    "    eigenvalues,eigenvectors = eig(X_cov) #计算协方差矩阵的特征值和特征向量\n",
    "    klarge_index = eigenvalues.argsort()[-k:][::-1] #选取最大的K个特征值及其特征向量\n",
    "    k_eigenvectors = eigenvectors[klarge_index] #用X与特征向量相乘\n",
    "    return np.dot(X, k_eigenvectors.T)\n",
    "iris = load_iris()\n",
    "# X = iris.data\n",
    "k = 3\n",
    "X_pca = pca(X, k)\n",
    "print(X_pca)\n"
   ]
  }
 ],
 "metadata": {
  "kernelspec": {
   "display_name": "Python 3.7.9 ('base')",
   "language": "python",
   "name": "python3"
  },
  "language_info": {
   "codemirror_mode": {
    "name": "ipython",
    "version": 3
   },
   "file_extension": ".py",
   "mimetype": "text/x-python",
   "name": "python",
   "nbconvert_exporter": "python",
   "pygments_lexer": "ipython3",
   "version": "3.7.9"
  },
  "orig_nbformat": 4,
  "vscode": {
   "interpreter": {
    "hash": "2081760f1c3736c0f23b343f8717a57a2e7acf9e623fea9094d6936a46bdacf7"
   }
  }
 },
 "nbformat": 4,
 "nbformat_minor": 2
}
