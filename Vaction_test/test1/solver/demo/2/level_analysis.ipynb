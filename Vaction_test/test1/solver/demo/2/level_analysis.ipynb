{
 "cells": [
  {
   "cell_type": "code",
   "execution_count": 108,
   "metadata": {},
   "outputs": [],
   "source": [
    "import numpy as np\n",
    "import pandas as pd\n",
    "import matplotlib.pyplot as plt\n",
    "import scipy.cluster.hierarchy as sch "
   ]
  },
  {
   "cell_type": "markdown",
   "metadata": {},
   "source": [
    "# https://zhuanlan.zhihu.com/p/376190734"
   ]
  },
  {
   "cell_type": "code",
   "execution_count": 109,
   "metadata": {},
   "outputs": [
    {
     "data": {
      "text/html": [
       "<div>\n",
       "<style scoped>\n",
       "    .dataframe tbody tr th:only-of-type {\n",
       "        vertical-align: middle;\n",
       "    }\n",
       "\n",
       "    .dataframe tbody tr th {\n",
       "        vertical-align: top;\n",
       "    }\n",
       "\n",
       "    .dataframe thead th {\n",
       "        text-align: right;\n",
       "    }\n",
       "</style>\n",
       "<table border=\"1\" class=\"dataframe\">\n",
       "  <thead>\n",
       "    <tr style=\"text-align: right;\">\n",
       "      <th></th>\n",
       "      <th>酒样品</th>\n",
       "      <th>澄清度2</th>\n",
       "      <th>色调2</th>\n",
       "      <th>香气纯正度2</th>\n",
       "      <th>香气浓度2</th>\n",
       "      <th>香气质量2</th>\n",
       "      <th>口感纯正度2</th>\n",
       "      <th>口感浓度2</th>\n",
       "      <th>口感持久性2</th>\n",
       "      <th>口感质量2</th>\n",
       "      <th>平衡/整体评价2</th>\n",
       "      <th>总和2</th>\n",
       "    </tr>\n",
       "  </thead>\n",
       "  <tbody>\n",
       "    <tr>\n",
       "      <th>0</th>\n",
       "      <td>1</td>\n",
       "      <td>3.1</td>\n",
       "      <td>7.6</td>\n",
       "      <td>3.6</td>\n",
       "      <td>5.5</td>\n",
       "      <td>10.8</td>\n",
       "      <td>3.8</td>\n",
       "      <td>5.7</td>\n",
       "      <td>6</td>\n",
       "      <td>13.6</td>\n",
       "      <td>8.4</td>\n",
       "      <td>68.1</td>\n",
       "    </tr>\n",
       "    <tr>\n",
       "      <th>1</th>\n",
       "      <td>2</td>\n",
       "      <td>3.0</td>\n",
       "      <td>6.0</td>\n",
       "      <td>5.0</td>\n",
       "      <td>6.0</td>\n",
       "      <td>10.0</td>\n",
       "      <td>4.0</td>\n",
       "      <td>6.0</td>\n",
       "      <td>6</td>\n",
       "      <td>16.0</td>\n",
       "      <td>9.0</td>\n",
       "      <td>71.0</td>\n",
       "    </tr>\n",
       "    <tr>\n",
       "      <th>2</th>\n",
       "      <td>3</td>\n",
       "      <td>3.0</td>\n",
       "      <td>6.0</td>\n",
       "      <td>5.0</td>\n",
       "      <td>7.0</td>\n",
       "      <td>14.0</td>\n",
       "      <td>4.0</td>\n",
       "      <td>6.0</td>\n",
       "      <td>6</td>\n",
       "      <td>16.0</td>\n",
       "      <td>9.0</td>\n",
       "      <td>76.0</td>\n",
       "    </tr>\n",
       "    <tr>\n",
       "      <th>3</th>\n",
       "      <td>4</td>\n",
       "      <td>3.0</td>\n",
       "      <td>6.0</td>\n",
       "      <td>5.0</td>\n",
       "      <td>6.0</td>\n",
       "      <td>12.0</td>\n",
       "      <td>4.0</td>\n",
       "      <td>4.0</td>\n",
       "      <td>5</td>\n",
       "      <td>16.0</td>\n",
       "      <td>9.0</td>\n",
       "      <td>70.0</td>\n",
       "    </tr>\n",
       "    <tr>\n",
       "      <th>4</th>\n",
       "      <td>5</td>\n",
       "      <td>3.0</td>\n",
       "      <td>6.0</td>\n",
       "      <td>4.0</td>\n",
       "      <td>4.0</td>\n",
       "      <td>12.0</td>\n",
       "      <td>4.0</td>\n",
       "      <td>4.0</td>\n",
       "      <td>6</td>\n",
       "      <td>16.0</td>\n",
       "      <td>9.0</td>\n",
       "      <td>68.0</td>\n",
       "    </tr>\n",
       "  </tbody>\n",
       "</table>\n",
       "</div>"
      ],
      "text/plain": [
       "   酒样品  澄清度2  色调2  香气纯正度2  香气浓度2  香气质量2  口感纯正度2  口感浓度2  口感持久性2  口感质量2  \\\n",
       "0    1   3.1  7.6     3.6    5.5   10.8     3.8    5.7       6   13.6   \n",
       "1    2   3.0  6.0     5.0    6.0   10.0     4.0    6.0       6   16.0   \n",
       "2    3   3.0  6.0     5.0    7.0   14.0     4.0    6.0       6   16.0   \n",
       "3    4   3.0  6.0     5.0    6.0   12.0     4.0    4.0       5   16.0   \n",
       "4    5   3.0  6.0     4.0    4.0   12.0     4.0    4.0       6   16.0   \n",
       "\n",
       "   平衡/整体评价2   总和2  \n",
       "0       8.4  68.1  \n",
       "1       9.0  71.0  \n",
       "2       9.0  76.0  \n",
       "3       9.0  70.0  \n",
       "4       9.0  68.0  "
      ]
     },
     "execution_count": 109,
     "metadata": {},
     "output_type": "execute_result"
    }
   ],
   "source": [
    "path = '../data/2/red_average.csv'\n",
    "# path = '../data/2/white_sum.csv'\n",
    "file = pd.read_csv(path,encoding='utf-8')\n",
    "file.head()\n"
   ]
  },
  {
   "cell_type": "code",
   "execution_count": 110,
   "metadata": {},
   "outputs": [],
   "source": [
    "new_file = file.iloc[:,1:]\n",
    "new_file.head()\n",
    "x= new_file.values"
   ]
  },
  {
   "cell_type": "code",
   "execution_count": 111,
   "metadata": {},
   "outputs": [
    {
     "data": {
      "image/png": "[encoded data removed]",
      "text/plain": [
       "<Figure size 432x288 with 1 Axes>"
      ]
     },
     "metadata": {
      "needs_background": "light"
     },
     "output_type": "display_data"
    }
   ],
   "source": [
    "dendrogram = sch.dendrogram(sch.linkage(x, method = 'ward')) \n",
    "plt.title('Dendrogram') \n",
    "plt.xlabel('Customers') \n",
    "plt.ylabel('Euclidean Distance') \n",
    "plt.savefig('./img/level_analysis.png')\n",
    "plt.show()"
   ]
  },
  {
   "cell_type": "code",
   "execution_count": 112,
   "metadata": {},
   "outputs": [],
   "source": [
    "# 该树状图显示了基于欧氏距离的行数据点的层次聚类。它还能告诉树状图中不同颜色簇的合适数量。但是集群的最优选择可以基于树状图中的水平线，即集群数量为5。\n",
    "\n",
    "from sklearn.cluster import AgglomerativeClustering\n",
    "\n",
    "hc = AgglomerativeClustering(n_clusters=8,\n",
    "                             affinity=\"euclidean\",\n",
    "                             linkage='ward')\n",
    "\n",
    "# hc_pred = hc.fit_predict(x)"
   ]
  },
  {
   "cell_type": "markdown",
   "metadata": {},
   "source": [
    "# https://www.jianshu.com/p/6a7b3641ca59\n",
    "增量PCA"
   ]
  },
  {
   "cell_type": "code",
   "execution_count": 113,
   "metadata": {},
   "outputs": [],
   "source": [
    "from sklearn.datasets import load_digits\n",
    "from sklearn.decomposition import IncrementalPCA\n",
    "from scipy import sparse\n",
    "# X, _ = load_digits(return_X_y=True)\n",
    "# print(X.shape)\n",
    "transformer = IncrementalPCA(n_components=2, batch_size=200)\n",
    "# either partially fit on smaller batches of data\n",
    "transformer.partial_fit(x)\n",
    "# or let the fit function itself divide the data into batches\n",
    "X_sparse = sparse.csr_matrix(x)\n",
    "hc_pce = transformer.fit_transform(X_sparse)\n",
    "# hc_pred.shape\n",
    "hc_pred = hc.fit_predict(hc_pce)"
   ]
  },
  {
   "cell_type": "code",
   "execution_count": 114,
   "metadata": {},
   "outputs": [
    {
     "data": {
      "image/png": "[encoded data removed]",
      "text/plain": [
       "<Figure size 432x288 with 1 Axes>"
      ]
     },
     "metadata": {
      "needs_background": "light"
     },
     "output_type": "display_data"
    }
   ],
   "source": [
    "plt.scatter(hc_pce[hc_pred == 0, 0],\n",
    "            hc_pce[hc_pred == 0, 1],\n",
    "            s=100,\n",
    "            c='red',\n",
    "            label='Cluster1')\n",
    "plt.scatter(hc_pce[hc_pred == 1, 0],\n",
    "            hc_pce[hc_pred == 1, 1],\n",
    "            s=100,\n",
    "            c='blue',\n",
    "            label='Cluster2')\n",
    "plt.scatter(hc_pce[hc_pred == 2, 0],\n",
    "            hc_pce[hc_pred == 2, 1],\n",
    "            s=100,\n",
    "            c='green',\n",
    "            label='Cluster3')\n",
    "plt.scatter(hc_pce[hc_pred == 3, 0],\n",
    "            hc_pce[hc_pred == 3, 1],\n",
    "            s=100,\n",
    "            c='cyan',\n",
    "            label='Cluster4')\n",
    "plt.scatter(hc_pce[hc_pred == 4, 0],\n",
    "            hc_pce[hc_pred == 4, 1],\n",
    "            s=100,\n",
    "            c='magenta',\n",
    "            label='Cluster5')\n",
    "plt.scatter(hc_pce[hc_pred == 5, 0],\n",
    "            hc_pce[hc_pred == 5, 1],\n",
    "            s=100,\n",
    "            c='black',\n",
    "            label='Cluster5')\n",
    "\n",
    "plt.scatter(hc_pce[hc_pred == 6, 0],\n",
    "            hc_pce[hc_pred == 6, 1],\n",
    "            s=100,\n",
    "            c='yellow',\n",
    "            label='Cluster5')\n",
    "plt.scatter(hc_pce[hc_pred == 7, 0],\n",
    "            hc_pce[hc_pred == 7, 1],\n",
    "            s=100,\n",
    "            c='c',\n",
    "            label='Cluster5')\n",
    "\n",
    "plt.title('Clusters of the customers')\n",
    "plt.xlabel('Annual income (k$)')\n",
    "plt.ylabel('Spending SCore (1 - 100)')\n",
    "plt.legend()\n",
    "plt.savefig('./img/level_analysis_6.png')\n",
    "plt.show()"
   ]
  },
  {
   "cell_type": "code",
   "execution_count": null,
   "metadata": {},
   "outputs": [],
   "source": []
  }
 ],
 "metadata": {
  "kernelspec": {
   "display_name": "Python 3.7.9 ('base')",
   "language": "python",
   "name": "python3"
  },
  "language_info": {
   "codemirror_mode": {
    "name": "ipython",
    "version": 3
   },
   "file_extension": ".py",
   "mimetype": "text/x-python",
   "name": "python",
   "nbconvert_exporter": "python",
   "pygments_lexer": "ipython3",
   "version": "3.7.9"
  },
  "orig_nbformat": 4,
  "vscode": {
   "interpreter": {
    "hash": "2081760f1c3736c0f23b343f8717a57a2e7acf9e623fea9094d6936a46bdacf7"
   }
  }
 },
 "nbformat": 4,
 "nbformat_minor": 2
}
