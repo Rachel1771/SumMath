{
 "cells": [
  {
   "cell_type": "code",
   "execution_count": 8,
   "metadata": {},
   "outputs": [],
   "source": [
    "import os\n",
    "\n",
    "import pandas as pd\n",
    "import matplotlib.pylab as plt\n",
    "import pylab as mpl  #导入中文字体，避免显示乱码\n",
    "import matplotlib.dates as mdate\n",
    "import numpy as np\n",
    "mpl.rcParams['font.sans-serif']=['SimHei']  #设置为黑体字"
   ]
  },
  {
   "cell_type": "code",
   "execution_count": 9,
   "metadata": {},
   "outputs": [],
   "source": [
    "doc_path='./doc'\n",
    "confimed_path=doc_path+'/confimed.csv'\n",
    "cure_path=doc_path+'/cure.csv'\n",
    "died_path=doc_path+'/died.csv'\n",
    "\n",
    "missing_values = [\"n/a\", \"na\", \"--\"]\n",
    "\n",
    "confime=pd.read_csv(confimed_path)\n",
    "died=pd.read_csv(died_path)\n",
    "cure=pd.read_csv(cure_path)"
   ]
  },
  {
   "cell_type": "code",
   "execution_count": 10,
   "metadata": {},
   "outputs": [
    {
     "data": {
      "text/plain": [
       "876"
      ]
     },
     "execution_count": 10,
     "metadata": {},
     "output_type": "execute_result"
    }
   ],
   "source": [
    "confime.index.size\n",
    "confime.columns.size"
   ]
  },
  {
   "cell_type": "code",
   "execution_count": 121,
   "metadata": {},
   "outputs": [
    {
     "name": "stdout",
     "output_type": "stream",
     "text": [
      "[2099041.0, 29813848.0, 26493235.0, 1.0]\n"
     ]
    }
   ],
   "source": [
    "def get_confime(city,model):\n",
    "    confime_total=confime[confime['Country/Region']==city]\n",
    "    if model=='confime'or model=='died':\n",
    "        clip=-7\n",
    "    elif model=='cure':\n",
    "        clip=-311\n",
    "    columns=confime_total.columns[4:clip].values\n",
    "    loc=np.zeros((columns.size))\n",
    "    total=confime_total.loc[:,columns].sum()\n",
    "    return total.max()"
   ]
  },
  {
   "cell_type": "code",
   "execution_count": 130,
   "metadata": {},
   "outputs": [
    {
     "name": "stdout",
     "output_type": "stream",
     "text": [
      "total_confime 53000000000.0\n",
      "[2099041.0, 29813848.0, 26493235.0, 84748884.0]\n"
     ]
    }
   ],
   "source": [
    "model='confime'\n",
    "total_confime=5.3e+10\n",
    "print('total_confime',total_confime)\n",
    "city_list=['China', 'France', 'Germany','US']\n",
    "citys=[]\n",
    "for i in city_list:\n",
    "    citys.append(get_confime(i,model))\n",
    "print(citys)"
   ]
  },
  {
   "cell_type": "code",
   "execution_count": 179,
   "metadata": {},
   "outputs": [
    {
     "name": "stdout",
     "output_type": "stream",
     "text": [
      "[2099041.0, 29813848.0, 26493235.0, 84748884.0]\n",
      "['China', 'France', 'Germany', 'US']\n"
     ]
    },
    {
     "data": {
      "text/plain": [
       "<Figure size 720x720 with 0 Axes>"
      ]
     },
     "metadata": {},
     "output_type": "display_data"
    },
    {
     "data": {
      "image/png": "[encoded data removed]",
      "text/plain": [
       "<Figure size 432x288 with 1 Axes>"
      ]
     },
     "metadata": {},
     "output_type": "display_data"
    }
   ],
   "source": [
    "import matplotlib.pyplot as plt\n",
    "plt.rcParams['font.sans-serif']='SimHei'#设置中文显示\n",
    "plt.figure(figsize=(10,10))\n",
    "\n",
    "# values=[i/total_confime for i in citys]\n",
    "# values.append(1-sum(values))\n",
    "values=citys\n",
    "print(values)\n",
    "print(city_list)\n",
    "# values.append()\n",
    "fig, ax = plt.subplots()\n",
    "wedges, labels, autopct = ax.pie(citys,labels=city_list,\n",
    "                                  autopct='%1.1f%%', wedgeprops=dict(width=.2))\n",
    "colors = ['red','yellowgreen','lightskyblue','orange']\n",
    "plt.pie(values,labels=city_list,colors=colors,autopct='%1.1f%%')#绘制饼图\n",
    "title='四国新冠疫情确诊人数对比'\n",
    "plt.title(title,fontsize=13)#绘制标题\n",
    "plt.setp(labels, fontsize=10)\n",
    "plt.savefig(f'./{title}')#保存图片\n",
    "plt.show()"
   ]
  },
  {
   "cell_type": "code",
   "execution_count": 177,
   "metadata": {},
   "outputs": [
    {
     "name": "stderr",
     "output_type": "stream",
     "text": [
      "c:\\miniconda\\lib\\site-packages\\ipykernel_launcher.py:19: MatplotlibDeprecationWarning: Using a string of single character colors as a color sequence is deprecated since 3.2 and will be removed two minor releases later. Use an explicit list instead.\n"
     ]
    },
    {
     "data": {
      "image/png": "[encoded data removed]",
      "text/plain": [
       "<Figure size 504x504 with 1 Axes>"
      ]
     },
     "metadata": {
      "needs_background": "light"
     },
     "output_type": "display_data"
    }
   ],
   "source": [
    "Chinese=1454727448\n",
    "French=336138064\n",
    "German=83779873\n",
    "American=336138064\n",
    "city_population=[Chinese,French,German,American]\n",
    "result=[value/city_popu for value,city_popu in zip(values,city_population)]\n",
    "# confresultratio=citys\n",
    "# fig, ax = plt.subplots()\n",
    "# wedges, labels, autopct = ax.pie(result,labels=city_list,colors=colors,\n",
    "#                                   autopct='%1.1f%%', wedgeprops=dict(width=.2))\n",
    "\n",
    "# # plt.pie(city_population,labels=city_list,autopct='%1.1f%%')#绘制饼图\n",
    "# title='各国新冠疫情确诊人数在本国的占比对比'\n",
    "# plt.title(title,fontsize=13)#绘制标题\n",
    "# plt.setp(labels, fontsize=10)\n",
    "# plt.savefig(f'./{title}')#保存图片\n",
    "# plt.show()\n",
    "plt.figure(figsize=(7,7))\n",
    "plt.bar(city_list,result,color='rgb')\n",
    "plt.show()"
   ]
  }
 ],
 "metadata": {
  "kernelspec": {
   "display_name": "Python 3 (ipykernel)",
   "language": "python",
   "name": "python3"
  },
  "language_info": {
   "codemirror_mode": {
    "name": "ipython",
    "version": 3
   },
   "file_extension": ".py",
   "mimetype": "text/x-python",
   "name": "python",
   "nbconvert_exporter": "python",
   "pygments_lexer": "ipython3",
   "version": "3.7.9"
  }
 },
 "nbformat": 4,
 "nbformat_minor": 2
}
