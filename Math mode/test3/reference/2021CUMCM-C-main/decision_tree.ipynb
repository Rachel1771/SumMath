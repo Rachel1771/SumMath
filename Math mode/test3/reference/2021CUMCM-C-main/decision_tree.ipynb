{
    "cells": [
        {
            "cell_type": "code",
            "execution_count": 1,
            "source": [
                "import pandas as pd\r\n",
                "import numpy as np\r\n",
                "from matplotlib import pyplot as plt\r\n",
                "import seaborn as sns\r\n",
                "from sklearn.preprocessing import OneHotEncoder\r\n",
                "from sklearn.decomposition import PCA\r\n",
                "\r\n",
                "train = pd.read_csv('train.csv')\r\n",
                "test = pd.read_csv('test.csv')"
            ],
            "outputs": [],
            "metadata": {}
        },
        {
            "cell_type": "code",
            "execution_count": 2,
            "source": [
                "\r\n",
                "from sklearn.preprocessing import StandardScaler\r\n",
                "from sklearn.model_selection import GridSearchCV\r\n",
                "from sklearn.ensemble import RandomForestRegressor\r\n",
                "\r\n",
                "scaler = StandardScaler()\r\n",
                "y = train.Order\r\n",
                "df_train = scaler.fit_transform(train.drop('Order',axis=1))\r\n",
                "df_test = scaler.transform(test)\r\n",
                "X = df_train\r\n",
                "\r\n"
            ],
            "outputs": [],
            "metadata": {}
        },
        {
            "cell_type": "markdown",
            "source": [
                "先调试框架参数"
            ],
            "metadata": {}
        },
        {
            "cell_type": "code",
            "execution_count": 5,
            "source": [
                "estimator = RandomForestRegressor()\r\n",
                "# test_size=0.3\r\n",
                "# X_train, X_test, y_train, y_test = train_test_split(test_size, y, test_size=test_size, random_state=9)\r\n",
                "\r\n",
                "params0 = {'n_estimators': range(1, 200 ,10)}\r\n",
                "\r\n",
                "grid_search0 = GridSearchCV(estimator=estimator, \r\n",
                "                        return_train_score=True,\r\n",
                "                        n_jobs=-1, \r\n",
                "                        param_grid=params0, \r\n",
                "                        )\r\n",
                "grid_search0.fit(X,y)"
            ],
            "outputs": [
                {
                    "output_type": "execute_result",
                    "data": {
                        "text/plain": [
                            "GridSearchCV(estimator=RandomForestRegressor(), n_jobs=-1,\n",
                            "             param_grid={'n_estimators': range(1, 200, 10)},\n",
                            "             return_train_score=True)"
                        ]
                    },
                    "metadata": {},
                    "execution_count": 5
                }
            ],
            "metadata": {}
        },
        {
            "cell_type": "code",
            "execution_count": 6,
            "source": [
                "grid_search0.best_score_, grid_search0.best_params_"
            ],
            "outputs": [
                {
                    "output_type": "execute_result",
                    "data": {
                        "text/plain": [
                            "(-0.1296395836208904, {'n_estimators': 121})"
                        ]
                    },
                    "metadata": {},
                    "execution_count": 6
                }
            ],
            "metadata": {}
        },
        {
            "cell_type": "code",
            "execution_count": 8,
            "source": [
                "rf_clf0 = RandomForestRegressor(n_estimators=121, oob_score=True)\r\n",
                "rf_clf0.fit(X,y).oob_score_\r\n"
            ],
            "outputs": [
                {
                    "output_type": "execute_result",
                    "data": {
                        "text/plain": [
                            "0.3041081772145495"
                        ]
                    },
                    "metadata": {},
                    "execution_count": 8
                }
            ],
            "metadata": {}
        },
        {
            "cell_type": "markdown",
            "source": [
                "下面调试树参数"
            ],
            "metadata": {}
        },
        {
            "cell_type": "code",
            "execution_count": 16,
            "source": [
                "estimator = RandomForestRegressor(n_estimators=121)\r\n",
                "test_size=0.7\r\n",
                "from sklearn.model_selection import train_test_split\r\n",
                "X_train, X_test, y_train, y_test = train_test_split(X, y, test_size=test_size, random_state=9)\r\n",
                "\r\n",
                "params1 = {'max_depth':range(3,20,4),\r\n",
                "        'min_samples_split':range(2,20,4),\r\n",
                "        'min_samples_leaf':range(1,3)}\r\n",
                "\r\n",
                "grid_search1 = GridSearchCV(estimator=estimator, \r\n",
                "                        return_train_score=True,\r\n",
                "                        n_jobs=-1, \r\n",
                "                        param_grid=params1, \r\n",
                "                        )\r\n",
                "grid_search1.fit(X_train,y_train)"
            ],
            "outputs": [
                {
                    "output_type": "execute_result",
                    "data": {
                        "text/plain": [
                            "GridSearchCV(estimator=RandomForestRegressor(n_estimators=121), n_jobs=-1,\n",
                            "             param_grid={'max_depth': range(3, 20, 4),\n",
                            "                         'min_samples_leaf': range(1, 3),\n",
                            "                         'min_samples_split': range(2, 20, 4)},\n",
                            "             return_train_score=True)"
                        ]
                    },
                    "metadata": {},
                    "execution_count": 16
                }
            ],
            "metadata": {}
        },
        {
            "cell_type": "code",
            "execution_count": 17,
            "source": [
                "grid_search1.best_score_, grid_search1.best_params_"
            ],
            "outputs": [
                {
                    "output_type": "execute_result",
                    "data": {
                        "text/plain": [
                            "(0.3690690216957543,\n",
                            " {'max_depth': 3, 'min_samples_leaf': 1, 'min_samples_split': 2})"
                        ]
                    },
                    "metadata": {},
                    "execution_count": 17
                }
            ],
            "metadata": {}
        },
        {
            "cell_type": "code",
            "execution_count": 15,
            "source": [
                "rf_clf1 = RandomForestRegressor(n_estimators=121, oob_score=True,max_depth=15, min_samples_leaf=1, min_samples_split=17)\r\n",
                "rf_clf1.fit(X,y).oob_score_"
            ],
            "outputs": [
                {
                    "output_type": "execute_result",
                    "data": {
                        "text/plain": [
                            "0.3946091902686464"
                        ]
                    },
                    "metadata": {},
                    "execution_count": 15
                }
            ],
            "metadata": {}
        },
        {
            "cell_type": "markdown",
            "source": [
                "进一步调节"
            ],
            "metadata": {}
        },
        {
            "cell_type": "code",
            "execution_count": 19,
            "source": [
                "estimator = RandomForestRegressor(n_estimators=121,\r\n",
                "                                oob_score=True,\r\n",
                "                                max_depth=15, \r\n",
                "                                min_samples_leaf=1, \r\n",
                "                                min_samples_split=17)\r\n",
                "# test_size=0.3\r\n",
                "# X_train, X_test, y_train, y_test = train_test_split(test_size, y, test_size=test_size, random_state=9)\r\n",
                "\r\n",
                "params2 = {'max_features':['sqrt', 'log2', 'auto'],\r\n",
                "        'criterion':['mse', 'mae']}\r\n",
                "\r\n",
                "grid_search2 = GridSearchCV(estimator=estimator, \r\n",
                "                        return_train_score=True,\r\n",
                "                        n_jobs=-1, \r\n",
                "                        param_grid=params2, \r\n",
                "                        )\r\n",
                "grid_search2.fit(X,y)\r\n",
                "grid_search2.best_score_, grid_search2.best_params_"
            ],
            "outputs": [],
            "metadata": {}
        },
        {
            "cell_type": "code",
            "execution_count": 3,
            "source": [
                "rf_clf2 = RandomForestRegressor(n_estimators=161, oob_score=True,max_depth=15, min_samples_leaf=1, min_samples_split=17,\r\n",
                "                                max_features='auto', criterion='mse')\r\n",
                "rf_clf2.fit(X,y).oob_score_"
            ],
            "outputs": [
                {
                    "output_type": "execute_result",
                    "data": {
                        "text/plain": [
                            "0.3978205753070221"
                        ]
                    },
                    "metadata": {},
                    "execution_count": 3
                }
            ],
            "metadata": {}
        },
        {
            "cell_type": "code",
            "execution_count": 112,
            "source": [
                "# record=pd.DataFrame(grid_result.cv_results_)"
            ],
            "outputs": [],
            "metadata": {}
        },
        {
            "cell_type": "code",
            "execution_count": 4,
            "source": [
                "pred_result=rf_clf2.predict(df_test)"
            ],
            "outputs": [],
            "metadata": {}
        },
        {
            "cell_type": "code",
            "execution_count": 5,
            "source": [
                "sns.distplot(pred_result)"
            ],
            "outputs": [
                {
                    "output_type": "stream",
                    "name": "stderr",
                    "text": [
                        "D:\\programs\\envs\\python36\\lib\\site-packages\\seaborn\\distributions.py:2557: FutureWarning: `distplot` is a deprecated function and will be removed in a future version. Please adapt your code to use either `displot` (a figure-level function with similar flexibility) or `histplot` (an axes-level function for histograms).\n",
                        "  warnings.warn(msg, FutureWarning)\n"
                    ]
                },
                {
                    "output_type": "execute_result",
                    "data": {
                        "text/plain": [
                            "<AxesSubplot:ylabel='Density'>"
                        ]
                    },
                    "metadata": {},
                    "execution_count": 5
                },
                {
                    "output_type": "display_data",
                    "data": {
                        "image/png": "[encoded data removed]",
                        "text/plain": [
                            "<Figure size 432x288 with 1 Axes>"
                        ]
                    },
                    "metadata": {
                        "needs_background": "light"
                    }
                }
            ],
            "metadata": {}
        },
        {
            "cell_type": "code",
            "execution_count": 10,
            "source": [
                "df_test1 = pd.read_csv('test.csv')\r\n",
                "df_test1['Order_pred'] = pred_result\r\n",
                "df_test1.to_csv('pred.csv', index=False)"
            ],
            "outputs": [],
            "metadata": {}
        },
        {
            "cell_type": "markdown",
            "source": [
                "----\r\n",
                "## 2. 逻辑回归与随机森林模型averaging融合\r\n",
                "### 先构建逻辑回归，然后保存两者预测概率，再观察两者预测概率结果的相关性\r\n"
            ],
            "metadata": {}
        },
        {
            "cell_type": "code",
            "execution_count": 40,
            "source": [
                "train1=pd.read_csv('train_processed.csv')\r\n",
                "test1=pd.read_csv('test_precessed.csv')\r\n",
                "pca=PCA(n_components=1)\r\n",
                "ncol=pca.fit_transform(train1[['SibSp','Parch']])\r\n",
                "train1[\"Companion\"]=ncol\r\n",
                "pca=PCA(n_components=1)\r\n",
                "ncol=pca.fit_transform(test1[['SibSp','Parch']])\r\n",
                "test1[\"Companion\"]=ncol\r\n",
                "df_train1 = pd.get_dummies(train1, columns=[\"Pclass\",\"Embarked\",\"Sex\"])\r\n",
                "df_train1.drop('Sex_female', axis=1, inplace=True)\r\n",
                "df_train1.drop('PassengerId', axis=1, inplace=True)\r\n",
                "df_train1.drop('Ticket', axis=1, inplace=True)\r\n",
                "df_train1.drop('SibSp', axis=1, inplace=True)\r\n",
                "df_train1.drop('Parch', axis=1, inplace=True)\r\n",
                "df_test1 = pd.get_dummies(test1, columns=[\"Pclass\",\"Embarked\",\"Sex\"])\r\n",
                "df_test1.drop('Sex_female', axis=1, inplace=True)\r\n",
                "df_test1.drop('PassengerId', axis=1, inplace=True)\r\n",
                "df_test1.drop('Ticket', axis=1, inplace=True)\r\n",
                "df_test1.drop('SibSp', axis=1, inplace=True)\r\n",
                "df_test1.drop('Parch', axis=1, inplace=True)\r\n",
                "picked_features = ['Age', 'Companion', 'Pclass_1', 'Pclass_2', 'Pclass_3', 'Embarked_C', 'Embarked_Q', 'Embarked_S', 'Sex_male']\\\r\n",
                "\r\n",
                "\r\n",
                "X1 = df_train1[picked_features]\r\n",
                "y = df_train1.Survived\r\n",
                "df_test1=df_test1[picked_features]\r\n",
                "scaler = StandardScaler()\r\n",
                "X1 = scaler.fit_transform(X1)\r\n",
                "df_test1 = scaler.transform(df_test1)\r\n",
                "\r\n",
                "\r\n",
                "from sklearn.linear_model import LogisticRegression\r\n",
                "model = LogisticRegression()\r\n",
                "model.fit(X1, y)\r\n",
                "result=model.predict_proba(df_test1)[:,1]\r\n",
                "temp=pd.read_csv('test.csv')\r\n",
                "submission={'PassengerId':temp.PassengerId,'Survived':result}\r\n",
                "df_submission=pd.DataFrame(submission)\r\n",
                "df_submission.to_csv('prob_logistic.csv')\r\n",
                "pred_prob=rf_clf2.predict_proba(df_test)[:,1]\r\n",
                "temp=pd.read_csv('test.csv')\r\n",
                "submission={'PassengerId':temp.PassengerId,'Survived':pred_prob}\r\n",
                "df_submission=pd.DataFrame(submission)\r\n",
                "df_submission.to_csv('prob_rf.csv')\r\n",
                "\r\n",
                "\r\n",
                "\r\n",
                "prob_logistic = pd.read_csv('prob_logistic.csv')\r\n",
                "prob_rf = pd.read_csv('prob_rf.csv')\r\n",
                "prob_logistic['logistic']=prob_logistic['Survived']\r\n",
                "prob_logistic.drop('Survived',axis=1,inplace=True)\r\n",
                "prob_rf['rf'] = prob_rf['Survived']\r\n",
                "prob_rf.drop('Survived',axis=1,inplace=True)\r\n",
                "\r\n",
                "prob_logistic['rf']=prob_rf['rf']\r\n",
                "n_df=prob_logistic.drop(['PassengerId'], axis=1)"
            ],
            "outputs": [],
            "metadata": {}
        },
        {
            "cell_type": "code",
            "execution_count": 52,
            "source": [
                "sns.heatmap(n_df.corr())"
            ],
            "outputs": [
                {
                    "output_type": "execute_result",
                    "data": {
                        "text/plain": [
                            "<AxesSubplot:>"
                        ]
                    },
                    "metadata": {},
                    "execution_count": 52
                },
                {
                    "output_type": "display_data",
                    "data": {
                        "image/png": "[encoded data removed]",
                        "image/svg+xml": "<?xml version=\"1.0\" encoding=\"utf-8\" standalone=\"no\"?>\r\n<!DOCTYPE svg PUBLIC \"-//W3C//DTD SVG 1.1//EN\"\r\n  \"http://www.w3.org/Graphics/SVG/1.1/DTD/svg11.dtd\">\r\n<!-- Created with matplotlib (https://matplotlib.org/) -->\r\n<svg height=\"252.317344pt\" version=\"1.1\" viewBox=\"0 0 355.79575 252.317344\" width=\"355.79575pt\" xmlns=\"http://www.w3.org/2000/svg\" xmlns:xlink=\"http://www.w3.org/1999/xlink\">\r\n <metadata>\r\n  <rdf:RDF xmlns:cc=\"http://creativecommons.org/ns#\" xmlns:dc=\"http://purl.org/dc/elements/1.1/\" xmlns:rdf=\"http://www.w3.org/1999/02/22-rdf-syntax-ns#\">\r\n   <cc:Work>\r\n    <dc:type rdf:resource=\"http://purl.org/dc/dcmitype/StillImage\"/>\r\n    <dc:date>2021-08-15T13:29:02.463174</dc:date>\r\n    <dc:format>image/svg+xml</dc:format>\r\n    <dc:creator>\r\n     <cc:Agent>\r\n      <dc:title>Matplotlib v3.3.4, https://matplotlib.org/</dc:title>\r\n     </cc:Agent>\r\n    </dc:creator>\r\n   </cc:Work>\r\n  </rdf:RDF>\r\n </metadata>\r\n <defs>\r\n  <style type=\"text/css\">*{stroke-linecap:butt;stroke-linejoin:round;}</style>\r\n </defs>\r\n <g id=\"figure_1\">\r\n  <g id=\"patch_1\">\r\n   <path d=\"M -0 252.317344 \r\nL 355.79575 252.317344 \r\nL 355.79575 0 \r\nL -0 0 \r\nz\r\n\" style=\"fill:none;\"/>\r\n  </g>\r\n  <g id=\"axes_1\">\r\n   <g id=\"patch_2\">\r\n    <path d=\"M 23.878125 228.439219 \r\nL 291.718125 228.439219 \r\nL 291.718125 10.999219 \r\nL 23.878125 10.999219 \r\nz\r\n\" style=\"fill:#ffffff;\"/>\r\n   </g>\r\n   <g id=\"QuadMesh_1\">\r\n    <path clip-path=\"url(#p826895d464)\" d=\"M 23.878125 10.999219 \r\nL 157.798125 10.999219 \r\nL 157.798125 119.719219 \r\nL 23.878125 119.719219 \r\nL 23.878125 10.999219 \r\n\" style=\"fill:#faebdd;\"/>\r\n    <path clip-path=\"url(#p826895d464)\" d=\"M 157.798125 10.999219 \r\nL 291.718125 10.999219 \r\nL 291.718125 119.719219 \r\nL 157.798125 119.719219 \r\nL 157.798125 10.999219 \r\n\" style=\"fill:#03051a;\"/>\r\n    <path clip-path=\"url(#p826895d464)\" d=\"M 23.878125 119.719219 \r\nL 157.798125 119.719219 \r\nL 157.798125 228.439219 \r\nL 23.878125 228.439219 \r\nL 23.878125 119.719219 \r\n\" style=\"fill:#03051a;\"/>\r\n    <path clip-path=\"url(#p826895d464)\" d=\"M 157.798125 119.719219 \r\nL 291.718125 119.719219 \r\nL 291.718125 228.439219 \r\nL 157.798125 228.439219 \r\nL 157.798125 119.719219 \r\n\" style=\"fill:#faebdd;\"/>\r\n   </g>\r\n   <g id=\"matplotlib.axis_1\">\r\n    <g id=\"xtick_1\">\r\n     <g id=\"line2d_1\">\r\n      <defs>\r\n       <path d=\"M 0 0 \r\nL 0 3.5 \r\n\" id=\"md9ae84b320\" style=\"stroke:#000000;stroke-width:0.8;\"/>\r\n      </defs>\r\n      <g>\r\n       <use style=\"stroke:#000000;stroke-width:0.8;\" x=\"90.838125\" xlink:href=\"#md9ae84b320\" y=\"228.439219\"/>\r\n      </g>\r\n     </g>\r\n     <g id=\"text_1\">\r\n      <!-- logistic -->\r\n      <g transform=\"translate(73.123281 243.037656)scale(0.1 -0.1)\">\r\n       <defs>\r\n        <path d=\"M 9.421875 75.984375 \r\nL 18.40625 75.984375 \r\nL 18.40625 0 \r\nL 9.421875 0 \r\nz\r\n\" id=\"DejaVuSans-108\"/>\r\n        <path d=\"M 30.609375 48.390625 \r\nQ 23.390625 48.390625 19.1875 42.75 \r\nQ 14.984375 37.109375 14.984375 27.296875 \r\nQ 14.984375 17.484375 19.15625 11.84375 \r\nQ 23.34375 6.203125 30.609375 6.203125 \r\nQ 37.796875 6.203125 41.984375 11.859375 \r\nQ 46.1875 17.53125 46.1875 27.296875 \r\nQ 46.1875 37.015625 41.984375 42.703125 \r\nQ 37.796875 48.390625 30.609375 48.390625 \r\nz\r\nM 30.609375 56 \r\nQ 42.328125 56 49.015625 48.375 \r\nQ 55.71875 40.765625 55.71875 27.296875 \r\nQ 55.71875 13.875 49.015625 6.21875 \r\nQ 42.328125 -1.421875 30.609375 -1.421875 \r\nQ 18.84375 -1.421875 12.171875 6.21875 \r\nQ 5.515625 13.875 5.515625 27.296875 \r\nQ 5.515625 40.765625 12.171875 48.375 \r\nQ 18.84375 56 30.609375 56 \r\nz\r\n\" id=\"DejaVuSans-111\"/>\r\n        <path d=\"M 45.40625 27.984375 \r\nQ 45.40625 37.75 41.375 43.109375 \r\nQ 37.359375 48.484375 30.078125 48.484375 \r\nQ 22.859375 48.484375 18.828125 43.109375 \r\nQ 14.796875 37.75 14.796875 27.984375 \r\nQ 14.796875 18.265625 18.828125 12.890625 \r\nQ 22.859375 7.515625 30.078125 7.515625 \r\nQ 37.359375 7.515625 41.375 12.890625 \r\nQ 45.40625 18.265625 45.40625 27.984375 \r\nz\r\nM 54.390625 6.78125 \r\nQ 54.390625 -7.171875 48.1875 -13.984375 \r\nQ 42 -20.796875 29.203125 -20.796875 \r\nQ 24.46875 -20.796875 20.265625 -20.09375 \r\nQ 16.0625 -19.390625 12.109375 -17.921875 \r\nL 12.109375 -9.1875 \r\nQ 16.0625 -11.328125 19.921875 -12.34375 \r\nQ 23.78125 -13.375 27.78125 -13.375 \r\nQ 36.625 -13.375 41.015625 -8.765625 \r\nQ 45.40625 -4.15625 45.40625 5.171875 \r\nL 45.40625 9.625 \r\nQ 42.625 4.78125 38.28125 2.390625 \r\nQ 33.9375 0 27.875 0 \r\nQ 17.828125 0 11.671875 7.65625 \r\nQ 5.515625 15.328125 5.515625 27.984375 \r\nQ 5.515625 40.671875 11.671875 48.328125 \r\nQ 17.828125 56 27.875 56 \r\nQ 33.9375 56 38.28125 53.609375 \r\nQ 42.625 51.21875 45.40625 46.390625 \r\nL 45.40625 54.6875 \r\nL 54.390625 54.6875 \r\nz\r\n\" id=\"DejaVuSans-103\"/>\r\n        <path d=\"M 9.421875 54.6875 \r\nL 18.40625 54.6875 \r\nL 18.40625 0 \r\nL 9.421875 0 \r\nz\r\nM 9.421875 75.984375 \r\nL 18.40625 75.984375 \r\nL 18.40625 64.59375 \r\nL 9.421875 64.59375 \r\nz\r\n\" id=\"DejaVuSans-105\"/>\r\n        <path d=\"M 44.28125 53.078125 \r\nL 44.28125 44.578125 \r\nQ 40.484375 46.53125 36.375 47.5 \r\nQ 32.28125 48.484375 27.875 48.484375 \r\nQ 21.1875 48.484375 17.84375 46.4375 \r\nQ 14.5 44.390625 14.5 40.28125 \r\nQ 14.5 37.15625 16.890625 35.375 \r\nQ 19.28125 33.59375 26.515625 31.984375 \r\nL 29.59375 31.296875 \r\nQ 39.15625 29.25 43.1875 25.515625 \r\nQ 47.21875 21.78125 47.21875 15.09375 \r\nQ 47.21875 7.46875 41.1875 3.015625 \r\nQ 35.15625 -1.421875 24.609375 -1.421875 \r\nQ 20.21875 -1.421875 15.453125 -0.5625 \r\nQ 10.6875 0.296875 5.421875 2 \r\nL 5.421875 11.28125 \r\nQ 10.40625 8.6875 15.234375 7.390625 \r\nQ 20.0625 6.109375 24.8125 6.109375 \r\nQ 31.15625 6.109375 34.5625 8.28125 \r\nQ 37.984375 10.453125 37.984375 14.40625 \r\nQ 37.984375 18.0625 35.515625 20.015625 \r\nQ 33.0625 21.96875 24.703125 23.78125 \r\nL 21.578125 24.515625 \r\nQ 13.234375 26.265625 9.515625 29.90625 \r\nQ 5.8125 33.546875 5.8125 39.890625 \r\nQ 5.8125 47.609375 11.28125 51.796875 \r\nQ 16.75 56 26.8125 56 \r\nQ 31.78125 56 36.171875 55.265625 \r\nQ 40.578125 54.546875 44.28125 53.078125 \r\nz\r\n\" id=\"DejaVuSans-115\"/>\r\n        <path d=\"M 18.3125 70.21875 \r\nL 18.3125 54.6875 \r\nL 36.8125 54.6875 \r\nL 36.8125 47.703125 \r\nL 18.3125 47.703125 \r\nL 18.3125 18.015625 \r\nQ 18.3125 11.328125 20.140625 9.421875 \r\nQ 21.96875 7.515625 27.59375 7.515625 \r\nL 36.8125 7.515625 \r\nL 36.8125 0 \r\nL 27.59375 0 \r\nQ 17.1875 0 13.234375 3.875 \r\nQ 9.28125 7.765625 9.28125 18.015625 \r\nL 9.28125 47.703125 \r\nL 2.6875 47.703125 \r\nL 2.6875 54.6875 \r\nL 9.28125 54.6875 \r\nL 9.28125 70.21875 \r\nz\r\n\" id=\"DejaVuSans-116\"/>\r\n        <path d=\"M 48.78125 52.59375 \r\nL 48.78125 44.1875 \r\nQ 44.96875 46.296875 41.140625 47.34375 \r\nQ 37.3125 48.390625 33.40625 48.390625 \r\nQ 24.65625 48.390625 19.8125 42.84375 \r\nQ 14.984375 37.3125 14.984375 27.296875 \r\nQ 14.984375 17.28125 19.8125 11.734375 \r\nQ 24.65625 6.203125 33.40625 6.203125 \r\nQ 37.3125 6.203125 41.140625 7.25 \r\nQ 44.96875 8.296875 48.78125 10.40625 \r\nL 48.78125 2.09375 \r\nQ 45.015625 0.34375 40.984375 -0.53125 \r\nQ 36.96875 -1.421875 32.421875 -1.421875 \r\nQ 20.0625 -1.421875 12.78125 6.34375 \r\nQ 5.515625 14.109375 5.515625 27.296875 \r\nQ 5.515625 40.671875 12.859375 48.328125 \r\nQ 20.21875 56 33.015625 56 \r\nQ 37.15625 56 41.109375 55.140625 \r\nQ 45.0625 54.296875 48.78125 52.59375 \r\nz\r\n\" id=\"DejaVuSans-99\"/>\r\n       </defs>\r\n       <use xlink:href=\"#DejaVuSans-108\"/>\r\n       <use x=\"27.783203\" xlink:href=\"#DejaVuSans-111\"/>\r\n       <use x=\"88.964844\" xlink:href=\"#DejaVuSans-103\"/>\r\n       <use x=\"152.441406\" xlink:href=\"#DejaVuSans-105\"/>\r\n       <use x=\"180.224609\" xlink:href=\"#DejaVuSans-115\"/>\r\n       <use x=\"232.324219\" xlink:href=\"#DejaVuSans-116\"/>\r\n       <use x=\"271.533203\" xlink:href=\"#DejaVuSans-105\"/>\r\n       <use x=\"299.316406\" xlink:href=\"#DejaVuSans-99\"/>\r\n      </g>\r\n     </g>\r\n    </g>\r\n    <g id=\"xtick_2\">\r\n     <g id=\"line2d_2\">\r\n      <g>\r\n       <use style=\"stroke:#000000;stroke-width:0.8;\" x=\"224.758125\" xlink:href=\"#md9ae84b320\" y=\"228.439219\"/>\r\n      </g>\r\n     </g>\r\n     <g id=\"text_2\">\r\n      <!-- rf -->\r\n      <g transform=\"translate(220.9425 243.037656)scale(0.1 -0.1)\">\r\n       <defs>\r\n        <path d=\"M 41.109375 46.296875 \r\nQ 39.59375 47.171875 37.8125 47.578125 \r\nQ 36.03125 48 33.890625 48 \r\nQ 26.265625 48 22.1875 43.046875 \r\nQ 18.109375 38.09375 18.109375 28.8125 \r\nL 18.109375 0 \r\nL 9.078125 0 \r\nL 9.078125 54.6875 \r\nL 18.109375 54.6875 \r\nL 18.109375 46.1875 \r\nQ 20.953125 51.171875 25.484375 53.578125 \r\nQ 30.03125 56 36.53125 56 \r\nQ 37.453125 56 38.578125 55.875 \r\nQ 39.703125 55.765625 41.0625 55.515625 \r\nz\r\n\" id=\"DejaVuSans-114\"/>\r\n        <path d=\"M 37.109375 75.984375 \r\nL 37.109375 68.5 \r\nL 28.515625 68.5 \r\nQ 23.6875 68.5 21.796875 66.546875 \r\nQ 19.921875 64.59375 19.921875 59.515625 \r\nL 19.921875 54.6875 \r\nL 34.71875 54.6875 \r\nL 34.71875 47.703125 \r\nL 19.921875 47.703125 \r\nL 19.921875 0 \r\nL 10.890625 0 \r\nL 10.890625 47.703125 \r\nL 2.296875 47.703125 \r\nL 2.296875 54.6875 \r\nL 10.890625 54.6875 \r\nL 10.890625 58.5 \r\nQ 10.890625 67.625 15.140625 71.796875 \r\nQ 19.390625 75.984375 28.609375 75.984375 \r\nz\r\n\" id=\"DejaVuSans-102\"/>\r\n       </defs>\r\n       <use xlink:href=\"#DejaVuSans-114\"/>\r\n       <use x=\"41.113281\" xlink:href=\"#DejaVuSans-102\"/>\r\n      </g>\r\n     </g>\r\n    </g>\r\n   </g>\r\n   <g id=\"matplotlib.axis_2\">\r\n    <g id=\"ytick_1\">\r\n     <g id=\"line2d_3\">\r\n      <defs>\r\n       <path d=\"M 0 0 \r\nL -3.5 0 \r\n\" id=\"mdaa93d0c53\" style=\"stroke:#000000;stroke-width:0.8;\"/>\r\n      </defs>\r\n      <g>\r\n       <use style=\"stroke:#000000;stroke-width:0.8;\" x=\"23.878125\" xlink:href=\"#mdaa93d0c53\" y=\"65.359219\"/>\r\n      </g>\r\n     </g>\r\n     <g id=\"text_3\">\r\n      <!-- logistic -->\r\n      <g transform=\"translate(14.798437 96.989688)rotate(-90)scale(0.1 -0.1)\">\r\n       <use xlink:href=\"#DejaVuSans-108\"/>\r\n       <use x=\"27.783203\" xlink:href=\"#DejaVuSans-111\"/>\r\n       <use x=\"88.964844\" xlink:href=\"#DejaVuSans-103\"/>\r\n       <use x=\"152.441406\" xlink:href=\"#DejaVuSans-105\"/>\r\n       <use x=\"180.224609\" xlink:href=\"#DejaVuSans-115\"/>\r\n       <use x=\"232.324219\" xlink:href=\"#DejaVuSans-116\"/>\r\n       <use x=\"271.533203\" xlink:href=\"#DejaVuSans-105\"/>\r\n       <use x=\"299.316406\" xlink:href=\"#DejaVuSans-99\"/>\r\n      </g>\r\n     </g>\r\n    </g>\r\n    <g id=\"ytick_2\">\r\n     <g id=\"line2d_4\">\r\n      <g>\r\n       <use style=\"stroke:#000000;stroke-width:0.8;\" x=\"23.878125\" xlink:href=\"#mdaa93d0c53\" y=\"174.079219\"/>\r\n      </g>\r\n     </g>\r\n     <g id=\"text_4\">\r\n      <!-- rf -->\r\n      <g transform=\"translate(14.798438 177.91125)rotate(-90)scale(0.1 -0.1)\">\r\n       <use xlink:href=\"#DejaVuSans-114\"/>\r\n       <use x=\"41.113281\" xlink:href=\"#DejaVuSans-102\"/>\r\n      </g>\r\n     </g>\r\n    </g>\r\n   </g>\r\n  </g>\r\n  <g id=\"axes_2\">\r\n   <g id=\"patch_3\">\r\n    <path clip-path=\"url(#pf7af8857cd)\" d=\"M 308.458125 228.439219 \r\nL 308.458125 227.589844 \r\nL 308.458125 11.848594 \r\nL 308.458125 10.999219 \r\nL 319.330125 10.999219 \r\nL 319.330125 11.848594 \r\nL 319.330125 227.589844 \r\nL 319.330125 228.439219 \r\nz\r\n\" style=\"fill:#ffffff;stroke:#ffffff;stroke-linejoin:miter;stroke-width:0.01;\"/>\r\n   </g>\r\n   <image height=\"217\" id=\"image977d261860\" transform=\"scale(1 -1)translate(0 -217)\" width=\"11\" x=\"308\" xlink:href=\"data:image/png;base64,\r\niVBORw0KGgoAAAANSUhEUgAAAAsAAADZCAYAAAD2WsoCAAABX0lEQVR4nNWa2w0DMQjAeN0S3X/OXlfAH5ZovhEyhqS5qDnP543lmszcxtLgAMFdJWUurcAiGCgzsuFhHPHc6dk4MXWoQLEpNzKb7dZsaBgTaDb2y5wNrd0QY7/Mk58EjzZIzIbXbm9brUPp8HvqoA2AIarTmJGNI8wIg+1ukpkVuP48+FsbJJjY8DDmBgZrN2EehHHEhoYx7z61uAfrBgaykWExwwIBRjNmEgxEi+oSnAXTJLhIMMKAmdexMV1fKbNYIDjsGHM1sAGZAQZSJ9oYbTYQs6auwFWGYYQ3G14wuPeQxx6qjmUGN3OWGdwLJgiGx8wwwM8mzEyeLFBmGEze6zQbQZ4NPRtJbES3hIGa4nnO0QoU200yoz0IPnlVG6SDHgaywc461EFLHdzdGoZXIMrcaPhvMLN2o3nWNmzemDrRBinwxvBnP1Jmc/iJZ9Ju9C+LKwWydmtnnVXgD2R4KiPLLY7SAAAAAElFTkSuQmCC\" y=\"-11\"/>\r\n   <g id=\"matplotlib.axis_3\"/>\r\n   <g id=\"matplotlib.axis_4\">\r\n    <g id=\"ytick_3\">\r\n     <g id=\"line2d_5\">\r\n      <defs>\r\n       <path d=\"M 0 0 \r\nL 3.5 0 \r\n\" id=\"mab83775db9\" style=\"stroke:#000000;stroke-width:0.8;\"/>\r\n      </defs>\r\n      <g>\r\n       <use style=\"stroke:#000000;stroke-width:0.8;\" x=\"319.330125\" xlink:href=\"#mab83775db9\" y=\"210.221635\"/>\r\n      </g>\r\n     </g>\r\n     <g id=\"text_5\">\r\n      <!-- 0.90 -->\r\n      <g transform=\"translate(326.330125 214.020854)scale(0.1 -0.1)\">\r\n       <defs>\r\n        <path d=\"M 31.78125 66.40625 \r\nQ 24.171875 66.40625 20.328125 58.90625 \r\nQ 16.5 51.421875 16.5 36.375 \r\nQ 16.5 21.390625 20.328125 13.890625 \r\nQ 24.171875 6.390625 31.78125 6.390625 \r\nQ 39.453125 6.390625 43.28125 13.890625 \r\nQ 47.125 21.390625 47.125 36.375 \r\nQ 47.125 51.421875 43.28125 58.90625 \r\nQ 39.453125 66.40625 31.78125 66.40625 \r\nz\r\nM 31.78125 74.21875 \r\nQ 44.046875 74.21875 50.515625 64.515625 \r\nQ 56.984375 54.828125 56.984375 36.375 \r\nQ 56.984375 17.96875 50.515625 8.265625 \r\nQ 44.046875 -1.421875 31.78125 -1.421875 \r\nQ 19.53125 -1.421875 13.0625 8.265625 \r\nQ 6.59375 17.96875 6.59375 36.375 \r\nQ 6.59375 54.828125 13.0625 64.515625 \r\nQ 19.53125 74.21875 31.78125 74.21875 \r\nz\r\n\" id=\"DejaVuSans-48\"/>\r\n        <path d=\"M 10.6875 12.40625 \r\nL 21 12.40625 \r\nL 21 0 \r\nL 10.6875 0 \r\nz\r\n\" id=\"DejaVuSans-46\"/>\r\n        <path d=\"M 10.984375 1.515625 \r\nL 10.984375 10.5 \r\nQ 14.703125 8.734375 18.5 7.8125 \r\nQ 22.3125 6.890625 25.984375 6.890625 \r\nQ 35.75 6.890625 40.890625 13.453125 \r\nQ 46.046875 20.015625 46.78125 33.40625 \r\nQ 43.953125 29.203125 39.59375 26.953125 \r\nQ 35.25 24.703125 29.984375 24.703125 \r\nQ 19.046875 24.703125 12.671875 31.3125 \r\nQ 6.296875 37.9375 6.296875 49.421875 \r\nQ 6.296875 60.640625 12.9375 67.421875 \r\nQ 19.578125 74.21875 30.609375 74.21875 \r\nQ 43.265625 74.21875 49.921875 64.515625 \r\nQ 56.59375 54.828125 56.59375 36.375 \r\nQ 56.59375 19.140625 48.40625 8.859375 \r\nQ 40.234375 -1.421875 26.421875 -1.421875 \r\nQ 22.703125 -1.421875 18.890625 -0.6875 \r\nQ 15.09375 0.046875 10.984375 1.515625 \r\nz\r\nM 30.609375 32.421875 \r\nQ 37.25 32.421875 41.125 36.953125 \r\nQ 45.015625 41.5 45.015625 49.421875 \r\nQ 45.015625 57.28125 41.125 61.84375 \r\nQ 37.25 66.40625 30.609375 66.40625 \r\nQ 23.96875 66.40625 20.09375 61.84375 \r\nQ 16.21875 57.28125 16.21875 49.421875 \r\nQ 16.21875 41.5 20.09375 36.953125 \r\nQ 23.96875 32.421875 30.609375 32.421875 \r\nz\r\n\" id=\"DejaVuSans-57\"/>\r\n       </defs>\r\n       <use xlink:href=\"#DejaVuSans-48\"/>\r\n       <use x=\"63.623047\" xlink:href=\"#DejaVuSans-46\"/>\r\n       <use x=\"95.410156\" xlink:href=\"#DejaVuSans-57\"/>\r\n       <use x=\"159.033203\" xlink:href=\"#DejaVuSans-48\"/>\r\n      </g>\r\n     </g>\r\n    </g>\r\n    <g id=\"ytick_4\">\r\n     <g id=\"line2d_6\">\r\n      <g>\r\n       <use style=\"stroke:#000000;stroke-width:0.8;\" x=\"319.330125\" xlink:href=\"#mab83775db9\" y=\"170.377152\"/>\r\n      </g>\r\n     </g>\r\n     <g id=\"text_6\">\r\n      <!-- 0.92 -->\r\n      <g transform=\"translate(326.330125 174.17637)scale(0.1 -0.1)\">\r\n       <defs>\r\n        <path d=\"M 19.1875 8.296875 \r\nL 53.609375 8.296875 \r\nL 53.609375 0 \r\nL 7.328125 0 \r\nL 7.328125 8.296875 \r\nQ 12.9375 14.109375 22.625 23.890625 \r\nQ 32.328125 33.6875 34.8125 36.53125 \r\nQ 39.546875 41.84375 41.421875 45.53125 \r\nQ 43.3125 49.21875 43.3125 52.78125 \r\nQ 43.3125 58.59375 39.234375 62.25 \r\nQ 35.15625 65.921875 28.609375 65.921875 \r\nQ 23.96875 65.921875 18.8125 64.3125 \r\nQ 13.671875 62.703125 7.8125 59.421875 \r\nL 7.8125 69.390625 \r\nQ 13.765625 71.78125 18.9375 73 \r\nQ 24.125 74.21875 28.421875 74.21875 \r\nQ 39.75 74.21875 46.484375 68.546875 \r\nQ 53.21875 62.890625 53.21875 53.421875 \r\nQ 53.21875 48.921875 51.53125 44.890625 \r\nQ 49.859375 40.875 45.40625 35.40625 \r\nQ 44.1875 33.984375 37.640625 27.21875 \r\nQ 31.109375 20.453125 19.1875 8.296875 \r\nz\r\n\" id=\"DejaVuSans-50\"/>\r\n       </defs>\r\n       <use xlink:href=\"#DejaVuSans-48\"/>\r\n       <use x=\"63.623047\" xlink:href=\"#DejaVuSans-46\"/>\r\n       <use x=\"95.410156\" xlink:href=\"#DejaVuSans-57\"/>\r\n       <use x=\"159.033203\" xlink:href=\"#DejaVuSans-50\"/>\r\n      </g>\r\n     </g>\r\n    </g>\r\n    <g id=\"ytick_5\">\r\n     <g id=\"line2d_7\">\r\n      <g>\r\n       <use style=\"stroke:#000000;stroke-width:0.8;\" x=\"319.330125\" xlink:href=\"#mab83775db9\" y=\"130.532668\"/>\r\n      </g>\r\n     </g>\r\n     <g id=\"text_7\">\r\n      <!-- 0.94 -->\r\n      <g transform=\"translate(326.330125 134.331887)scale(0.1 -0.1)\">\r\n       <defs>\r\n        <path d=\"M 37.796875 64.3125 \r\nL 12.890625 25.390625 \r\nL 37.796875 25.390625 \r\nz\r\nM 35.203125 72.90625 \r\nL 47.609375 72.90625 \r\nL 47.609375 25.390625 \r\nL 58.015625 25.390625 \r\nL 58.015625 17.1875 \r\nL 47.609375 17.1875 \r\nL 47.609375 0 \r\nL 37.796875 0 \r\nL 37.796875 17.1875 \r\nL 4.890625 17.1875 \r\nL 4.890625 26.703125 \r\nz\r\n\" id=\"DejaVuSans-52\"/>\r\n       </defs>\r\n       <use xlink:href=\"#DejaVuSans-48\"/>\r\n       <use x=\"63.623047\" xlink:href=\"#DejaVuSans-46\"/>\r\n       <use x=\"95.410156\" xlink:href=\"#DejaVuSans-57\"/>\r\n       <use x=\"159.033203\" xlink:href=\"#DejaVuSans-52\"/>\r\n      </g>\r\n     </g>\r\n    </g>\r\n    <g id=\"ytick_6\">\r\n     <g id=\"line2d_8\">\r\n      <g>\r\n       <use style=\"stroke:#000000;stroke-width:0.8;\" x=\"319.330125\" xlink:href=\"#mab83775db9\" y=\"90.688185\"/>\r\n      </g>\r\n     </g>\r\n     <g id=\"text_8\">\r\n      <!-- 0.96 -->\r\n      <g transform=\"translate(326.330125 94.487404)scale(0.1 -0.1)\">\r\n       <defs>\r\n        <path d=\"M 33.015625 40.375 \r\nQ 26.375 40.375 22.484375 35.828125 \r\nQ 18.609375 31.296875 18.609375 23.390625 \r\nQ 18.609375 15.53125 22.484375 10.953125 \r\nQ 26.375 6.390625 33.015625 6.390625 \r\nQ 39.65625 6.390625 43.53125 10.953125 \r\nQ 47.40625 15.53125 47.40625 23.390625 \r\nQ 47.40625 31.296875 43.53125 35.828125 \r\nQ 39.65625 40.375 33.015625 40.375 \r\nz\r\nM 52.59375 71.296875 \r\nL 52.59375 62.3125 \r\nQ 48.875 64.0625 45.09375 64.984375 \r\nQ 41.3125 65.921875 37.59375 65.921875 \r\nQ 27.828125 65.921875 22.671875 59.328125 \r\nQ 17.53125 52.734375 16.796875 39.40625 \r\nQ 19.671875 43.65625 24.015625 45.921875 \r\nQ 28.375 48.1875 33.59375 48.1875 \r\nQ 44.578125 48.1875 50.953125 41.515625 \r\nQ 57.328125 34.859375 57.328125 23.390625 \r\nQ 57.328125 12.15625 50.6875 5.359375 \r\nQ 44.046875 -1.421875 33.015625 -1.421875 \r\nQ 20.359375 -1.421875 13.671875 8.265625 \r\nQ 6.984375 17.96875 6.984375 36.375 \r\nQ 6.984375 53.65625 15.1875 63.9375 \r\nQ 23.390625 74.21875 37.203125 74.21875 \r\nQ 40.921875 74.21875 44.703125 73.484375 \r\nQ 48.484375 72.75 52.59375 71.296875 \r\nz\r\n\" id=\"DejaVuSans-54\"/>\r\n       </defs>\r\n       <use xlink:href=\"#DejaVuSans-48\"/>\r\n       <use x=\"63.623047\" xlink:href=\"#DejaVuSans-46\"/>\r\n       <use x=\"95.410156\" xlink:href=\"#DejaVuSans-57\"/>\r\n       <use x=\"159.033203\" xlink:href=\"#DejaVuSans-54\"/>\r\n      </g>\r\n     </g>\r\n    </g>\r\n    <g id=\"ytick_7\">\r\n     <g id=\"line2d_9\">\r\n      <g>\r\n       <use style=\"stroke:#000000;stroke-width:0.8;\" x=\"319.330125\" xlink:href=\"#mab83775db9\" y=\"50.843702\"/>\r\n      </g>\r\n     </g>\r\n     <g id=\"text_9\">\r\n      <!-- 0.98 -->\r\n      <g transform=\"translate(326.330125 54.642921)scale(0.1 -0.1)\">\r\n       <defs>\r\n        <path d=\"M 31.78125 34.625 \r\nQ 24.75 34.625 20.71875 30.859375 \r\nQ 16.703125 27.09375 16.703125 20.515625 \r\nQ 16.703125 13.921875 20.71875 10.15625 \r\nQ 24.75 6.390625 31.78125 6.390625 \r\nQ 38.8125 6.390625 42.859375 10.171875 \r\nQ 46.921875 13.96875 46.921875 20.515625 \r\nQ 46.921875 27.09375 42.890625 30.859375 \r\nQ 38.875 34.625 31.78125 34.625 \r\nz\r\nM 21.921875 38.8125 \r\nQ 15.578125 40.375 12.03125 44.71875 \r\nQ 8.5 49.078125 8.5 55.328125 \r\nQ 8.5 64.0625 14.71875 69.140625 \r\nQ 20.953125 74.21875 31.78125 74.21875 \r\nQ 42.671875 74.21875 48.875 69.140625 \r\nQ 55.078125 64.0625 55.078125 55.328125 \r\nQ 55.078125 49.078125 51.53125 44.71875 \r\nQ 48 40.375 41.703125 38.8125 \r\nQ 48.828125 37.15625 52.796875 32.3125 \r\nQ 56.78125 27.484375 56.78125 20.515625 \r\nQ 56.78125 9.90625 50.3125 4.234375 \r\nQ 43.84375 -1.421875 31.78125 -1.421875 \r\nQ 19.734375 -1.421875 13.25 4.234375 \r\nQ 6.78125 9.90625 6.78125 20.515625 \r\nQ 6.78125 27.484375 10.78125 32.3125 \r\nQ 14.796875 37.15625 21.921875 38.8125 \r\nz\r\nM 18.3125 54.390625 \r\nQ 18.3125 48.734375 21.84375 45.5625 \r\nQ 25.390625 42.390625 31.78125 42.390625 \r\nQ 38.140625 42.390625 41.71875 45.5625 \r\nQ 45.3125 48.734375 45.3125 54.390625 \r\nQ 45.3125 60.0625 41.71875 63.234375 \r\nQ 38.140625 66.40625 31.78125 66.40625 \r\nQ 25.390625 66.40625 21.84375 63.234375 \r\nQ 18.3125 60.0625 18.3125 54.390625 \r\nz\r\n\" id=\"DejaVuSans-56\"/>\r\n       </defs>\r\n       <use xlink:href=\"#DejaVuSans-48\"/>\r\n       <use x=\"63.623047\" xlink:href=\"#DejaVuSans-46\"/>\r\n       <use x=\"95.410156\" xlink:href=\"#DejaVuSans-57\"/>\r\n       <use x=\"159.033203\" xlink:href=\"#DejaVuSans-56\"/>\r\n      </g>\r\n     </g>\r\n    </g>\r\n    <g id=\"ytick_8\">\r\n     <g id=\"line2d_10\">\r\n      <g>\r\n       <use style=\"stroke:#000000;stroke-width:0.8;\" x=\"319.330125\" xlink:href=\"#mab83775db9\" y=\"10.999219\"/>\r\n      </g>\r\n     </g>\r\n     <g id=\"text_10\">\r\n      <!-- 1.00 -->\r\n      <g transform=\"translate(326.330125 14.798438)scale(0.1 -0.1)\">\r\n       <defs>\r\n        <path d=\"M 12.40625 8.296875 \r\nL 28.515625 8.296875 \r\nL 28.515625 63.921875 \r\nL 10.984375 60.40625 \r\nL 10.984375 69.390625 \r\nL 28.421875 72.90625 \r\nL 38.28125 72.90625 \r\nL 38.28125 8.296875 \r\nL 54.390625 8.296875 \r\nL 54.390625 0 \r\nL 12.40625 0 \r\nz\r\n\" id=\"DejaVuSans-49\"/>\r\n       </defs>\r\n       <use xlink:href=\"#DejaVuSans-49\"/>\r\n       <use x=\"63.623047\" xlink:href=\"#DejaVuSans-46\"/>\r\n       <use x=\"95.410156\" xlink:href=\"#DejaVuSans-48\"/>\r\n       <use x=\"159.033203\" xlink:href=\"#DejaVuSans-48\"/>\r\n      </g>\r\n     </g>\r\n    </g>\r\n   </g>\r\n   <g id=\"patch_4\">\r\n    <path d=\"M 308.458125 228.439219 \r\nL 308.458125 227.589844 \r\nL 308.458125 11.848594 \r\nL 308.458125 10.999219 \r\nL 319.330125 10.999219 \r\nL 319.330125 11.848594 \r\nL 319.330125 227.589844 \r\nL 319.330125 228.439219 \r\nz\r\n\" style=\"fill:none;\"/>\r\n   </g>\r\n  </g>\r\n </g>\r\n <defs>\r\n  <clipPath id=\"p826895d464\">\r\n   <rect height=\"217.44\" width=\"267.84\" x=\"23.878125\" y=\"10.999219\"/>\r\n  </clipPath>\r\n  <clipPath id=\"pf7af8857cd\">\r\n   <rect height=\"217.44\" width=\"10.872\" x=\"308.458125\" y=\"10.999219\"/>\r\n  </clipPath>\r\n </defs>\r\n</svg>\r\n",
                        "text/plain": [
                            "<Figure size 432x288 with 2 Axes>"
                        ]
                    },
                    "metadata": {
                        "needs_background": "light"
                    }
                }
            ],
            "metadata": {}
        },
        {
            "cell_type": "markdown",
            "source": [
                "可以看到两种分类模型得到的结果相关性很强。还是尝试一下融合，考虑到两个模型相关性较高，另一方面分类结果得分也很相近，认为效果基本一致，所以融合取平均。"
            ],
            "metadata": {}
        },
        {
            "cell_type": "code",
            "execution_count": 58,
            "source": [
                "n_col = (n_df.rf + n_df.logistic).values/2\r\n",
                "ensemble_result = [int(i>=0.5) for i in n_col]\r\n",
                "\r\n"
            ],
            "outputs": [],
            "metadata": {}
        },
        {
            "cell_type": "code",
            "execution_count": 60,
            "source": [
                "temp=pd.read_csv('test.csv')\r\n",
                "submission={'PassengerId':temp.PassengerId,'Survived':ensemble_result}\r\n",
                "df_submission=pd.DataFrame(submission)\r\n",
                "df_submission.to_csv('ensemble_submission8.csv')"
            ],
            "outputs": [],
            "metadata": {}
        }
    ],
    "metadata": {
        "orig_nbformat": 4,
        "language_info": {
            "name": "python",
            "version": "3.6.13",
            "mimetype": "text/x-python",
            "codemirror_mode": {
                "name": "ipython",
                "version": 3
            },
            "pygments_lexer": "ipython3",
            "nbconvert_exporter": "python",
            "file_extension": ".py"
        },
        "kernelspec": {
            "name": "python3",
            "display_name": "Python 3.6.13 64-bit ('python36': conda)"
        },
        "interpreter": {
            "hash": "c4ba2975249f22329a2bfd4358de00082d7a2d8b97caacaf84290d52b0d66844"
        }
    },
    "nbformat": 4,
    "nbformat_minor": 2
}